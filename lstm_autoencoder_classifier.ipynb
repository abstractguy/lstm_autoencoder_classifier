{
  "nbformat": 4,
  "nbformat_minor": 0,
  "metadata": {
    "kernelspec": {
      "name": "python3",
      "display_name": "Python 3"
    },
    "language_info": {
      "codemirror_mode": {
        "name": "ipython",
        "version": 3
      },
      "file_extension": ".py",
      "mimetype": "text/x-python",
      "name": "python",
      "nbconvert_exporter": "python",
      "pygments_lexer": "ipython3",
      "version": "3.7.1"
    },
    "colab": {
      "name": "lstm_autoencoder_classifier.ipynb",
      "version": "0.3.2",
      "provenance": [],
      "collapsed_sections": [],
      "include_colab_link": true
    },
    "accelerator": "TPU"
  },
  "cells": [
    {
      "cell_type": "markdown",
      "metadata": {
        "id": "view-in-github",
        "colab_type": "text"
      },
      "source": [
        "<a href=\"https://colab.research.google.com/github/abstractguy/lstm_autoencoder_classifier/blob/master/lstm_autoencoder_classifier.ipynb\" target=\"_parent\"><img src=\"https://colab.research.google.com/assets/colab-badge.svg\" alt=\"Open In Colab\"/></a>"
      ]
    },
    {
      "cell_type": "markdown",
      "metadata": {
        "id": "kZOZmPmIyyxr",
        "colab_type": "text"
      },
      "source": [
        "# LSTM Autoencoder for Rare Event Binary Classification\n",
        "\n",
        "This is a continuation of the regular autoencoder for rare event classification presented in\n",
        "https://towardsdatascience.com/extreme-rare-event-classification-using-autoencoders-in-keras-a565b386f098\n",
        "and code present in\n",
        "https://github.com/cran2367/autoencoder_classifier/blob/master/autoencoder_classifier.ipynb\n",
        "Here we will show an implementation of building a binary classifier using LSTM Autoencoders. \n",
        "Similar to the previous post, the purpose is to show the implementation steps. The Autoencoder tuning for performance improvement can be done.\n",
        "\n",
        "LSTM requires closer attention to preparing the data. Here we have all the steps, and few tests to validate the data preparation.\n",
        "\n",
        "The dataset used here is taken from here,\n",
        "\n",
        "**Dataset: Rare Event Classification in Multivariate Time Series** https://arxiv.org/abs/1809.10717 (please cite this article, if using the dataset)."
      ]
    },
    {
      "cell_type": "code",
      "metadata": {
        "id": "HbEkEbD3EOpI",
        "colab_type": "code",
        "colab": {}
      },
      "source": [
        "# Hardcode sizes parameters.\n",
        "main_ticker = 'FB'\n",
        "tickers_list = ['INTC', 'AAPL', 'NVDA', 'CSCO', 'AMD', 'AMZN', 'GOOG', 'MSFT', 'S', 'BAC', 'XLNX', 'WFC', '^DJI', '^GSPC', '^NYA', '^IXIC']\n",
        "#tickers_list = []\n",
        "trends = True\n",
        "epochs = 100\n",
        "batch = 32\n",
        "learning_rate = 0.00055\n",
        "random_seed = 123 # Used to help randomly select the data points.\n",
        "test_size = 0.2"
      ],
      "execution_count": 0,
      "outputs": []
    },
    {
      "cell_type": "code",
      "metadata": {
        "id": "MIaFe10aEU8k",
        "colab_type": "code",
        "outputId": "d93d687f-4603-476c-a10d-75cd01307e2a",
        "colab": {
          "base_uri": "https://localhost:8080/",
          "height": 293
        }
      },
      "source": [
        "!pip install pytrends"
      ],
      "execution_count": 2,
      "outputs": [
        {
          "output_type": "stream",
          "text": [
            "Collecting pytrends\n",
            "  Downloading https://files.pythonhosted.org/packages/c7/ca/bf9ed973416290270c9aea8f8b3cf7e75a2280918838a4bea4067019ef11/pytrends-4.6.0-py3-none-any.whl\n",
            "Requirement already satisfied: lxml in /usr/local/lib/python3.6/dist-packages (from pytrends) (4.2.6)\n",
            "Requirement already satisfied: requests in /usr/local/lib/python3.6/dist-packages (from pytrends) (2.21.0)\n",
            "Requirement already satisfied: pandas in /usr/local/lib/python3.6/dist-packages (from pytrends) (0.24.2)\n",
            "Requirement already satisfied: urllib3<1.25,>=1.21.1 in /usr/local/lib/python3.6/dist-packages (from requests->pytrends) (1.24.3)\n",
            "Requirement already satisfied: certifi>=2017.4.17 in /usr/local/lib/python3.6/dist-packages (from requests->pytrends) (2019.6.16)\n",
            "Requirement already satisfied: idna<2.9,>=2.5 in /usr/local/lib/python3.6/dist-packages (from requests->pytrends) (2.8)\n",
            "Requirement already satisfied: chardet<3.1.0,>=3.0.2 in /usr/local/lib/python3.6/dist-packages (from requests->pytrends) (3.0.4)\n",
            "Requirement already satisfied: pytz>=2011k in /usr/local/lib/python3.6/dist-packages (from pandas->pytrends) (2018.9)\n",
            "Requirement already satisfied: python-dateutil>=2.5.0 in /usr/local/lib/python3.6/dist-packages (from pandas->pytrends) (2.5.3)\n",
            "Requirement already satisfied: numpy>=1.12.0 in /usr/local/lib/python3.6/dist-packages (from pandas->pytrends) (1.16.4)\n",
            "Requirement already satisfied: six>=1.5 in /usr/local/lib/python3.6/dist-packages (from python-dateutil>=2.5.0->pandas->pytrends) (1.12.0)\n",
            "Installing collected packages: pytrends\n",
            "Successfully installed pytrends-4.6.0\n"
          ],
          "name": "stdout"
        }
      ]
    },
    {
      "cell_type": "code",
      "metadata": {
        "id": "mJuuvLMCEVuc",
        "colab_type": "code",
        "outputId": "bf28565e-4256-4f07-9ca9-e910a26c28dd",
        "colab": {
          "base_uri": "https://localhost:8080/",
          "height": 35
        }
      },
      "source": [
        "%matplotlib inline\n",
        "\n",
        "from collections import OrderedDict\n",
        "from math import sqrt\n",
        "from os import chdir\n",
        "from os.path import exists\n",
        "from datetime import datetime\n",
        "from tqdm import tqdm\n",
        "from numpy.random import seed\n",
        "from numpy import append, array, concatenate, count_nonzero, empty, empty_like, expand_dims, mean, nan, power, var, where, zeros\n",
        "from pandas import concat, DataFrame, date_range, read_csv, Series\n",
        "from pandas_datareader.data import DataReader\n",
        "from sklearn.model_selection import train_test_split\n",
        "from sklearn.preprocessing import MinMaxScaler, StandardScaler\n",
        "from sklearn.metrics import auc, classification_report, confusion_matrix, f1_score, mean_squared_error, precision_recall_curve, precision_recall_fscore_support, recall_score, roc_curve\n",
        "from tensorflow import set_random_seed\n",
        "from keras.preprocessing.sequence import TimeseriesGenerator\n",
        "from keras.models import load_model, Model, Sequential\n",
        "from keras.layers import Dense, Dropout, LSTM, RepeatVector, TimeDistributed\n",
        "from keras.callbacks import ModelCheckpoint, ReduceLROnPlateau, TensorBoard, TerminateOnNaN\n",
        "from keras.optimizers import Adam\n",
        "from keras.utils import plot_model\n",
        "from keras import optimizers, Sequential\n",
        "from google.colab.drive import mount\n",
        "from tensorboardcolab import TensorBoardColab, TensorBoardColabCallback\n",
        "from pytrends.request import TrendReq\n",
        "from pylab import rcParams\n",
        "\n",
        "import matplotlib.pyplot as plt\n",
        "import seaborn as sns"
      ],
      "execution_count": 3,
      "outputs": [
        {
          "output_type": "stream",
          "text": [
            "Using TensorFlow backend.\n"
          ],
          "name": "stderr"
        }
      ]
    },
    {
      "cell_type": "code",
      "metadata": {
        "id": "s9PfXIoazLPd",
        "colab_type": "code",
        "colab": {}
      },
      "source": [
        "path = '/content/gdrive/'\n",
        "mount(path)\n",
        "path = path + 'My Drive/LSTM_autoencoder/'\n",
        "chdir(path)"
      ],
      "execution_count": 0,
      "outputs": []
    },
    {
      "cell_type": "code",
      "metadata": {
        "id": "koUXcR8eCYt6",
        "colab_type": "code",
        "colab": {}
      },
      "source": [
        "sign = lambda x: (1, -1)[x < 0]\n",
        "\n",
        "def curve_shift(df, shift_by):\n",
        "    '''\n",
        "    This function will shift the binary labels in a dataframe.\n",
        "    The curve shift will be with respect to the 1s. \n",
        "    For example, if shift is -2, the following process\n",
        "    will happen: if row n is labeled as 1, then\n",
        "    - Make row (n+shift_by):(n+shift_by-1) = 1.\n",
        "    - Remove row n.\n",
        "    i.e. the labels will be shifted up to 2 rows up.\n",
        "    \n",
        "    Inputs:\n",
        "    df       A pandas dataframe with a binary labeled column. \n",
        "             This labeled column should be named as 'y'.\n",
        "    shift_by An integer denoting the number of rows to shift.\n",
        "    \n",
        "    Output\n",
        "    df       A dataframe with the binary labels shifted by shift.\n",
        "    '''\n",
        "\n",
        "    vector = df['y'].copy()\n",
        "    for s in range(abs(shift_by)):\n",
        "        tmp = vector.shift(sign(shift_by))\n",
        "        tmp = tmp.fillna(0)\n",
        "        vector += tmp\n",
        "    labelcol = 'y'\n",
        "    # Add vector to the df.\n",
        "    df.insert(loc=0, column=labelcol+'tmp', value=vector)\n",
        "    # Remove the rows with labelcol == 1.\n",
        "    df = df.drop(df[df[labelcol] == 1].index)\n",
        "    # Drop labelcol and rename the tmp col as labelcol.\n",
        "    df = df.drop(labelcol, axis=1)\n",
        "    df = df.rename(columns={labelcol+'tmp': labelcol})\n",
        "    # Make the labelcol binary.\n",
        "    df.loc[df[labelcol] > 0, labelcol] = 1\n",
        "\n",
        "    return df\n",
        "\n",
        "def add_ticker_to_tickers(symbol, ticker, tickers):\n",
        "    minimum_date = ticker.index.min()\n",
        "    overall_minimum_date = tickers.index.min()\n",
        "    if minimum_date > overall_minimum_date:\n",
        "        start = overall_minimum_date\n",
        "        tickers = tickers[tickers.index >= minimum_date]\n",
        "\n",
        "    tickers[symbol][tickers.index.isin(ticker.index)] = ticker\n",
        "\n",
        "    return tickers\n",
        "\n",
        "def get_stock(symbols, path=path, trends=True):\n",
        "    csv_path = path + 'dataset.csv'\n",
        "\n",
        "    if exists(csv_path):\n",
        "        tickers = read_csv(csv_path)\n",
        "    else:\n",
        "        start = datetime(1970, 1, 1)\n",
        "        end = datetime.now()\n",
        "        dates = date_range(start=start, end=end)\n",
        "        columns = concatenate([symbols, [(symbol + '_trend') for symbol in symbols]]) if trends else symbols\n",
        "        tickers = DataFrame(nan, index=dates, columns=columns)\n",
        "        tickers.index.name = 'Date'\n",
        "        if trends:\n",
        "            pytrends = TrendReq(hl='en-US', tz=360)\n",
        "\n",
        "        for symbol in tqdm(symbols, unit='symbol'):\n",
        "            try:\n",
        "                ticker = DataReader(symbol, 'yahoo', start=start, end=end)\n",
        "                ticker = (ticker.Close / ticker.Open).dropna()\n",
        "                tickers = add_ticker_to_tickers(symbol, ticker, tickers)\n",
        "                if trends:\n",
        "                    pytrends.build_payload([symbol], timeframe='today 5-y')\n",
        "                    ticker = pytrends.interest_over_time()[symbol]\n",
        "                    tickers = add_ticker_to_tickers(symbol + '_trend', ticker, tickers)\n",
        "            except:\n",
        "                pass\n",
        "\n",
        "        tickers = tickers.fillna(method='backfill')\n",
        "\n",
        "        tickers.to_csv(csv_path)\n",
        "\n",
        "    return tickers\n",
        "\n",
        "def plot_dataset(dataset):\n",
        "    plt.plot(dataset)\n",
        "    plt.xlabel('Days')\n",
        "    plt.ylabel('Derivatives')\n",
        "    plt.show()\n",
        "\n",
        "def get_y_from_generator(generator):\n",
        "    \"\"\"Get all targets y from a TimeseriesGenerator instance.\"\"\"\n",
        "    y = None\n",
        "\n",
        "    for i in range(len(generator)):\n",
        "        batch_y = generator[i][1]\n",
        "\n",
        "        if y is None:\n",
        "            y = batch_y\n",
        "        else:\n",
        "            y = append(y, batch_y)\n",
        "\n",
        "    y = y.reshape((-1, 1))\n",
        "    print(y.shape)\n",
        "    return y\n",
        "\n",
        "def binary_accuracy(a, b, name='training'):\n",
        "    \"\"\"Helper function to compute the match score of two binary numpy arrays.\"\"\"\n",
        "    a = a[:,0] > 0\n",
        "    b = b[:,0] > 0\n",
        "    assert len(a) == len(b)\n",
        "    print('Binary accuracy (' + name + ' data):', (a == b).sum() / len(a))\n",
        "\n",
        "def compute_units(X_train):\n",
        "    sample_size, feature_size = X_train.shape\n",
        "    units = int(((sample_size / unit_scaler) / length) - feature_size)\n",
        "    print('Units:', units)\n",
        "    return units"
      ],
      "execution_count": 0,
      "outputs": []
    },
    {
      "cell_type": "code",
      "metadata": {
        "id": "HQ1ce3K4Cfbl",
        "colab_type": "code",
        "outputId": "e7ec428b-0066-49d2-81f8-cc349dd20302",
        "colab": {
          "base_uri": "https://localhost:8080/",
          "height": 274
        }
      },
      "source": [
        "tickers_list = [main_ticker] + tickers_list\n",
        "tickers_list = list(OrderedDict((ticker, True) for ticker in tickers_list).keys())\n",
        "dataset = get_stock(tickers_list, trends=trends).dropna()"
      ],
      "execution_count": 6,
      "outputs": [
        {
          "output_type": "stream",
          "text": [
            "\r  0%|          | 0/17 [00:00<?, ?symbol/s]/usr/local/lib/python3.6/dist-packages/pandas/core/generic.py:8682: SettingWithCopyWarning: \n",
            "A value is trying to be set on a copy of a slice from a DataFrame\n",
            "\n",
            "See the caveats in the documentation: http://pandas.pydata.org/pandas-docs/stable/indexing.html#indexing-view-versus-copy\n",
            "  self._update_inplace(new_data)\n",
            "/usr/local/lib/python3.6/dist-packages/ipykernel_launcher.py:70: SettingWithCopyWarning: \n",
            "A value is trying to be set on a copy of a slice from a DataFrame\n",
            "\n",
            "See the caveats in the documentation: http://pandas.pydata.org/pandas-docs/stable/indexing.html#indexing-view-versus-copy\n",
            "/usr/local/lib/python3.6/dist-packages/ipykernel_launcher.py:74: SettingWithCopyWarning: \n",
            "A value is trying to be set on a copy of a slice from a DataFrame\n",
            "\n",
            "See the caveats in the documentation: http://pandas.pydata.org/pandas-docs/stable/indexing.html#indexing-view-versus-copy\n",
            "100%|██████████| 17/17 [00:39<00:00,  2.26s/symbol]\n"
          ],
          "name": "stderr"
        }
      ]
    },
    {
      "cell_type": "code",
      "metadata": {
        "id": "U4ij_2mhC9hD",
        "colab_type": "code",
        "outputId": "8385a92b-ded7-4d22-fa36-d767d50b59a4",
        "colab": {
          "base_uri": "https://localhost:8080/",
          "height": 35
        }
      },
      "source": [
        "# Ground truth.\n",
        "dataset['y'] = (dataset[main_ticker] > 1.03).astype(int)\n",
        "print('Percentage of ones (keep less than 5%):', count_nonzero(dataset.y) / dataset.y.size)"
      ],
      "execution_count": 7,
      "outputs": [
        {
          "output_type": "stream",
          "text": [
            "Percentage of ones (keep less than 5%): 0.015986769570011026\n"
          ],
          "name": "stdout"
        }
      ]
    },
    {
      "cell_type": "code",
      "metadata": {
        "id": "-aMNeaIpn48n",
        "colab_type": "code",
        "colab": {}
      },
      "source": [
        "df = dataset.copy().reset_index()"
      ],
      "execution_count": 0,
      "outputs": []
    },
    {
      "cell_type": "code",
      "metadata": {
        "id": "Y7hifspdE8D9",
        "colab_type": "code",
        "colab": {}
      },
      "source": [
        "seed(7)\n",
        "set_random_seed(11)\n",
        "rcParams['figure.figsize'] = 8, 6\n",
        "LABELS = ['Normal','Break']"
      ],
      "execution_count": 0,
      "outputs": []
    },
    {
      "cell_type": "code",
      "metadata": {
        "id": "dO_8_S2myyyL",
        "colab_type": "code",
        "outputId": "0f38a8e2-3d62-4b81-d11d-2852796f164a",
        "colab": {
          "base_uri": "https://localhost:8080/",
          "height": 432
        }
      },
      "source": [
        "print('Before shifting') # Positive labeled rows before shifting.\n",
        "one_indexes = df.index[df['y'] == 1]\n",
        "display(df.iloc[(one_indexes[0]-3):(one_indexes[0]+2), 0:5].head(n=5))\n",
        "df = curve_shift(df, shift_by=-1)\n",
        "\n",
        "print('After shifting') # Validating if the shift happened correctly.\n",
        "display(df.iloc[(one_indexes[0]-4):(one_indexes[0]+1), 0:5].head(n=5))  "
      ],
      "execution_count": 10,
      "outputs": [
        {
          "output_type": "stream",
          "text": [
            "Before shifting\n"
          ],
          "name": "stdout"
        },
        {
          "output_type": "display_data",
          "data": {
            "text/html": [
              "<div>\n",
              "<style scoped>\n",
              "    .dataframe tbody tr th:only-of-type {\n",
              "        vertical-align: middle;\n",
              "    }\n",
              "\n",
              "    .dataframe tbody tr th {\n",
              "        vertical-align: top;\n",
              "    }\n",
              "\n",
              "    .dataframe thead th {\n",
              "        text-align: right;\n",
              "    }\n",
              "</style>\n",
              "<table border=\"1\" class=\"dataframe\">\n",
              "  <thead>\n",
              "    <tr style=\"text-align: right;\">\n",
              "      <th></th>\n",
              "      <th>Date</th>\n",
              "      <th>FB</th>\n",
              "      <th>INTC</th>\n",
              "      <th>AAPL</th>\n",
              "      <th>NVDA</th>\n",
              "    </tr>\n",
              "  </thead>\n",
              "  <tbody>\n",
              "    <tr>\n",
              "      <th>27</th>\n",
              "      <td>2014-09-13</td>\n",
              "      <td>0.966688</td>\n",
              "      <td>0.995102</td>\n",
              "      <td>0.988523</td>\n",
              "      <td>0.983316</td>\n",
              "    </tr>\n",
              "    <tr>\n",
              "      <th>28</th>\n",
              "      <td>2014-09-14</td>\n",
              "      <td>0.966688</td>\n",
              "      <td>0.995102</td>\n",
              "      <td>0.988523</td>\n",
              "      <td>0.983316</td>\n",
              "    </tr>\n",
              "    <tr>\n",
              "      <th>29</th>\n",
              "      <td>2014-09-15</td>\n",
              "      <td>0.966688</td>\n",
              "      <td>0.995102</td>\n",
              "      <td>0.988523</td>\n",
              "      <td>0.983316</td>\n",
              "    </tr>\n",
              "    <tr>\n",
              "      <th>30</th>\n",
              "      <td>2014-09-16</td>\n",
              "      <td>1.034821</td>\n",
              "      <td>1.013345</td>\n",
              "      <td>1.010621</td>\n",
              "      <td>1.017544</td>\n",
              "    </tr>\n",
              "    <tr>\n",
              "      <th>31</th>\n",
              "      <td>2014-09-17</td>\n",
              "      <td>1.006187</td>\n",
              "      <td>1.002005</td>\n",
              "      <td>1.003061</td>\n",
              "      <td>1.003143</td>\n",
              "    </tr>\n",
              "  </tbody>\n",
              "</table>\n",
              "</div>"
            ],
            "text/plain": [
              "         Date        FB      INTC      AAPL      NVDA\n",
              "27 2014-09-13  0.966688  0.995102  0.988523  0.983316\n",
              "28 2014-09-14  0.966688  0.995102  0.988523  0.983316\n",
              "29 2014-09-15  0.966688  0.995102  0.988523  0.983316\n",
              "30 2014-09-16  1.034821  1.013345  1.010621  1.017544\n",
              "31 2014-09-17  1.006187  1.002005  1.003061  1.003143"
            ]
          },
          "metadata": {
            "tags": []
          }
        },
        {
          "output_type": "stream",
          "text": [
            "After shifting\n"
          ],
          "name": "stdout"
        },
        {
          "output_type": "display_data",
          "data": {
            "text/html": [
              "<div>\n",
              "<style scoped>\n",
              "    .dataframe tbody tr th:only-of-type {\n",
              "        vertical-align: middle;\n",
              "    }\n",
              "\n",
              "    .dataframe tbody tr th {\n",
              "        vertical-align: top;\n",
              "    }\n",
              "\n",
              "    .dataframe thead th {\n",
              "        text-align: right;\n",
              "    }\n",
              "</style>\n",
              "<table border=\"1\" class=\"dataframe\">\n",
              "  <thead>\n",
              "    <tr style=\"text-align: right;\">\n",
              "      <th></th>\n",
              "      <th>y</th>\n",
              "      <th>Date</th>\n",
              "      <th>FB</th>\n",
              "      <th>INTC</th>\n",
              "      <th>AAPL</th>\n",
              "    </tr>\n",
              "  </thead>\n",
              "  <tbody>\n",
              "    <tr>\n",
              "      <th>26</th>\n",
              "      <td>0.0</td>\n",
              "      <td>2014-09-12</td>\n",
              "      <td>0.993079</td>\n",
              "      <td>0.991977</td>\n",
              "      <td>1.004446</td>\n",
              "    </tr>\n",
              "    <tr>\n",
              "      <th>27</th>\n",
              "      <td>0.0</td>\n",
              "      <td>2014-09-13</td>\n",
              "      <td>0.966688</td>\n",
              "      <td>0.995102</td>\n",
              "      <td>0.988523</td>\n",
              "    </tr>\n",
              "    <tr>\n",
              "      <th>28</th>\n",
              "      <td>0.0</td>\n",
              "      <td>2014-09-14</td>\n",
              "      <td>0.966688</td>\n",
              "      <td>0.995102</td>\n",
              "      <td>0.988523</td>\n",
              "    </tr>\n",
              "    <tr>\n",
              "      <th>29</th>\n",
              "      <td>1.0</td>\n",
              "      <td>2014-09-15</td>\n",
              "      <td>0.966688</td>\n",
              "      <td>0.995102</td>\n",
              "      <td>0.988523</td>\n",
              "    </tr>\n",
              "    <tr>\n",
              "      <th>31</th>\n",
              "      <td>0.0</td>\n",
              "      <td>2014-09-17</td>\n",
              "      <td>1.006187</td>\n",
              "      <td>1.002005</td>\n",
              "      <td>1.003061</td>\n",
              "    </tr>\n",
              "  </tbody>\n",
              "</table>\n",
              "</div>"
            ],
            "text/plain": [
              "      y       Date        FB      INTC      AAPL\n",
              "26  0.0 2014-09-12  0.993079  0.991977  1.004446\n",
              "27  0.0 2014-09-13  0.966688  0.995102  0.988523\n",
              "28  0.0 2014-09-14  0.966688  0.995102  0.988523\n",
              "29  1.0 2014-09-15  0.966688  0.995102  0.988523\n",
              "31  0.0 2014-09-17  1.006187  1.002005  1.003061"
            ]
          },
          "metadata": {
            "tags": []
          }
        }
      ]
    },
    {
      "cell_type": "code",
      "metadata": {
        "id": "Bc41Mo3qSRXW",
        "colab_type": "code",
        "colab": {}
      },
      "source": [
        "df = df.drop(columns=['Date'])"
      ],
      "execution_count": 0,
      "outputs": []
    },
    {
      "cell_type": "code",
      "metadata": {
        "id": "rosttrXFyyyc",
        "colab_type": "code",
        "colab": {}
      },
      "source": [
        "input_X = df.loc[:, df.columns != 'y'].values # Converts the df to a numpy array.\n",
        "input_y = df['y'].values\n",
        "\n",
        "n_features = input_X.shape[1] # Number of features."
      ],
      "execution_count": 0,
      "outputs": []
    },
    {
      "cell_type": "code",
      "metadata": {
        "id": "wCMHcaFmyyyi",
        "colab_type": "code",
        "colab": {}
      },
      "source": [
        "def temporalize(X, y, lookback):\n",
        "    output_X = []\n",
        "    output_y = []\n",
        "    for i in range(len(X)-lookback-1):\n",
        "        t = []\n",
        "        for j in range(1,lookback+1):\n",
        "            # Gather past records upto the lookback period.\n",
        "            t.append(X[[(i+j+1)], :])\n",
        "        output_X.append(t)\n",
        "        output_y.append(y[i+lookback+1])\n",
        "    return output_X, output_y"
      ],
      "execution_count": 0,
      "outputs": []
    },
    {
      "cell_type": "code",
      "metadata": {
        "id": "RgLp2Oyiyyyp",
        "colab_type": "code",
        "outputId": "f5da1002-2219-40df-86bd-d80857f26be5",
        "colab": {
          "base_uri": "https://localhost:8080/",
          "height": 484
        }
      },
      "source": [
        "'''\n",
        "Test: The 3D tensors (arrays) for LSTM are forming correctly.\n",
        "'''\n",
        "print('First instance of y = 1 in the original data')\n",
        "display(df.iloc[(where(array(input_y) == 1)[0][0]-5):(where(array(input_y) == 1)[0][0]+1), ])\n",
        "\n",
        "lookback = 5  # Equivalent to 10 min of past data.\n",
        "# Temporalize the data\n",
        "X, y = temporalize(X = input_X, y = input_y, lookback = lookback)\n",
        "\n",
        "print('For the same instance of y = 1, we are keeping past 5 samples in the 3D predictor array, X.')\n",
        "display(DataFrame(concatenate(X[where(array(y) == 1)[0][0]], axis=0))) "
      ],
      "execution_count": 14,
      "outputs": [
        {
          "output_type": "stream",
          "text": [
            "First instance of y = 1 in the original data\n"
          ],
          "name": "stdout"
        },
        {
          "output_type": "display_data",
          "data": {
            "text/html": [
              "<div>\n",
              "<style scoped>\n",
              "    .dataframe tbody tr th:only-of-type {\n",
              "        vertical-align: middle;\n",
              "    }\n",
              "\n",
              "    .dataframe tbody tr th {\n",
              "        vertical-align: top;\n",
              "    }\n",
              "\n",
              "    .dataframe thead th {\n",
              "        text-align: right;\n",
              "    }\n",
              "</style>\n",
              "<table border=\"1\" class=\"dataframe\">\n",
              "  <thead>\n",
              "    <tr style=\"text-align: right;\">\n",
              "      <th></th>\n",
              "      <th>y</th>\n",
              "      <th>FB</th>\n",
              "      <th>INTC</th>\n",
              "      <th>AAPL</th>\n",
              "      <th>NVDA</th>\n",
              "      <th>CSCO</th>\n",
              "      <th>AMD</th>\n",
              "      <th>AMZN</th>\n",
              "      <th>GOOG</th>\n",
              "      <th>MSFT</th>\n",
              "      <th>S</th>\n",
              "      <th>BAC</th>\n",
              "      <th>XLNX</th>\n",
              "      <th>WFC</th>\n",
              "      <th>^DJI</th>\n",
              "      <th>^GSPC</th>\n",
              "      <th>^NYA</th>\n",
              "      <th>^IXIC</th>\n",
              "      <th>FB_trend</th>\n",
              "      <th>INTC_trend</th>\n",
              "      <th>AAPL_trend</th>\n",
              "      <th>NVDA_trend</th>\n",
              "      <th>CSCO_trend</th>\n",
              "      <th>AMD_trend</th>\n",
              "      <th>AMZN_trend</th>\n",
              "      <th>GOOG_trend</th>\n",
              "      <th>MSFT_trend</th>\n",
              "      <th>S_trend</th>\n",
              "      <th>BAC_trend</th>\n",
              "      <th>XLNX_trend</th>\n",
              "      <th>WFC_trend</th>\n",
              "      <th>^DJI_trend</th>\n",
              "      <th>^GSPC_trend</th>\n",
              "      <th>^NYA_trend</th>\n",
              "      <th>^IXIC_trend</th>\n",
              "    </tr>\n",
              "  </thead>\n",
              "  <tbody>\n",
              "    <tr>\n",
              "      <th>24</th>\n",
              "      <td>0.0</td>\n",
              "      <td>1.011892</td>\n",
              "      <td>1.004878</td>\n",
              "      <td>1.030507</td>\n",
              "      <td>0.997964</td>\n",
              "      <td>1.003623</td>\n",
              "      <td>1.000000</td>\n",
              "      <td>0.991116</td>\n",
              "      <td>1.002752</td>\n",
              "      <td>1.000427</td>\n",
              "      <td>1.058520</td>\n",
              "      <td>1.012376</td>\n",
              "      <td>1.003290</td>\n",
              "      <td>1.008614</td>\n",
              "      <td>1.003095</td>\n",
              "      <td>1.003661</td>\n",
              "      <td>1.002330</td>\n",
              "      <td>1.007108</td>\n",
              "      <td>95.0</td>\n",
              "      <td>24.0</td>\n",
              "      <td>58.0</td>\n",
              "      <td>6.0</td>\n",
              "      <td>26.0</td>\n",
              "      <td>68.0</td>\n",
              "      <td>7.0</td>\n",
              "      <td>93.0</td>\n",
              "      <td>24.0</td>\n",
              "      <td>95.0</td>\n",
              "      <td>22.0</td>\n",
              "      <td>14.0</td>\n",
              "      <td>31.0</td>\n",
              "      <td>2.0</td>\n",
              "      <td>3.0</td>\n",
              "      <td>0.0</td>\n",
              "      <td>0.0</td>\n",
              "    </tr>\n",
              "    <tr>\n",
              "      <th>25</th>\n",
              "      <td>0.0</td>\n",
              "      <td>1.010242</td>\n",
              "      <td>1.006611</td>\n",
              "      <td>1.010158</td>\n",
              "      <td>0.996918</td>\n",
              "      <td>1.010433</td>\n",
              "      <td>1.012407</td>\n",
              "      <td>1.001758</td>\n",
              "      <td>1.001706</td>\n",
              "      <td>1.005563</td>\n",
              "      <td>1.082372</td>\n",
              "      <td>1.015319</td>\n",
              "      <td>1.000234</td>\n",
              "      <td>1.003696</td>\n",
              "      <td>0.999507</td>\n",
              "      <td>1.002308</td>\n",
              "      <td>1.003898</td>\n",
              "      <td>1.005292</td>\n",
              "      <td>95.0</td>\n",
              "      <td>24.0</td>\n",
              "      <td>58.0</td>\n",
              "      <td>6.0</td>\n",
              "      <td>26.0</td>\n",
              "      <td>68.0</td>\n",
              "      <td>7.0</td>\n",
              "      <td>93.0</td>\n",
              "      <td>24.0</td>\n",
              "      <td>95.0</td>\n",
              "      <td>22.0</td>\n",
              "      <td>14.0</td>\n",
              "      <td>31.0</td>\n",
              "      <td>2.0</td>\n",
              "      <td>3.0</td>\n",
              "      <td>0.0</td>\n",
              "      <td>0.0</td>\n",
              "    </tr>\n",
              "    <tr>\n",
              "      <th>26</th>\n",
              "      <td>0.0</td>\n",
              "      <td>0.993079</td>\n",
              "      <td>0.991977</td>\n",
              "      <td>1.004446</td>\n",
              "      <td>0.979007</td>\n",
              "      <td>1.000000</td>\n",
              "      <td>0.975369</td>\n",
              "      <td>1.004946</td>\n",
              "      <td>0.990740</td>\n",
              "      <td>0.995523</td>\n",
              "      <td>1.018923</td>\n",
              "      <td>1.010229</td>\n",
              "      <td>0.991591</td>\n",
              "      <td>1.000581</td>\n",
              "      <td>0.996683</td>\n",
              "      <td>0.994391</td>\n",
              "      <td>0.995082</td>\n",
              "      <td>0.995387</td>\n",
              "      <td>95.0</td>\n",
              "      <td>24.0</td>\n",
              "      <td>58.0</td>\n",
              "      <td>6.0</td>\n",
              "      <td>26.0</td>\n",
              "      <td>68.0</td>\n",
              "      <td>7.0</td>\n",
              "      <td>93.0</td>\n",
              "      <td>24.0</td>\n",
              "      <td>95.0</td>\n",
              "      <td>22.0</td>\n",
              "      <td>14.0</td>\n",
              "      <td>31.0</td>\n",
              "      <td>2.0</td>\n",
              "      <td>3.0</td>\n",
              "      <td>0.0</td>\n",
              "      <td>0.0</td>\n",
              "    </tr>\n",
              "    <tr>\n",
              "      <th>27</th>\n",
              "      <td>0.0</td>\n",
              "      <td>0.966688</td>\n",
              "      <td>0.995102</td>\n",
              "      <td>0.988523</td>\n",
              "      <td>0.983316</td>\n",
              "      <td>1.004409</td>\n",
              "      <td>0.982412</td>\n",
              "      <td>0.978786</td>\n",
              "      <td>1.000279</td>\n",
              "      <td>0.993554</td>\n",
              "      <td>0.987198</td>\n",
              "      <td>0.996429</td>\n",
              "      <td>0.987297</td>\n",
              "      <td>1.004060</td>\n",
              "      <td>1.002495</td>\n",
              "      <td>0.999038</td>\n",
              "      <td>0.999950</td>\n",
              "      <td>0.989370</td>\n",
              "      <td>95.0</td>\n",
              "      <td>24.0</td>\n",
              "      <td>58.0</td>\n",
              "      <td>6.0</td>\n",
              "      <td>26.0</td>\n",
              "      <td>68.0</td>\n",
              "      <td>7.0</td>\n",
              "      <td>93.0</td>\n",
              "      <td>24.0</td>\n",
              "      <td>95.0</td>\n",
              "      <td>22.0</td>\n",
              "      <td>14.0</td>\n",
              "      <td>31.0</td>\n",
              "      <td>2.0</td>\n",
              "      <td>3.0</td>\n",
              "      <td>0.0</td>\n",
              "      <td>0.0</td>\n",
              "    </tr>\n",
              "    <tr>\n",
              "      <th>28</th>\n",
              "      <td>0.0</td>\n",
              "      <td>0.966688</td>\n",
              "      <td>0.995102</td>\n",
              "      <td>0.988523</td>\n",
              "      <td>0.983316</td>\n",
              "      <td>1.004409</td>\n",
              "      <td>0.982412</td>\n",
              "      <td>0.978786</td>\n",
              "      <td>1.000279</td>\n",
              "      <td>0.993554</td>\n",
              "      <td>0.987198</td>\n",
              "      <td>0.996429</td>\n",
              "      <td>0.987297</td>\n",
              "      <td>1.004060</td>\n",
              "      <td>1.002495</td>\n",
              "      <td>0.999038</td>\n",
              "      <td>0.999950</td>\n",
              "      <td>0.989370</td>\n",
              "      <td>95.0</td>\n",
              "      <td>24.0</td>\n",
              "      <td>58.0</td>\n",
              "      <td>6.0</td>\n",
              "      <td>26.0</td>\n",
              "      <td>68.0</td>\n",
              "      <td>7.0</td>\n",
              "      <td>93.0</td>\n",
              "      <td>24.0</td>\n",
              "      <td>95.0</td>\n",
              "      <td>22.0</td>\n",
              "      <td>14.0</td>\n",
              "      <td>31.0</td>\n",
              "      <td>2.0</td>\n",
              "      <td>3.0</td>\n",
              "      <td>0.0</td>\n",
              "      <td>0.0</td>\n",
              "    </tr>\n",
              "    <tr>\n",
              "      <th>29</th>\n",
              "      <td>1.0</td>\n",
              "      <td>0.966688</td>\n",
              "      <td>0.995102</td>\n",
              "      <td>0.988523</td>\n",
              "      <td>0.983316</td>\n",
              "      <td>1.004409</td>\n",
              "      <td>0.982412</td>\n",
              "      <td>0.978786</td>\n",
              "      <td>1.000279</td>\n",
              "      <td>0.993554</td>\n",
              "      <td>0.987198</td>\n",
              "      <td>0.996429</td>\n",
              "      <td>0.987297</td>\n",
              "      <td>1.004060</td>\n",
              "      <td>1.002495</td>\n",
              "      <td>0.999038</td>\n",
              "      <td>0.999950</td>\n",
              "      <td>0.989370</td>\n",
              "      <td>91.0</td>\n",
              "      <td>21.0</td>\n",
              "      <td>59.0</td>\n",
              "      <td>6.0</td>\n",
              "      <td>25.0</td>\n",
              "      <td>69.0</td>\n",
              "      <td>6.0</td>\n",
              "      <td>93.0</td>\n",
              "      <td>19.0</td>\n",
              "      <td>94.0</td>\n",
              "      <td>22.0</td>\n",
              "      <td>19.0</td>\n",
              "      <td>31.0</td>\n",
              "      <td>2.0</td>\n",
              "      <td>0.0</td>\n",
              "      <td>99.0</td>\n",
              "      <td>0.0</td>\n",
              "    </tr>\n",
              "  </tbody>\n",
              "</table>\n",
              "</div>"
            ],
            "text/plain": [
              "      y        FB      INTC  ...  ^GSPC_trend  ^NYA_trend  ^IXIC_trend\n",
              "24  0.0  1.011892  1.004878  ...          3.0         0.0          0.0\n",
              "25  0.0  1.010242  1.006611  ...          3.0         0.0          0.0\n",
              "26  0.0  0.993079  0.991977  ...          3.0         0.0          0.0\n",
              "27  0.0  0.966688  0.995102  ...          3.0         0.0          0.0\n",
              "28  0.0  0.966688  0.995102  ...          3.0         0.0          0.0\n",
              "29  1.0  0.966688  0.995102  ...          0.0        99.0          0.0\n",
              "\n",
              "[6 rows x 35 columns]"
            ]
          },
          "metadata": {
            "tags": []
          }
        },
        {
          "output_type": "stream",
          "text": [
            "For the same instance of y = 1, we are keeping past 5 samples in the 3D predictor array, X.\n"
          ],
          "name": "stdout"
        },
        {
          "output_type": "display_data",
          "data": {
            "text/html": [
              "<div>\n",
              "<style scoped>\n",
              "    .dataframe tbody tr th:only-of-type {\n",
              "        vertical-align: middle;\n",
              "    }\n",
              "\n",
              "    .dataframe tbody tr th {\n",
              "        vertical-align: top;\n",
              "    }\n",
              "\n",
              "    .dataframe thead th {\n",
              "        text-align: right;\n",
              "    }\n",
              "</style>\n",
              "<table border=\"1\" class=\"dataframe\">\n",
              "  <thead>\n",
              "    <tr style=\"text-align: right;\">\n",
              "      <th></th>\n",
              "      <th>0</th>\n",
              "      <th>1</th>\n",
              "      <th>2</th>\n",
              "      <th>3</th>\n",
              "      <th>4</th>\n",
              "      <th>5</th>\n",
              "      <th>6</th>\n",
              "      <th>7</th>\n",
              "      <th>8</th>\n",
              "      <th>9</th>\n",
              "      <th>10</th>\n",
              "      <th>11</th>\n",
              "      <th>12</th>\n",
              "      <th>13</th>\n",
              "      <th>14</th>\n",
              "      <th>15</th>\n",
              "      <th>16</th>\n",
              "      <th>17</th>\n",
              "      <th>18</th>\n",
              "      <th>19</th>\n",
              "      <th>20</th>\n",
              "      <th>21</th>\n",
              "      <th>22</th>\n",
              "      <th>23</th>\n",
              "      <th>24</th>\n",
              "      <th>25</th>\n",
              "      <th>26</th>\n",
              "      <th>27</th>\n",
              "      <th>28</th>\n",
              "      <th>29</th>\n",
              "      <th>30</th>\n",
              "      <th>31</th>\n",
              "      <th>32</th>\n",
              "      <th>33</th>\n",
              "    </tr>\n",
              "  </thead>\n",
              "  <tbody>\n",
              "    <tr>\n",
              "      <th>0</th>\n",
              "      <td>1.010242</td>\n",
              "      <td>1.006611</td>\n",
              "      <td>1.010158</td>\n",
              "      <td>0.996918</td>\n",
              "      <td>1.010433</td>\n",
              "      <td>1.012407</td>\n",
              "      <td>1.001758</td>\n",
              "      <td>1.001706</td>\n",
              "      <td>1.005563</td>\n",
              "      <td>1.082372</td>\n",
              "      <td>1.015319</td>\n",
              "      <td>1.000234</td>\n",
              "      <td>1.003696</td>\n",
              "      <td>0.999507</td>\n",
              "      <td>1.002308</td>\n",
              "      <td>1.003898</td>\n",
              "      <td>1.005292</td>\n",
              "      <td>95.0</td>\n",
              "      <td>24.0</td>\n",
              "      <td>58.0</td>\n",
              "      <td>6.0</td>\n",
              "      <td>26.0</td>\n",
              "      <td>68.0</td>\n",
              "      <td>7.0</td>\n",
              "      <td>93.0</td>\n",
              "      <td>24.0</td>\n",
              "      <td>95.0</td>\n",
              "      <td>22.0</td>\n",
              "      <td>14.0</td>\n",
              "      <td>31.0</td>\n",
              "      <td>2.0</td>\n",
              "      <td>3.0</td>\n",
              "      <td>0.0</td>\n",
              "      <td>0.0</td>\n",
              "    </tr>\n",
              "    <tr>\n",
              "      <th>1</th>\n",
              "      <td>0.993079</td>\n",
              "      <td>0.991977</td>\n",
              "      <td>1.004446</td>\n",
              "      <td>0.979007</td>\n",
              "      <td>1.000000</td>\n",
              "      <td>0.975369</td>\n",
              "      <td>1.004946</td>\n",
              "      <td>0.990740</td>\n",
              "      <td>0.995523</td>\n",
              "      <td>1.018923</td>\n",
              "      <td>1.010229</td>\n",
              "      <td>0.991591</td>\n",
              "      <td>1.000581</td>\n",
              "      <td>0.996683</td>\n",
              "      <td>0.994391</td>\n",
              "      <td>0.995082</td>\n",
              "      <td>0.995387</td>\n",
              "      <td>95.0</td>\n",
              "      <td>24.0</td>\n",
              "      <td>58.0</td>\n",
              "      <td>6.0</td>\n",
              "      <td>26.0</td>\n",
              "      <td>68.0</td>\n",
              "      <td>7.0</td>\n",
              "      <td>93.0</td>\n",
              "      <td>24.0</td>\n",
              "      <td>95.0</td>\n",
              "      <td>22.0</td>\n",
              "      <td>14.0</td>\n",
              "      <td>31.0</td>\n",
              "      <td>2.0</td>\n",
              "      <td>3.0</td>\n",
              "      <td>0.0</td>\n",
              "      <td>0.0</td>\n",
              "    </tr>\n",
              "    <tr>\n",
              "      <th>2</th>\n",
              "      <td>0.966688</td>\n",
              "      <td>0.995102</td>\n",
              "      <td>0.988523</td>\n",
              "      <td>0.983316</td>\n",
              "      <td>1.004409</td>\n",
              "      <td>0.982412</td>\n",
              "      <td>0.978786</td>\n",
              "      <td>1.000279</td>\n",
              "      <td>0.993554</td>\n",
              "      <td>0.987198</td>\n",
              "      <td>0.996429</td>\n",
              "      <td>0.987297</td>\n",
              "      <td>1.004060</td>\n",
              "      <td>1.002495</td>\n",
              "      <td>0.999038</td>\n",
              "      <td>0.999950</td>\n",
              "      <td>0.989370</td>\n",
              "      <td>95.0</td>\n",
              "      <td>24.0</td>\n",
              "      <td>58.0</td>\n",
              "      <td>6.0</td>\n",
              "      <td>26.0</td>\n",
              "      <td>68.0</td>\n",
              "      <td>7.0</td>\n",
              "      <td>93.0</td>\n",
              "      <td>24.0</td>\n",
              "      <td>95.0</td>\n",
              "      <td>22.0</td>\n",
              "      <td>14.0</td>\n",
              "      <td>31.0</td>\n",
              "      <td>2.0</td>\n",
              "      <td>3.0</td>\n",
              "      <td>0.0</td>\n",
              "      <td>0.0</td>\n",
              "    </tr>\n",
              "    <tr>\n",
              "      <th>3</th>\n",
              "      <td>0.966688</td>\n",
              "      <td>0.995102</td>\n",
              "      <td>0.988523</td>\n",
              "      <td>0.983316</td>\n",
              "      <td>1.004409</td>\n",
              "      <td>0.982412</td>\n",
              "      <td>0.978786</td>\n",
              "      <td>1.000279</td>\n",
              "      <td>0.993554</td>\n",
              "      <td>0.987198</td>\n",
              "      <td>0.996429</td>\n",
              "      <td>0.987297</td>\n",
              "      <td>1.004060</td>\n",
              "      <td>1.002495</td>\n",
              "      <td>0.999038</td>\n",
              "      <td>0.999950</td>\n",
              "      <td>0.989370</td>\n",
              "      <td>95.0</td>\n",
              "      <td>24.0</td>\n",
              "      <td>58.0</td>\n",
              "      <td>6.0</td>\n",
              "      <td>26.0</td>\n",
              "      <td>68.0</td>\n",
              "      <td>7.0</td>\n",
              "      <td>93.0</td>\n",
              "      <td>24.0</td>\n",
              "      <td>95.0</td>\n",
              "      <td>22.0</td>\n",
              "      <td>14.0</td>\n",
              "      <td>31.0</td>\n",
              "      <td>2.0</td>\n",
              "      <td>3.0</td>\n",
              "      <td>0.0</td>\n",
              "      <td>0.0</td>\n",
              "    </tr>\n",
              "    <tr>\n",
              "      <th>4</th>\n",
              "      <td>0.966688</td>\n",
              "      <td>0.995102</td>\n",
              "      <td>0.988523</td>\n",
              "      <td>0.983316</td>\n",
              "      <td>1.004409</td>\n",
              "      <td>0.982412</td>\n",
              "      <td>0.978786</td>\n",
              "      <td>1.000279</td>\n",
              "      <td>0.993554</td>\n",
              "      <td>0.987198</td>\n",
              "      <td>0.996429</td>\n",
              "      <td>0.987297</td>\n",
              "      <td>1.004060</td>\n",
              "      <td>1.002495</td>\n",
              "      <td>0.999038</td>\n",
              "      <td>0.999950</td>\n",
              "      <td>0.989370</td>\n",
              "      <td>91.0</td>\n",
              "      <td>21.0</td>\n",
              "      <td>59.0</td>\n",
              "      <td>6.0</td>\n",
              "      <td>25.0</td>\n",
              "      <td>69.0</td>\n",
              "      <td>6.0</td>\n",
              "      <td>93.0</td>\n",
              "      <td>19.0</td>\n",
              "      <td>94.0</td>\n",
              "      <td>22.0</td>\n",
              "      <td>19.0</td>\n",
              "      <td>31.0</td>\n",
              "      <td>2.0</td>\n",
              "      <td>0.0</td>\n",
              "      <td>99.0</td>\n",
              "      <td>0.0</td>\n",
              "    </tr>\n",
              "  </tbody>\n",
              "</table>\n",
              "</div>"
            ],
            "text/plain": [
              "         0         1         2         3         4   ...    29   30   31    32   33\n",
              "0  1.010242  1.006611  1.010158  0.996918  1.010433  ...  31.0  2.0  3.0   0.0  0.0\n",
              "1  0.993079  0.991977  1.004446  0.979007  1.000000  ...  31.0  2.0  3.0   0.0  0.0\n",
              "2  0.966688  0.995102  0.988523  0.983316  1.004409  ...  31.0  2.0  3.0   0.0  0.0\n",
              "3  0.966688  0.995102  0.988523  0.983316  1.004409  ...  31.0  2.0  3.0   0.0  0.0\n",
              "4  0.966688  0.995102  0.988523  0.983316  1.004409  ...  31.0  2.0  0.0  99.0  0.0\n",
              "\n",
              "[5 rows x 34 columns]"
            ]
          },
          "metadata": {
            "tags": []
          }
        }
      ]
    },
    {
      "cell_type": "markdown",
      "metadata": {
        "id": "h89wHrdfyyyw",
        "colab_type": "text"
      },
      "source": [
        "The two tables are the same. This testifies that we are correctly taking 5 samples (= lookback), X(t):X(t-5) to predict y(t)."
      ]
    },
    {
      "cell_type": "code",
      "metadata": {
        "id": "5pmWNnDCyyyz",
        "colab_type": "code",
        "colab": {}
      },
      "source": [
        "X_train, X_test, y_train, y_test = train_test_split(array(X), array(y), test_size=test_size, random_state=random_seed)\n",
        "X_train, X_valid, y_train, y_valid = train_test_split(X_train, y_train, test_size=test_size, random_state=random_seed)"
      ],
      "execution_count": 0,
      "outputs": []
    },
    {
      "cell_type": "code",
      "metadata": {
        "id": "j3UzUymkyyy2",
        "colab_type": "code",
        "outputId": "1958ee58-e5bd-49a5-bfaf-675ca2f2167b",
        "colab": {
          "base_uri": "https://localhost:8080/",
          "height": 35
        }
      },
      "source": [
        "X_train.shape"
      ],
      "execution_count": 16,
      "outputs": [
        {
          "output_type": "execute_result",
          "data": {
            "text/plain": [
              "(1138, 5, 1, 34)"
            ]
          },
          "metadata": {
            "tags": []
          },
          "execution_count": 16
        }
      ]
    },
    {
      "cell_type": "code",
      "metadata": {
        "id": "8VV76ST8yyy7",
        "colab_type": "code",
        "colab": {}
      },
      "source": [
        "X_train_y0 = X_train[y_train==0]\n",
        "X_train_y1 = X_train[y_train==1]\n",
        "\n",
        "X_valid_y0 = X_valid[y_valid==0]\n",
        "X_valid_y1 = X_valid[y_valid==1]"
      ],
      "execution_count": 0,
      "outputs": []
    },
    {
      "cell_type": "code",
      "metadata": {
        "id": "VzDCf3styyzB",
        "colab_type": "code",
        "outputId": "80fcec42-b441-4a09-aeda-8b5e07844e0a",
        "colab": {
          "base_uri": "https://localhost:8080/",
          "height": 35
        }
      },
      "source": [
        "X_train_y0.shape"
      ],
      "execution_count": 18,
      "outputs": [
        {
          "output_type": "execute_result",
          "data": {
            "text/plain": [
              "(1126, 5, 1, 34)"
            ]
          },
          "metadata": {
            "tags": []
          },
          "execution_count": 18
        }
      ]
    },
    {
      "cell_type": "markdown",
      "metadata": {
        "id": "xnvqRBizyyzG",
        "colab_type": "text"
      },
      "source": [
        "#### Reshaping the data\n",
        "The tensors we have here are 4-dimensional. We will reshape them into the desired 3-dimensions corresponding to sample x lookback x features."
      ]
    },
    {
      "cell_type": "code",
      "metadata": {
        "id": "c-JtRrOqyyzH",
        "colab_type": "code",
        "colab": {}
      },
      "source": [
        "X_train = X_train.reshape(X_train.shape[0], lookback, n_features)\n",
        "X_train_y0 = X_train_y0.reshape(X_train_y0.shape[0], lookback, n_features)\n",
        "X_train_y1 = X_train_y1.reshape(X_train_y1.shape[0], lookback, n_features)\n",
        "\n",
        "X_test = X_test.reshape(X_test.shape[0], lookback, n_features)\n",
        "\n",
        "X_valid = X_valid.reshape(X_valid.shape[0], lookback, n_features)\n",
        "X_valid_y0 = X_valid_y0.reshape(X_valid_y0.shape[0], lookback, n_features)\n",
        "X_valid_y1 = X_valid_y1.reshape(X_valid_y1.shape[0], lookback, n_features)"
      ],
      "execution_count": 0,
      "outputs": []
    },
    {
      "cell_type": "markdown",
      "metadata": {
        "id": "hzBW4HTNyyzL",
        "colab_type": "text"
      },
      "source": [
        "### Standardize the data\n",
        "It is usually better to use a standardized data (transformed to Gaussian, mean 0 and sd 1) for autoencoders.\n",
        "\n",
        "One common mistake is: we normalize the entire data and then split into train-test. This is not correct. Test data should be completely unseen to anything during the modeling. We should normalize the test data using the feature summary statistics computed from the training data. For normalization, these statistics are the mean and variance for each feature. \n",
        "\n",
        "The same logic should be used for the validation set. This makes the model more stable for a test data.\n",
        "\n",
        "To do this, we will require two UDFs.\n",
        "\n",
        "- `flatten`: This function will re-create the original 2D array from which the 3D arrays were created. This function is the inverse of `temporalize`, meaning `X = flatten(temporalize(X))`.\n",
        "- `scale`: This function will scale a 3D array that we created as inputs to the LSTM."
      ]
    },
    {
      "cell_type": "code",
      "metadata": {
        "id": "wRVsMJXAyyzM",
        "colab_type": "code",
        "colab": {}
      },
      "source": [
        "def flatten(X):\n",
        "    '''\n",
        "    Flatten a 3D array.\n",
        "    Input        X            A 3D array for lstm, where the array is sample x timesteps x features.\n",
        "    Output       flattened_X  A 2D array, sample x features.\n",
        "    '''\n",
        "    flattened_X = empty((X.shape[0], X.shape[2])) # Sample x features array.\n",
        "    for i in range(X.shape[0]):\n",
        "        flattened_X[i] = X[i, (X.shape[1]-1), :]\n",
        "    return(flattened_X)\n",
        "\n",
        "def scale(X, scaler):\n",
        "    '''\n",
        "    Scale 3D array.\n",
        "    Inputs       X            A 3D array for lstm, where the array is sample x timesteps x features.\n",
        "                 scaler       A scaler object, e.g., sklearn.preprocessing.StandardScaler, sklearn.preprocessing.normalize\n",
        "    Output       X            Scaled 3D array.\n",
        "    '''\n",
        "    for i in range(X.shape[0]):\n",
        "        X[i, :, :] = scaler.transform(X[i, :, :])\n",
        "        \n",
        "    return X"
      ],
      "execution_count": 0,
      "outputs": []
    },
    {
      "cell_type": "code",
      "metadata": {
        "id": "zqg4frnfyyzR",
        "colab_type": "code",
        "colab": {}
      },
      "source": [
        "# Initialize a scaler using the training data.\n",
        "scaler = StandardScaler().fit(flatten(X_train_y0))\n",
        "X_train_y0_scaled = scale(X_train_y0, scaler)\n",
        "X_train_y1_scaled = scale(X_train_y1, scaler)\n",
        "X_train_scaled = scale(X_train, scaler)"
      ],
      "execution_count": 0,
      "outputs": []
    },
    {
      "cell_type": "code",
      "metadata": {
        "id": "UEY3ThchyyzZ",
        "colab_type": "code",
        "outputId": "6677644e-a321-4d19-eb0b-c90cee708cab",
        "colab": {
          "base_uri": "https://localhost:8080/",
          "height": 90
        }
      },
      "source": [
        "# Test scaling validity.\n",
        "a = flatten(X_train_y0_scaled)\n",
        "print('Column-wise mean (should be all zeros):', mean(a, axis=0).round(6))\n",
        "print('Column-wise variance (should be all ones):', var(a, axis=0))"
      ],
      "execution_count": 22,
      "outputs": [
        {
          "output_type": "stream",
          "text": [
            "Column-wise mean (should be all zeros): [ 0. -0.  0. -0. -0. -0. -0. -0. -0.  0.  0. -0. -0.  0.  0. -0. -0. -0.\n",
            "  0.  0. -0.  0.  0. -0.  0. -0.  0.  0. -0. -0. -0. -0.  0.  0.]\n",
            "Column-wise variance (should be all ones): [1. 1. 1. 1. 1. 1. 1. 1. 1. 1. 1. 1. 1. 1. 1. 1. 1. 1. 1. 1. 1. 1. 1. 1.\n",
            " 1. 1. 1. 1. 1. 1. 1. 1. 1. 1.]\n"
          ],
          "name": "stdout"
        }
      ]
    },
    {
      "cell_type": "code",
      "metadata": {
        "id": "7xv9aimpyyzf",
        "colab_type": "code",
        "colab": {}
      },
      "source": [
        "# Scale test and validation sets.\n",
        "X_valid_scaled = scale(X_valid, scaler)\n",
        "X_valid_y0_scaled = scale(X_valid_y0, scaler)\n",
        "X_test_scaled = scale(X_test, scaler)"
      ],
      "execution_count": 0,
      "outputs": []
    },
    {
      "cell_type": "markdown",
      "metadata": {
        "id": "l0o3SBX-yyzj",
        "colab_type": "text"
      },
      "source": [
        "## LSTM Autoencoder training"
      ]
    },
    {
      "cell_type": "markdown",
      "metadata": {
        "id": "-vl3NZk_yyzj",
        "colab_type": "text"
      },
      "source": [
        "First we will initialize the Autoencoder architecture. We are building a simple autoencoder. More complex architectures and other configurations should be explored."
      ]
    },
    {
      "cell_type": "code",
      "metadata": {
        "id": "IXkULB_Hyyzl",
        "colab_type": "code",
        "colab": {}
      },
      "source": [
        "timesteps =  X_train_y0_scaled.shape[1] # Equal to the lookback.\n",
        "n_features =  X_train_y0_scaled.shape[2] # 59."
      ],
      "execution_count": 0,
      "outputs": []
    },
    {
      "cell_type": "code",
      "metadata": {
        "id": "iC2LW6CMyyzu",
        "colab_type": "code",
        "outputId": "5ec8d09a-e261-4530-e49c-72736a75c36d",
        "colab": {
          "base_uri": "https://localhost:8080/",
          "height": 515
        }
      },
      "source": [
        "lstm_autoencoder = Sequential()\n",
        "# Encoder.\n",
        "lstm_autoencoder.add(LSTM(32, activation='relu', input_shape=(timesteps, n_features), return_sequences=True))\n",
        "lstm_autoencoder.add(LSTM(16, activation='relu', return_sequences=False))\n",
        "lstm_autoencoder.add(RepeatVector(timesteps))\n",
        "# Decoder.\n",
        "lstm_autoencoder.add(LSTM(16, activation='relu', return_sequences=True))\n",
        "lstm_autoencoder.add(LSTM(32, activation='relu', return_sequences=True))\n",
        "lstm_autoencoder.add(TimeDistributed(Dense(n_features)))\n",
        "\n",
        "lstm_autoencoder.summary()"
      ],
      "execution_count": 25,
      "outputs": [
        {
          "output_type": "stream",
          "text": [
            "WARNING: Logging before flag parsing goes to stderr.\n",
            "W0811 00:08:51.000084 140078426544000 deprecation_wrapper.py:119] From /usr/local/lib/python3.6/dist-packages/keras/backend/tensorflow_backend.py:74: The name tf.get_default_graph is deprecated. Please use tf.compat.v1.get_default_graph instead.\n",
            "\n",
            "W0811 00:08:51.003968 140078426544000 deprecation_wrapper.py:119] From /usr/local/lib/python3.6/dist-packages/keras/backend/tensorflow_backend.py:517: The name tf.placeholder is deprecated. Please use tf.compat.v1.placeholder instead.\n",
            "\n",
            "W0811 00:08:51.021255 140078426544000 deprecation_wrapper.py:119] From /usr/local/lib/python3.6/dist-packages/keras/backend/tensorflow_backend.py:4138: The name tf.random_uniform is deprecated. Please use tf.random.uniform instead.\n",
            "\n"
          ],
          "name": "stderr"
        },
        {
          "output_type": "stream",
          "text": [
            "_________________________________________________________________\n",
            "Layer (type)                 Output Shape              Param #   \n",
            "=================================================================\n",
            "lstm_1 (LSTM)                (None, 5, 32)             8576      \n",
            "_________________________________________________________________\n",
            "lstm_2 (LSTM)                (None, 16)                3136      \n",
            "_________________________________________________________________\n",
            "repeat_vector_1 (RepeatVecto (None, 5, 16)             0         \n",
            "_________________________________________________________________\n",
            "lstm_3 (LSTM)                (None, 5, 16)             2112      \n",
            "_________________________________________________________________\n",
            "lstm_4 (LSTM)                (None, 5, 32)             6272      \n",
            "_________________________________________________________________\n",
            "time_distributed_1 (TimeDist (None, 5, 34)             1122      \n",
            "=================================================================\n",
            "Total params: 21,218\n",
            "Trainable params: 21,218\n",
            "Non-trainable params: 0\n",
            "_________________________________________________________________\n"
          ],
          "name": "stdout"
        }
      ]
    },
    {
      "cell_type": "markdown",
      "metadata": {
        "id": "eClUrTjiyyzy",
        "colab_type": "text"
      },
      "source": [
        "As a rule-of-thumb, look at the number of parameters. If not using any regularization, keep this less than the number of samples. If using regularization, depending on the degree of regularization you can let more parameters in the model that is greater than the sample size. For example, if using dropout with 0.5, you can have up to double the sample size (loosely speaking)."
      ]
    },
    {
      "cell_type": "code",
      "metadata": {
        "id": "xCGKhCicyyzz",
        "colab_type": "code",
        "outputId": "58f16ced-55d5-4d82-9d85-a532b47ec1c0",
        "colab": {
          "base_uri": "https://localhost:8080/",
          "height": 1000
        }
      },
      "source": [
        "filepath = path + 'lstm_autoencoder_classifier.h5'\n",
        "\n",
        "# Gradient descent optimization.\n",
        "optimizer = Adam(lr=learning_rate, clipnorm=1., clipvalue=0.5)\n",
        "\n",
        "# Training configuration.\n",
        "lstm_autoencoder.compile(loss='mean_squared_error', optimizer=optimizer)\n",
        "\n",
        "# Save model weights after each epoch if validation loss decreased.\n",
        "checkpointer = ModelCheckpoint(filepath=filepath, save_best_only=True, verbose=1)\n",
        "\n",
        "# Control learning rate schedule when validation is not improving.\n",
        "reduce_lr = ReduceLROnPlateau(factor=0.1, patience=5, verbose=1, min_lr=learning_rate / 1000)\n",
        "\n",
        "# Various graphics.\n",
        "tbc = TensorBoardColab()\n",
        "\n",
        "# Shouldn't happen.\n",
        "term_on_NaN = TerminateOnNaN()\n",
        "\n",
        "lstm_autoencoder_history = lstm_autoencoder.fit(X_train_y0_scaled, \n",
        "                                                X_train_y0_scaled, \n",
        "                                                epochs=epochs, \n",
        "                                                batch_size=batch, \n",
        "                                                validation_data=(X_valid_y0_scaled, \n",
        "                                                                 X_valid_y0_scaled), \n",
        "                                                callbacks=[checkpointer, \n",
        "                                                           reduce_lr, \n",
        "                                                           TensorBoardColabCallback(tbc), \n",
        "                                                           term_on_NaN], \n",
        "                                                verbose=1).history"
      ],
      "execution_count": 26,
      "outputs": [
        {
          "output_type": "stream",
          "text": [
            "W0811 00:08:51.918716 140078426544000 deprecation_wrapper.py:119] From /usr/local/lib/python3.6/dist-packages/keras/optimizers.py:790: The name tf.train.Optimizer is deprecated. Please use tf.compat.v1.train.Optimizer instead.\n",
            "\n"
          ],
          "name": "stderr"
        },
        {
          "output_type": "stream",
          "text": [
            "Wait for 8 seconds...\n",
            "TensorBoard link:\n",
            "https://67ceebef.ngrok.io\n"
          ],
          "name": "stdout"
        },
        {
          "output_type": "stream",
          "text": [
            "W0811 00:09:10.455154 140078426544000 deprecation.py:323] From /usr/local/lib/python3.6/dist-packages/tensorflow/python/ops/math_grad.py:1250: add_dispatch_support.<locals>.wrapper (from tensorflow.python.ops.array_ops) is deprecated and will be removed in a future version.\n",
            "Instructions for updating:\n",
            "Use tf.where in 2.0, which has the same broadcast rule as np.where\n",
            "W0811 00:09:13.668588 140078426544000 deprecation_wrapper.py:119] From /usr/local/lib/python3.6/dist-packages/keras/backend/tensorflow_backend.py:986: The name tf.assign_add is deprecated. Please use tf.compat.v1.assign_add instead.\n",
            "\n",
            "W0811 00:09:13.897130 140078426544000 deprecation_wrapper.py:119] From /usr/local/lib/python3.6/dist-packages/keras/backend/tensorflow_backend.py:973: The name tf.assign is deprecated. Please use tf.compat.v1.assign instead.\n",
            "\n",
            "W0811 00:09:14.125139 140078426544000 deprecation_wrapper.py:119] From /usr/local/lib/python3.6/dist-packages/tensorboardcolab/core.py:49: The name tf.summary.FileWriter is deprecated. Please use tf.compat.v1.summary.FileWriter instead.\n",
            "\n"
          ],
          "name": "stderr"
        },
        {
          "output_type": "stream",
          "text": [
            "Train on 1126 samples, validate on 280 samples\n"
          ],
          "name": "stdout"
        },
        {
          "output_type": "stream",
          "text": [
            "W0811 00:09:14.901034 140078426544000 deprecation_wrapper.py:119] From /usr/local/lib/python3.6/dist-packages/keras/callbacks.py:850: The name tf.summary.merge_all is deprecated. Please use tf.compat.v1.summary.merge_all instead.\n",
            "\n"
          ],
          "name": "stderr"
        },
        {
          "output_type": "stream",
          "text": [
            "Epoch 1/100\n",
            "1126/1126 [==============================] - 5s 4ms/step - loss: 0.9839 - val_loss: 1.0529\n",
            "\n",
            "Epoch 00001: val_loss improved from inf to 1.05294, saving model to /content/gdrive/My Drive/LSTM_autoencoder/lstm_autoencoder_classifier.h5\n",
            "Epoch 2/100\n",
            "1126/1126 [==============================] - 1s 693us/step - loss: 0.9562 - val_loss: 0.9693\n",
            "\n",
            "Epoch 00002: val_loss improved from 1.05294 to 0.96931, saving model to /content/gdrive/My Drive/LSTM_autoencoder/lstm_autoencoder_classifier.h5\n",
            "Epoch 3/100\n",
            "1126/1126 [==============================] - 1s 703us/step - loss: 0.8548 - val_loss: 0.8760\n",
            "\n",
            "Epoch 00003: val_loss improved from 0.96931 to 0.87597, saving model to /content/gdrive/My Drive/LSTM_autoencoder/lstm_autoencoder_classifier.h5\n",
            "Epoch 4/100\n",
            "1126/1126 [==============================] - 1s 671us/step - loss: 0.7852 - val_loss: 0.8231\n",
            "\n",
            "Epoch 00004: val_loss improved from 0.87597 to 0.82306, saving model to /content/gdrive/My Drive/LSTM_autoencoder/lstm_autoencoder_classifier.h5\n",
            "Epoch 5/100\n",
            "1126/1126 [==============================] - 1s 728us/step - loss: 0.7360 - val_loss: 0.7801\n",
            "\n",
            "Epoch 00005: val_loss improved from 0.82306 to 0.78015, saving model to /content/gdrive/My Drive/LSTM_autoencoder/lstm_autoencoder_classifier.h5\n",
            "Epoch 6/100\n",
            "1126/1126 [==============================] - 1s 678us/step - loss: 0.7039 - val_loss: 0.7540\n",
            "\n",
            "Epoch 00006: val_loss improved from 0.78015 to 0.75404, saving model to /content/gdrive/My Drive/LSTM_autoencoder/lstm_autoencoder_classifier.h5\n",
            "Epoch 7/100\n",
            "1126/1126 [==============================] - 1s 682us/step - loss: 0.6802 - val_loss: 0.7303\n",
            "\n",
            "Epoch 00007: val_loss improved from 0.75404 to 0.73028, saving model to /content/gdrive/My Drive/LSTM_autoencoder/lstm_autoencoder_classifier.h5\n",
            "Epoch 8/100\n",
            "1126/1126 [==============================] - 1s 709us/step - loss: 0.6624 - val_loss: 0.7111\n",
            "\n",
            "Epoch 00008: val_loss improved from 0.73028 to 0.71108, saving model to /content/gdrive/My Drive/LSTM_autoencoder/lstm_autoencoder_classifier.h5\n",
            "Epoch 9/100\n",
            "1126/1126 [==============================] - 1s 728us/step - loss: 0.6455 - val_loss: 0.6945\n",
            "\n",
            "Epoch 00009: val_loss improved from 0.71108 to 0.69451, saving model to /content/gdrive/My Drive/LSTM_autoencoder/lstm_autoencoder_classifier.h5\n",
            "Epoch 10/100\n",
            "1126/1126 [==============================] - 1s 693us/step - loss: 0.6313 - val_loss: 0.6774\n",
            "\n",
            "Epoch 00010: val_loss improved from 0.69451 to 0.67738, saving model to /content/gdrive/My Drive/LSTM_autoencoder/lstm_autoencoder_classifier.h5\n",
            "Epoch 11/100\n",
            "1126/1126 [==============================] - 1s 713us/step - loss: 0.6171 - val_loss: 0.6626\n",
            "\n",
            "Epoch 00011: val_loss improved from 0.67738 to 0.66259, saving model to /content/gdrive/My Drive/LSTM_autoencoder/lstm_autoencoder_classifier.h5\n",
            "Epoch 12/100\n",
            "1126/1126 [==============================] - 1s 691us/step - loss: 0.6032 - val_loss: 0.6482\n",
            "\n",
            "Epoch 00012: val_loss improved from 0.66259 to 0.64815, saving model to /content/gdrive/My Drive/LSTM_autoencoder/lstm_autoencoder_classifier.h5\n",
            "Epoch 13/100\n",
            "1126/1126 [==============================] - 1s 678us/step - loss: 0.5911 - val_loss: 0.6323\n",
            "\n",
            "Epoch 00013: val_loss improved from 0.64815 to 0.63227, saving model to /content/gdrive/My Drive/LSTM_autoencoder/lstm_autoencoder_classifier.h5\n",
            "Epoch 14/100\n",
            "1126/1126 [==============================] - 1s 676us/step - loss: 0.5773 - val_loss: 0.6192\n",
            "\n",
            "Epoch 00014: val_loss improved from 0.63227 to 0.61918, saving model to /content/gdrive/My Drive/LSTM_autoencoder/lstm_autoencoder_classifier.h5\n",
            "Epoch 15/100\n",
            "1126/1126 [==============================] - 1s 674us/step - loss: 0.5675 - val_loss: 0.6088\n",
            "\n",
            "Epoch 00015: val_loss improved from 0.61918 to 0.60875, saving model to /content/gdrive/My Drive/LSTM_autoencoder/lstm_autoencoder_classifier.h5\n",
            "Epoch 16/100\n",
            "1126/1126 [==============================] - 1s 673us/step - loss: 0.5573 - val_loss: 0.6021\n",
            "\n",
            "Epoch 00016: val_loss improved from 0.60875 to 0.60207, saving model to /content/gdrive/My Drive/LSTM_autoencoder/lstm_autoencoder_classifier.h5\n",
            "Epoch 17/100\n",
            "1126/1126 [==============================] - 1s 735us/step - loss: 0.5510 - val_loss: 0.5925\n",
            "\n",
            "Epoch 00017: val_loss improved from 0.60207 to 0.59248, saving model to /content/gdrive/My Drive/LSTM_autoencoder/lstm_autoencoder_classifier.h5\n",
            "Epoch 18/100\n",
            "1126/1126 [==============================] - 1s 689us/step - loss: 0.5418 - val_loss: 0.5805\n",
            "\n",
            "Epoch 00018: val_loss improved from 0.59248 to 0.58046, saving model to /content/gdrive/My Drive/LSTM_autoencoder/lstm_autoencoder_classifier.h5\n",
            "Epoch 19/100\n",
            "1126/1126 [==============================] - 1s 668us/step - loss: 0.5333 - val_loss: 0.5708\n",
            "\n",
            "Epoch 00019: val_loss improved from 0.58046 to 0.57083, saving model to /content/gdrive/My Drive/LSTM_autoencoder/lstm_autoencoder_classifier.h5\n",
            "Epoch 20/100\n",
            "1126/1126 [==============================] - 1s 700us/step - loss: 0.5272 - val_loss: 0.5642\n",
            "\n",
            "Epoch 00020: val_loss improved from 0.57083 to 0.56424, saving model to /content/gdrive/My Drive/LSTM_autoencoder/lstm_autoencoder_classifier.h5\n",
            "Epoch 21/100\n",
            "1126/1126 [==============================] - 1s 680us/step - loss: 0.5198 - val_loss: 0.5598\n",
            "\n",
            "Epoch 00021: val_loss improved from 0.56424 to 0.55979, saving model to /content/gdrive/My Drive/LSTM_autoencoder/lstm_autoencoder_classifier.h5\n",
            "Epoch 22/100\n",
            "1126/1126 [==============================] - 1s 711us/step - loss: 0.5136 - val_loss: 0.5537\n",
            "\n",
            "Epoch 00022: val_loss improved from 0.55979 to 0.55375, saving model to /content/gdrive/My Drive/LSTM_autoencoder/lstm_autoencoder_classifier.h5\n",
            "Epoch 23/100\n",
            "1126/1126 [==============================] - 1s 686us/step - loss: 0.5076 - val_loss: 0.5519\n",
            "\n",
            "Epoch 00023: val_loss improved from 0.55375 to 0.55188, saving model to /content/gdrive/My Drive/LSTM_autoencoder/lstm_autoencoder_classifier.h5\n",
            "Epoch 24/100\n",
            "1126/1126 [==============================] - 1s 732us/step - loss: 0.5046 - val_loss: 0.5464\n",
            "\n",
            "Epoch 00024: val_loss improved from 0.55188 to 0.54635, saving model to /content/gdrive/My Drive/LSTM_autoencoder/lstm_autoencoder_classifier.h5\n",
            "Epoch 25/100\n",
            "1126/1126 [==============================] - 1s 635us/step - loss: 0.4989 - val_loss: 0.5418\n",
            "\n",
            "Epoch 00025: val_loss improved from 0.54635 to 0.54177, saving model to /content/gdrive/My Drive/LSTM_autoencoder/lstm_autoencoder_classifier.h5\n",
            "Epoch 26/100\n",
            "1126/1126 [==============================] - 1s 786us/step - loss: 0.4953 - val_loss: 0.5382\n",
            "\n",
            "Epoch 00026: val_loss improved from 0.54177 to 0.53825, saving model to /content/gdrive/My Drive/LSTM_autoencoder/lstm_autoencoder_classifier.h5\n",
            "Epoch 27/100\n",
            "1126/1126 [==============================] - 1s 686us/step - loss: 0.4912 - val_loss: 0.5333\n",
            "\n",
            "Epoch 00027: val_loss improved from 0.53825 to 0.53331, saving model to /content/gdrive/My Drive/LSTM_autoencoder/lstm_autoencoder_classifier.h5\n",
            "Epoch 28/100\n",
            "1126/1126 [==============================] - 1s 720us/step - loss: 0.4863 - val_loss: 0.5333\n",
            "\n",
            "Epoch 00028: val_loss improved from 0.53331 to 0.53325, saving model to /content/gdrive/My Drive/LSTM_autoencoder/lstm_autoencoder_classifier.h5\n",
            "Epoch 29/100\n",
            "1126/1126 [==============================] - 1s 679us/step - loss: 0.4829 - val_loss: 0.5291\n",
            "\n",
            "Epoch 00029: val_loss improved from 0.53325 to 0.52915, saving model to /content/gdrive/My Drive/LSTM_autoencoder/lstm_autoencoder_classifier.h5\n",
            "Epoch 30/100\n",
            "1126/1126 [==============================] - 1s 675us/step - loss: 0.4796 - val_loss: 0.5262\n",
            "\n",
            "Epoch 00030: val_loss improved from 0.52915 to 0.52617, saving model to /content/gdrive/My Drive/LSTM_autoencoder/lstm_autoencoder_classifier.h5\n",
            "Epoch 31/100\n",
            "1126/1126 [==============================] - 1s 679us/step - loss: 0.4759 - val_loss: 0.5250\n",
            "\n",
            "Epoch 00031: val_loss improved from 0.52617 to 0.52504, saving model to /content/gdrive/My Drive/LSTM_autoencoder/lstm_autoencoder_classifier.h5\n",
            "Epoch 32/100\n",
            "1126/1126 [==============================] - 1s 683us/step - loss: 0.4728 - val_loss: 0.5227\n",
            "\n",
            "Epoch 00032: val_loss improved from 0.52504 to 0.52268, saving model to /content/gdrive/My Drive/LSTM_autoencoder/lstm_autoencoder_classifier.h5\n",
            "Epoch 33/100\n",
            "1126/1126 [==============================] - 1s 677us/step - loss: 0.4691 - val_loss: 0.5229\n",
            "\n",
            "Epoch 00033: val_loss did not improve from 0.52268\n",
            "Epoch 34/100\n",
            "1126/1126 [==============================] - 1s 719us/step - loss: 0.4660 - val_loss: 0.5194\n",
            "\n",
            "Epoch 00034: val_loss improved from 0.52268 to 0.51941, saving model to /content/gdrive/My Drive/LSTM_autoencoder/lstm_autoencoder_classifier.h5\n",
            "Epoch 35/100\n",
            "1126/1126 [==============================] - 1s 680us/step - loss: 0.4644 - val_loss: 0.5167\n",
            "\n",
            "Epoch 00035: val_loss improved from 0.51941 to 0.51669, saving model to /content/gdrive/My Drive/LSTM_autoencoder/lstm_autoencoder_classifier.h5\n",
            "Epoch 36/100\n",
            "1126/1126 [==============================] - 1s 673us/step - loss: 0.4604 - val_loss: 0.5156\n",
            "\n",
            "Epoch 00036: val_loss improved from 0.51669 to 0.51560, saving model to /content/gdrive/My Drive/LSTM_autoencoder/lstm_autoencoder_classifier.h5\n",
            "Epoch 37/100\n",
            "1126/1126 [==============================] - 1s 676us/step - loss: 0.4572 - val_loss: 0.5125\n",
            "\n",
            "Epoch 00037: val_loss improved from 0.51560 to 0.51248, saving model to /content/gdrive/My Drive/LSTM_autoencoder/lstm_autoencoder_classifier.h5\n",
            "Epoch 38/100\n",
            "1126/1126 [==============================] - 1s 666us/step - loss: 0.4545 - val_loss: 0.5074\n",
            "\n",
            "Epoch 00038: val_loss improved from 0.51248 to 0.50738, saving model to /content/gdrive/My Drive/LSTM_autoencoder/lstm_autoencoder_classifier.h5\n",
            "Epoch 39/100\n",
            "1126/1126 [==============================] - 1s 666us/step - loss: 0.4522 - val_loss: 0.5105\n",
            "\n",
            "Epoch 00039: val_loss did not improve from 0.50738\n",
            "Epoch 40/100\n",
            "1126/1126 [==============================] - 1s 700us/step - loss: 0.4500 - val_loss: 0.5061\n",
            "\n",
            "Epoch 00040: val_loss improved from 0.50738 to 0.50612, saving model to /content/gdrive/My Drive/LSTM_autoencoder/lstm_autoencoder_classifier.h5\n",
            "Epoch 41/100\n",
            "1126/1126 [==============================] - 1s 688us/step - loss: 0.4460 - val_loss: 0.5043\n",
            "\n",
            "Epoch 00041: val_loss improved from 0.50612 to 0.50430, saving model to /content/gdrive/My Drive/LSTM_autoencoder/lstm_autoencoder_classifier.h5\n",
            "Epoch 42/100\n",
            "1126/1126 [==============================] - 1s 688us/step - loss: 0.4440 - val_loss: 0.5071\n",
            "\n",
            "Epoch 00042: val_loss did not improve from 0.50430\n",
            "Epoch 43/100\n",
            "1126/1126 [==============================] - 1s 711us/step - loss: 0.4414 - val_loss: 0.4984\n",
            "\n",
            "Epoch 00043: val_loss improved from 0.50430 to 0.49842, saving model to /content/gdrive/My Drive/LSTM_autoencoder/lstm_autoencoder_classifier.h5\n",
            "Epoch 44/100\n",
            "1126/1126 [==============================] - 1s 701us/step - loss: 0.4392 - val_loss: 0.5014\n",
            "\n",
            "Epoch 00044: val_loss did not improve from 0.49842\n",
            "Epoch 45/100\n",
            "1126/1126 [==============================] - 1s 698us/step - loss: 0.4362 - val_loss: 0.4974\n",
            "\n",
            "Epoch 00045: val_loss improved from 0.49842 to 0.49741, saving model to /content/gdrive/My Drive/LSTM_autoencoder/lstm_autoencoder_classifier.h5\n",
            "Epoch 46/100\n",
            "1126/1126 [==============================] - 1s 703us/step - loss: 0.4336 - val_loss: 0.4934\n",
            "\n",
            "Epoch 00046: val_loss improved from 0.49741 to 0.49336, saving model to /content/gdrive/My Drive/LSTM_autoencoder/lstm_autoencoder_classifier.h5\n",
            "Epoch 47/100\n",
            "1126/1126 [==============================] - 1s 686us/step - loss: 0.4325 - val_loss: 0.4965\n",
            "\n",
            "Epoch 00047: val_loss did not improve from 0.49336\n",
            "Epoch 48/100\n",
            "1126/1126 [==============================] - 1s 681us/step - loss: 0.4301 - val_loss: 0.4940\n",
            "\n",
            "Epoch 00048: val_loss did not improve from 0.49336\n",
            "Epoch 49/100\n",
            "1126/1126 [==============================] - 1s 688us/step - loss: 0.4257 - val_loss: 0.4931\n",
            "\n",
            "Epoch 00049: val_loss improved from 0.49336 to 0.49308, saving model to /content/gdrive/My Drive/LSTM_autoencoder/lstm_autoencoder_classifier.h5\n",
            "Epoch 50/100\n",
            "1126/1126 [==============================] - 1s 688us/step - loss: 0.4242 - val_loss: 0.4945\n",
            "\n",
            "Epoch 00050: val_loss did not improve from 0.49308\n",
            "Epoch 51/100\n",
            "1126/1126 [==============================] - 1s 685us/step - loss: 0.4218 - val_loss: 0.4947\n",
            "\n",
            "Epoch 00051: val_loss did not improve from 0.49308\n",
            "Epoch 52/100\n",
            "1126/1126 [==============================] - 1s 712us/step - loss: 0.4212 - val_loss: 0.4927\n",
            "\n",
            "Epoch 00052: val_loss improved from 0.49308 to 0.49270, saving model to /content/gdrive/My Drive/LSTM_autoencoder/lstm_autoencoder_classifier.h5\n",
            "Epoch 53/100\n",
            "1126/1126 [==============================] - 1s 688us/step - loss: 0.4185 - val_loss: 0.4931\n",
            "\n",
            "Epoch 00053: val_loss did not improve from 0.49270\n",
            "Epoch 54/100\n",
            "1126/1126 [==============================] - 1s 691us/step - loss: 0.4157 - val_loss: 0.4914\n",
            "\n",
            "Epoch 00054: val_loss improved from 0.49270 to 0.49145, saving model to /content/gdrive/My Drive/LSTM_autoencoder/lstm_autoencoder_classifier.h5\n",
            "Epoch 55/100\n",
            "1126/1126 [==============================] - 1s 674us/step - loss: 0.4126 - val_loss: 0.4836\n",
            "\n",
            "Epoch 00055: val_loss improved from 0.49145 to 0.48360, saving model to /content/gdrive/My Drive/LSTM_autoencoder/lstm_autoencoder_classifier.h5\n",
            "Epoch 56/100\n",
            "1126/1126 [==============================] - 1s 708us/step - loss: 0.4128 - val_loss: 0.4851\n",
            "\n",
            "Epoch 00056: val_loss did not improve from 0.48360\n",
            "Epoch 57/100\n",
            "1126/1126 [==============================] - 1s 683us/step - loss: 0.4097 - val_loss: 0.4878\n",
            "\n",
            "Epoch 00057: val_loss did not improve from 0.48360\n",
            "Epoch 58/100\n",
            "1126/1126 [==============================] - 1s 704us/step - loss: 0.4077 - val_loss: 0.4828\n",
            "\n",
            "Epoch 00058: val_loss improved from 0.48360 to 0.48281, saving model to /content/gdrive/My Drive/LSTM_autoencoder/lstm_autoencoder_classifier.h5\n",
            "Epoch 59/100\n",
            "1126/1126 [==============================] - 1s 680us/step - loss: 0.4056 - val_loss: 0.4851\n",
            "\n",
            "Epoch 00059: val_loss did not improve from 0.48281\n",
            "Epoch 60/100\n",
            "1126/1126 [==============================] - 1s 680us/step - loss: 0.4059 - val_loss: 0.4839\n",
            "\n",
            "Epoch 00060: val_loss did not improve from 0.48281\n",
            "Epoch 61/100\n",
            "1126/1126 [==============================] - 1s 684us/step - loss: 0.4029 - val_loss: 0.4843\n",
            "\n",
            "Epoch 00061: val_loss did not improve from 0.48281\n",
            "Epoch 62/100\n",
            "1126/1126 [==============================] - 1s 740us/step - loss: 0.4012 - val_loss: 0.4808\n",
            "\n",
            "Epoch 00062: val_loss improved from 0.48281 to 0.48078, saving model to /content/gdrive/My Drive/LSTM_autoencoder/lstm_autoencoder_classifier.h5\n",
            "Epoch 63/100\n",
            "1126/1126 [==============================] - 1s 673us/step - loss: 0.3982 - val_loss: 0.4812\n",
            "\n",
            "Epoch 00063: val_loss did not improve from 0.48078\n",
            "Epoch 64/100\n",
            "1126/1126 [==============================] - 1s 702us/step - loss: 0.3969 - val_loss: 0.4821\n",
            "\n",
            "Epoch 00064: val_loss did not improve from 0.48078\n",
            "Epoch 65/100\n",
            "1126/1126 [==============================] - 1s 680us/step - loss: 0.3956 - val_loss: 0.4801\n",
            "\n",
            "Epoch 00065: val_loss improved from 0.48078 to 0.48012, saving model to /content/gdrive/My Drive/LSTM_autoencoder/lstm_autoencoder_classifier.h5\n",
            "Epoch 66/100\n",
            "1126/1126 [==============================] - 1s 680us/step - loss: 0.3943 - val_loss: 0.4774\n",
            "\n",
            "Epoch 00066: val_loss improved from 0.48012 to 0.47738, saving model to /content/gdrive/My Drive/LSTM_autoencoder/lstm_autoencoder_classifier.h5\n",
            "Epoch 67/100\n",
            "1126/1126 [==============================] - 1s 680us/step - loss: 0.3932 - val_loss: 0.4814\n",
            "\n",
            "Epoch 00067: val_loss did not improve from 0.47738\n",
            "Epoch 68/100\n",
            "1126/1126 [==============================] - 1s 717us/step - loss: 0.3926 - val_loss: 0.4778\n",
            "\n",
            "Epoch 00068: val_loss did not improve from 0.47738\n",
            "Epoch 69/100\n",
            "1126/1126 [==============================] - 1s 674us/step - loss: 0.3923 - val_loss: 0.4792\n",
            "\n",
            "Epoch 00069: val_loss did not improve from 0.47738\n",
            "Epoch 70/100\n",
            "1126/1126 [==============================] - 1s 678us/step - loss: 0.3901 - val_loss: 0.4821\n",
            "\n",
            "Epoch 00070: val_loss did not improve from 0.47738\n",
            "Epoch 71/100\n",
            "1126/1126 [==============================] - 1s 702us/step - loss: 0.3892 - val_loss: 0.4759\n",
            "\n",
            "Epoch 00071: val_loss improved from 0.47738 to 0.47592, saving model to /content/gdrive/My Drive/LSTM_autoencoder/lstm_autoencoder_classifier.h5\n",
            "Epoch 72/100\n",
            "1126/1126 [==============================] - 1s 684us/step - loss: 0.3878 - val_loss: 0.4821\n",
            "\n",
            "Epoch 00072: val_loss did not improve from 0.47592\n",
            "Epoch 73/100\n",
            "1126/1126 [==============================] - 1s 670us/step - loss: 0.3875 - val_loss: 0.4808\n",
            "\n",
            "Epoch 00073: val_loss did not improve from 0.47592\n",
            "Epoch 74/100\n",
            "1126/1126 [==============================] - 1s 673us/step - loss: 0.3847 - val_loss: 0.4759\n",
            "\n",
            "Epoch 00074: val_loss did not improve from 0.47592\n",
            "Epoch 75/100\n",
            "1126/1126 [==============================] - 1s 695us/step - loss: 0.3830 - val_loss: 0.4747\n",
            "\n",
            "Epoch 00075: val_loss improved from 0.47592 to 0.47471, saving model to /content/gdrive/My Drive/LSTM_autoencoder/lstm_autoencoder_classifier.h5\n",
            "Epoch 76/100\n",
            "1126/1126 [==============================] - 1s 680us/step - loss: 0.3821 - val_loss: 0.4725\n",
            "\n",
            "Epoch 00076: val_loss improved from 0.47471 to 0.47249, saving model to /content/gdrive/My Drive/LSTM_autoencoder/lstm_autoencoder_classifier.h5\n",
            "Epoch 77/100\n",
            "1126/1126 [==============================] - 1s 707us/step - loss: 0.3808 - val_loss: 0.4779\n",
            "\n",
            "Epoch 00077: val_loss did not improve from 0.47249\n",
            "Epoch 78/100\n",
            "1126/1126 [==============================] - 1s 670us/step - loss: 0.3795 - val_loss: 0.4771\n",
            "\n",
            "Epoch 00078: val_loss did not improve from 0.47249\n",
            "Epoch 79/100\n",
            "1126/1126 [==============================] - 1s 680us/step - loss: 0.3789 - val_loss: 0.4759\n",
            "\n",
            "Epoch 00079: val_loss did not improve from 0.47249\n",
            "Epoch 80/100\n",
            "1126/1126 [==============================] - 1s 684us/step - loss: 0.3782 - val_loss: 0.4790\n",
            "\n",
            "Epoch 00080: val_loss did not improve from 0.47249\n",
            "Epoch 81/100\n",
            "1126/1126 [==============================] - 1s 710us/step - loss: 0.3772 - val_loss: 0.4781\n",
            "\n",
            "Epoch 00081: val_loss did not improve from 0.47249\n",
            "\n",
            "Epoch 00081: ReduceLROnPlateau reducing learning rate to 5.499999970197678e-05.\n",
            "Epoch 82/100\n",
            "1126/1126 [==============================] - 1s 670us/step - loss: 0.3715 - val_loss: 0.4731\n",
            "\n",
            "Epoch 00082: val_loss did not improve from 0.47249\n",
            "Epoch 83/100\n",
            "1126/1126 [==============================] - 1s 705us/step - loss: 0.3683 - val_loss: 0.4721\n",
            "\n",
            "Epoch 00083: val_loss improved from 0.47249 to 0.47210, saving model to /content/gdrive/My Drive/LSTM_autoencoder/lstm_autoencoder_classifier.h5\n",
            "Epoch 84/100\n",
            "1126/1126 [==============================] - 1s 682us/step - loss: 0.3676 - val_loss: 0.4723\n",
            "\n",
            "Epoch 00084: val_loss did not improve from 0.47210\n",
            "Epoch 85/100\n",
            "1126/1126 [==============================] - 1s 674us/step - loss: 0.3672 - val_loss: 0.4720\n",
            "\n",
            "Epoch 00085: val_loss improved from 0.47210 to 0.47198, saving model to /content/gdrive/My Drive/LSTM_autoencoder/lstm_autoencoder_classifier.h5\n",
            "Epoch 86/100\n",
            "1126/1126 [==============================] - 1s 684us/step - loss: 0.3669 - val_loss: 0.4721\n",
            "\n",
            "Epoch 00086: val_loss did not improve from 0.47198\n",
            "Epoch 87/100\n",
            "1126/1126 [==============================] - 1s 673us/step - loss: 0.3666 - val_loss: 0.4724\n",
            "\n",
            "Epoch 00087: val_loss did not improve from 0.47198\n",
            "Epoch 88/100\n",
            "1126/1126 [==============================] - 1s 689us/step - loss: 0.3664 - val_loss: 0.4728\n",
            "\n",
            "Epoch 00088: val_loss did not improve from 0.47198\n",
            "Epoch 89/100\n",
            "1126/1126 [==============================] - 1s 736us/step - loss: 0.3663 - val_loss: 0.4733\n",
            "\n",
            "Epoch 00089: val_loss did not improve from 0.47198\n",
            "Epoch 90/100\n",
            "1126/1126 [==============================] - 1s 695us/step - loss: 0.3660 - val_loss: 0.4723\n",
            "\n",
            "Epoch 00090: val_loss did not improve from 0.47198\n",
            "\n",
            "Epoch 00090: ReduceLROnPlateau reducing learning rate to 5.500000042957254e-06.\n",
            "Epoch 91/100\n",
            "1126/1126 [==============================] - 1s 689us/step - loss: 0.3654 - val_loss: 0.4726\n",
            "\n",
            "Epoch 00091: val_loss did not improve from 0.47198\n",
            "Epoch 92/100\n",
            "1126/1126 [==============================] - 1s 666us/step - loss: 0.3653 - val_loss: 0.4728\n",
            "\n",
            "Epoch 00092: val_loss did not improve from 0.47198\n",
            "Epoch 93/100\n",
            "1126/1126 [==============================] - 1s 722us/step - loss: 0.3653 - val_loss: 0.4729\n",
            "\n",
            "Epoch 00093: val_loss did not improve from 0.47198\n",
            "Epoch 94/100\n",
            "1126/1126 [==============================] - 1s 705us/step - loss: 0.3653 - val_loss: 0.4729\n",
            "\n",
            "Epoch 00094: val_loss did not improve from 0.47198\n",
            "Epoch 95/100\n",
            "1126/1126 [==============================] - 1s 706us/step - loss: 0.3653 - val_loss: 0.4729\n",
            "\n",
            "Epoch 00095: val_loss did not improve from 0.47198\n",
            "\n",
            "Epoch 00095: ReduceLROnPlateau reducing learning rate to 5.500000042957254e-07.\n",
            "Epoch 96/100\n",
            "1126/1126 [==============================] - 1s 679us/step - loss: 0.3652 - val_loss: 0.4729\n",
            "\n",
            "Epoch 00096: val_loss did not improve from 0.47198\n",
            "Epoch 97/100\n",
            "1126/1126 [==============================] - 1s 687us/step - loss: 0.3652 - val_loss: 0.4729\n",
            "\n",
            "Epoch 00097: val_loss did not improve from 0.47198\n",
            "Epoch 98/100\n",
            "1126/1126 [==============================] - 1s 690us/step - loss: 0.3652 - val_loss: 0.4730\n",
            "\n",
            "Epoch 00098: val_loss did not improve from 0.47198\n",
            "Epoch 99/100\n",
            "1126/1126 [==============================] - 1s 682us/step - loss: 0.3652 - val_loss: 0.4730\n",
            "\n",
            "Epoch 00099: val_loss did not improve from 0.47198\n",
            "Epoch 100/100\n",
            "1126/1126 [==============================] - 1s 689us/step - loss: 0.3652 - val_loss: 0.4730\n",
            "\n",
            "Epoch 00100: val_loss did not improve from 0.47198\n"
          ],
          "name": "stdout"
        }
      ]
    },
    {
      "cell_type": "code",
      "metadata": {
        "id": "cxtGGYuHyyz2",
        "colab_type": "code",
        "outputId": "730b81d4-87ae-4bba-8ae5-59fca65c2cb2",
        "colab": {
          "base_uri": "https://localhost:8080/",
          "height": 404
        }
      },
      "source": [
        "plt.plot(lstm_autoencoder_history['loss'], linewidth=2, label='Train')\n",
        "plt.plot(lstm_autoencoder_history['val_loss'], linewidth=2, label='Valid')\n",
        "plt.legend(loc='upper right')\n",
        "plt.title('Model loss')\n",
        "plt.ylabel('Loss')\n",
        "plt.xlabel('Epoch')\n",
        "plt.show()"
      ],
      "execution_count": 27,
      "outputs": [
        {
          "output_type": "display_data",
          "data": {
            "image/png": "[encoded data removed]",
            "text/plain": [
              "<Figure size 576x432 with 1 Axes>"
            ]
          },
          "metadata": {
            "tags": []
          }
        }
      ]
    },
    {
      "cell_type": "markdown",
      "metadata": {
        "id": "OScEKx1Pyyz7",
        "colab_type": "text"
      },
      "source": [
        "### Sanity check\n",
        "Doing a sanity check by validating the reconstruction error \n",
        "on the train data. Here we will reconstruct the entire train \n",
        "data with both 0 and 1 labels.\n",
        "\n",
        "**Expectation**: the reconstruction error of 0 labeled data should\n",
        "be smaller than 1.\n",
        "\n",
        "**Caution**: do not use this result for model evaluation. It may\n",
        "result into overfitting issues."
      ]
    },
    {
      "cell_type": "code",
      "metadata": {
        "id": "PbAw7kQDyyz8",
        "colab_type": "code",
        "outputId": "ecf6c365-4c29-4c71-ab5f-90abceafa18b",
        "colab": {
          "base_uri": "https://localhost:8080/",
          "height": 404
        }
      },
      "source": [
        "train_x_predictions = lstm_autoencoder.predict(X_train_scaled)\n",
        "mse = mean(power(flatten(X_train_scaled) - flatten(train_x_predictions), 2), axis=1)\n",
        "\n",
        "error_df = DataFrame({'Reconstruction_error': mse,\n",
        "                       'True_class': y_train.tolist()})\n",
        "\n",
        "groups = error_df.groupby('True_class')\n",
        "fig, ax = plt.subplots()\n",
        "\n",
        "for name, group in groups:\n",
        "    ax.plot(group.index, group.Reconstruction_error, marker='o', ms=3.5, linestyle='',\n",
        "            label = 'Break' if name == 1 else 'Normal')\n",
        "ax.legend()\n",
        "plt.title('Reconstruction error for different classes')\n",
        "plt.ylabel('Reconstruction error')\n",
        "plt.xlabel('Data point index')\n",
        "plt.show();"
      ],
      "execution_count": 28,
      "outputs": [
        {
          "output_type": "display_data",
          "data": {
            "image/png": "[encoded data removed]",
            "text/plain": [
              "<Figure size 576x432 with 1 Axes>"
            ]
          },
          "metadata": {
            "tags": []
          }
        }
      ]
    },
    {
      "cell_type": "markdown",
      "metadata": {
        "id": "ayrKThIyyy0A",
        "colab_type": "text"
      },
      "source": [
        "## Predictions using the Autoencoder"
      ]
    },
    {
      "cell_type": "code",
      "metadata": {
        "id": "hZvmE6JIyy0C",
        "colab_type": "code",
        "outputId": "34032408-99f7-49b7-afd6-85226e8f03c6",
        "colab": {
          "base_uri": "https://localhost:8080/",
          "height": 404
        }
      },
      "source": [
        "valid_x_predictions = lstm_autoencoder.predict(X_valid_scaled)\n",
        "mse = mean(power(flatten(X_valid_scaled) - flatten(valid_x_predictions), 2), axis=1)\n",
        "\n",
        "error_df = DataFrame({'Reconstruction_error': mse,\n",
        "                        'True_class': y_valid.tolist()})\n",
        "\n",
        "precision_rt, recall_rt, threshold_rt = precision_recall_curve(error_df.True_class, error_df.Reconstruction_error)\n",
        "plt.plot(threshold_rt, precision_rt[1:], label='Precision', linewidth=5)\n",
        "plt.plot(threshold_rt, recall_rt[1:], label='Recall', linewidth=5)\n",
        "plt.title('Precision and recall for different threshold values')\n",
        "plt.xlabel('Threshold')\n",
        "plt.ylabel('Precision/Recall')\n",
        "plt.legend()\n",
        "plt.show()"
      ],
      "execution_count": 29,
      "outputs": [
        {
          "output_type": "display_data",
          "data": {
            "image/png": "[encoded data removed]",
            "text/plain": [
              "<Figure size 576x432 with 1 Axes>"
            ]
          },
          "metadata": {
            "tags": []
          }
        }
      ]
    },
    {
      "cell_type": "code",
      "metadata": {
        "id": "oowOhqFXyy0G",
        "colab_type": "code",
        "outputId": "96d56db7-e278-4b99-bb6f-5cec942ad341",
        "colab": {
          "base_uri": "https://localhost:8080/",
          "height": 404
        }
      },
      "source": [
        "test_x_predictions = lstm_autoencoder.predict(X_test_scaled)\n",
        "mse = mean(power(flatten(X_test_scaled) - flatten(test_x_predictions), 2), axis=1)\n",
        "\n",
        "error_df = DataFrame({'Reconstruction_error': mse,\n",
        "                      'True_class': y_test.tolist()})\n",
        "\n",
        "threshold_fixed = 0.3\n",
        "groups = error_df.groupby('True_class')\n",
        "fig, ax = plt.subplots()\n",
        "\n",
        "for name, group in groups:\n",
        "    ax.plot(group.index, group.Reconstruction_error, marker='o', ms=3.5, linestyle='',\n",
        "            label= 'Break' if name == 1 else 'Normal')\n",
        "ax.hlines(threshold_fixed, ax.get_xlim()[0], ax.get_xlim()[1], colors='r', zorder=100, label='Threshold')\n",
        "ax.legend()\n",
        "plt.title('Reconstruction error for different classes')\n",
        "plt.ylabel('Reconstruction error')\n",
        "plt.xlabel('Data point index')\n",
        "plt.show();"
      ],
      "execution_count": 30,
      "outputs": [
        {
          "output_type": "display_data",
          "data": {
            "image/png": "[encoded data removed]",
            "text/plain": [
              "<Figure size 576x432 with 1 Axes>"
            ]
          },
          "metadata": {
            "tags": []
          }
        }
      ]
    },
    {
      "cell_type": "code",
      "metadata": {
        "id": "1UzmkPL0yy0K",
        "colab_type": "code",
        "colab": {}
      },
      "source": [
        "pred_y = [1 if e > threshold_fixed else 0 for e in error_df.Reconstruction_error.values]"
      ],
      "execution_count": 0,
      "outputs": []
    },
    {
      "cell_type": "code",
      "metadata": {
        "id": "BYZpiO7Xyy0L",
        "colab_type": "code",
        "outputId": "964fc1f5-5735-4117-b605-629cb38025ee",
        "colab": {
          "base_uri": "https://localhost:8080/",
          "height": 404
        }
      },
      "source": [
        "conf_matrix = confusion_matrix(error_df.True_class, pred_y)\n",
        "\n",
        "plt.figure(figsize=(6, 6))\n",
        "sns.heatmap(conf_matrix, xticklabels=LABELS, yticklabels=LABELS, annot=True, fmt=\"d\");\n",
        "plt.title('Confusion matrix')\n",
        "plt.ylabel('True class')\n",
        "plt.xlabel('Predicted class')\n",
        "plt.show()"
      ],
      "execution_count": 32,
      "outputs": [
        {
          "output_type": "display_data",
          "data": {
            "image/png": "[encoded data removed]",
            "text/plain": [
              "<Figure size 432x432 with 2 Axes>"
            ]
          },
          "metadata": {
            "tags": []
          }
        }
      ]
    },
    {
      "cell_type": "code",
      "metadata": {
        "id": "XlMlT2E2yy0O",
        "colab_type": "code",
        "outputId": "f191d8fb-e1de-41f3-b150-808b39fd6beb",
        "colab": {
          "base_uri": "https://localhost:8080/",
          "height": 404
        }
      },
      "source": [
        "false_pos_rate, true_pos_rate, thresholds = roc_curve(error_df.True_class, error_df.Reconstruction_error)\n",
        "roc_auc = auc(false_pos_rate, true_pos_rate,)\n",
        "\n",
        "plt.plot(false_pos_rate, true_pos_rate, linewidth=5, label='AUC = %0.3f'% roc_auc)\n",
        "plt.plot([0,1],[0,1], linewidth=5)\n",
        "\n",
        "plt.xlim([-0.01, 1])\n",
        "plt.ylim([0, 1.01])\n",
        "plt.legend(loc='lower right')\n",
        "plt.title('Receiver operating characteristic curve (ROC)')\n",
        "plt.ylabel('True Positive Rate')\n",
        "plt.xlabel('False Positive Rate')\n",
        "plt.show()"
      ],
      "execution_count": 33,
      "outputs": [
        {
          "output_type": "display_data",
          "data": {
            "image/png": "[encoded data removed]",
            "text/plain": [
              "<Figure size 576x432 with 1 Axes>"
            ]
          },
          "metadata": {
            "tags": []
          }
        }
      ]
    }
  ]
}