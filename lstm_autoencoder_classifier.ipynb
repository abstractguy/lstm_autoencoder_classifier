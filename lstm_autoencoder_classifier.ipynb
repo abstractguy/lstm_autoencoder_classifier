{
  "nbformat": 4,
  "nbformat_minor": 0,
  "metadata": {
    "kernelspec": {
      "name": "python3",
      "display_name": "Python 3"
    },
    "language_info": {
      "codemirror_mode": {
        "name": "ipython",
        "version": 3
      },
      "file_extension": ".py",
      "mimetype": "text/x-python",
      "name": "python",
      "nbconvert_exporter": "python",
      "pygments_lexer": "ipython3",
      "version": "3.7.1"
    },
    "colab": {
      "name": "lstm_autoencoder_classifier.ipynb",
      "version": "0.3.2",
      "provenance": [],
      "collapsed_sections": [],
      "include_colab_link": true
    },
    "accelerator": "TPU"
  },
  "cells": [
    {
      "cell_type": "markdown",
      "metadata": {
        "id": "view-in-github",
        "colab_type": "text"
      },
      "source": [
        "<a href=\"https://colab.research.google.com/github/abstractguy/lstm_autoencoder_classifier/blob/master/lstm_autoencoder_classifier.ipynb\" target=\"_parent\"><img src=\"https://colab.research.google.com/assets/colab-badge.svg\" alt=\"Open In Colab\"/></a>"
      ]
    },
    {
      "cell_type": "markdown",
      "metadata": {
        "id": "kZOZmPmIyyxr",
        "colab_type": "text"
      },
      "source": [
        "# LSTM Autoencoder for Rare Event Binary Classification\n",
        "\n",
        "This is a continuation of the regular autoencoder for rare event classification presented in\n",
        "https://towardsdatascience.com/extreme-rare-event-classification-using-autoencoders-in-keras-a565b386f098\n",
        "and code present in\n",
        "https://github.com/cran2367/autoencoder_classifier/blob/master/autoencoder_classifier.ipynb\n",
        "Here we will show an implementation of building a binary classifier using LSTM Autoencoders. \n",
        "Similar to the previous post, the purpose is to show the implementation steps. The Autoencoder tuning for performance improvement can be done.\n",
        "\n",
        "LSTM requires closer attention to preparing the data. Here we have all the steps, and few tests to validate the data preparation.\n",
        "\n",
        "The dataset used here is taken from here,\n",
        "\n",
        "**Dataset: Rare Event Classification in Multivariate Time Series** https://arxiv.org/abs/1809.10717 (please cite this article, if using the dataset)."
      ]
    },
    {
      "cell_type": "code",
      "metadata": {
        "id": "HbEkEbD3EOpI",
        "colab_type": "code",
        "colab": {}
      },
      "source": [
        "# Hardcode sizes parameters.\n",
        "main_ticker = 'FB'\n",
        "tickers_list = ['INTC', 'AAPL', 'NVDA', 'CSCO', 'AMD', 'AMZN', 'GOOG', 'MSFT', 'S', 'BAC', 'XLNX', 'WFC', '^DJI', '^GSPC', '^NYA', '^IXIC']\n",
        "#tickers_list = []\n",
        "trends = True\n",
        "epochs = 100\n",
        "batch = 16\n",
        "learning_rate = 0.001\n",
        "random_seed = 123 # Used to help randomly select the data points.\n",
        "test_size = 0.2\n",
        "min_increase_rate = 1.027"
      ],
      "execution_count": 0,
      "outputs": []
    },
    {
      "cell_type": "code",
      "metadata": {
        "id": "MIaFe10aEU8k",
        "colab_type": "code",
        "outputId": "d7bc61f5-ab8f-4966-9b89-bb763aa8ba21",
        "colab": {
          "base_uri": "https://localhost:8080/",
          "height": 293
        }
      },
      "source": [
        "!pip install pytrends"
      ],
      "execution_count": 2,
      "outputs": [
        {
          "output_type": "stream",
          "text": [
            "Collecting pytrends\n",
            "  Downloading https://files.pythonhosted.org/packages/c7/ca/bf9ed973416290270c9aea8f8b3cf7e75a2280918838a4bea4067019ef11/pytrends-4.6.0-py3-none-any.whl\n",
            "Requirement already satisfied: requests in /usr/local/lib/python3.6/dist-packages (from pytrends) (2.21.0)\n",
            "Requirement already satisfied: pandas in /usr/local/lib/python3.6/dist-packages (from pytrends) (0.24.2)\n",
            "Requirement already satisfied: lxml in /usr/local/lib/python3.6/dist-packages (from pytrends) (4.2.6)\n",
            "Requirement already satisfied: chardet<3.1.0,>=3.0.2 in /usr/local/lib/python3.6/dist-packages (from requests->pytrends) (3.0.4)\n",
            "Requirement already satisfied: urllib3<1.25,>=1.21.1 in /usr/local/lib/python3.6/dist-packages (from requests->pytrends) (1.24.3)\n",
            "Requirement already satisfied: certifi>=2017.4.17 in /usr/local/lib/python3.6/dist-packages (from requests->pytrends) (2019.6.16)\n",
            "Requirement already satisfied: idna<2.9,>=2.5 in /usr/local/lib/python3.6/dist-packages (from requests->pytrends) (2.8)\n",
            "Requirement already satisfied: numpy>=1.12.0 in /usr/local/lib/python3.6/dist-packages (from pandas->pytrends) (1.16.4)\n",
            "Requirement already satisfied: pytz>=2011k in /usr/local/lib/python3.6/dist-packages (from pandas->pytrends) (2018.9)\n",
            "Requirement already satisfied: python-dateutil>=2.5.0 in /usr/local/lib/python3.6/dist-packages (from pandas->pytrends) (2.5.3)\n",
            "Requirement already satisfied: six>=1.5 in /usr/local/lib/python3.6/dist-packages (from python-dateutil>=2.5.0->pandas->pytrends) (1.12.0)\n",
            "Installing collected packages: pytrends\n",
            "Successfully installed pytrends-4.6.0\n"
          ],
          "name": "stdout"
        }
      ]
    },
    {
      "cell_type": "code",
      "metadata": {
        "id": "mJuuvLMCEVuc",
        "colab_type": "code",
        "outputId": "1b564a9f-b5c5-4970-9768-85d7ecbeea63",
        "colab": {
          "base_uri": "https://localhost:8080/",
          "height": 35
        }
      },
      "source": [
        "%matplotlib inline\n",
        "\n",
        "from collections import OrderedDict\n",
        "from math import sqrt\n",
        "from os import chdir\n",
        "from os.path import exists\n",
        "from datetime import datetime\n",
        "from tqdm import tqdm\n",
        "from numpy.random import seed\n",
        "from numpy import append, array, concatenate, count_nonzero, empty, empty_like, expand_dims, mean, nan, power, var, where, zeros\n",
        "from pandas import concat, DataFrame, date_range, read_csv, Series\n",
        "from pandas_datareader.data import DataReader\n",
        "from sklearn.model_selection import train_test_split\n",
        "from sklearn.preprocessing import MinMaxScaler, StandardScaler\n",
        "from sklearn.metrics import auc, classification_report, confusion_matrix, f1_score, mean_squared_error, precision_recall_curve, precision_recall_fscore_support, recall_score, roc_curve\n",
        "from tensorflow import set_random_seed\n",
        "from keras.preprocessing.sequence import TimeseriesGenerator\n",
        "from keras.models import load_model, Model, Sequential\n",
        "from keras.layers import Dense, Dropout, LSTM, RepeatVector, TimeDistributed\n",
        "from keras.callbacks import ModelCheckpoint, ReduceLROnPlateau, TensorBoard, TerminateOnNaN\n",
        "from keras.optimizers import Adam\n",
        "from keras.utils import plot_model\n",
        "from keras import optimizers, Sequential\n",
        "from google.colab.drive import mount\n",
        "from tensorboardcolab import TensorBoardColab, TensorBoardColabCallback\n",
        "from pytrends.request import TrendReq\n",
        "from pylab import rcParams\n",
        "\n",
        "import matplotlib.pyplot as plt\n",
        "import seaborn as sns"
      ],
      "execution_count": 3,
      "outputs": [
        {
          "output_type": "stream",
          "text": [
            "Using TensorFlow backend.\n"
          ],
          "name": "stderr"
        }
      ]
    },
    {
      "cell_type": "code",
      "metadata": {
        "id": "s9PfXIoazLPd",
        "colab_type": "code",
        "colab": {}
      },
      "source": [
        "path = '/content/gdrive/'\n",
        "mount(path)\n",
        "path = path + 'My Drive/LSTM_autoencoder/'\n",
        "chdir(path)"
      ],
      "execution_count": 0,
      "outputs": []
    },
    {
      "cell_type": "code",
      "metadata": {
        "id": "koUXcR8eCYt6",
        "colab_type": "code",
        "colab": {}
      },
      "source": [
        "sign = lambda x: (1, -1)[x < 0]\n",
        "\n",
        "def curve_shift(df, shift_by):\n",
        "    '''\n",
        "    This function will shift the binary labels in a dataframe.\n",
        "    The curve shift will be with respect to the 1s. \n",
        "    For example, if shift is -2, the following process\n",
        "    will happen: if row n is labeled as 1, then\n",
        "    - Make row (n+shift_by):(n+shift_by-1) = 1.\n",
        "    - Remove row n.\n",
        "    i.e. the labels will be shifted up to 2 rows up.\n",
        "    \n",
        "    Inputs:\n",
        "    df       A pandas dataframe with a binary labeled column. \n",
        "             This labeled column should be named as 'y'.\n",
        "    shift_by An integer denoting the number of rows to shift.\n",
        "    \n",
        "    Output\n",
        "    df       A dataframe with the binary labels shifted by shift.\n",
        "    '''\n",
        "\n",
        "    vector = df['y'].copy()\n",
        "    for s in range(abs(shift_by)):\n",
        "        tmp = vector.shift(sign(shift_by))\n",
        "        tmp = tmp.fillna(0)\n",
        "        vector += tmp\n",
        "    labelcol = 'y'\n",
        "    # Add vector to the df.\n",
        "    df.insert(loc=0, column=labelcol+'tmp', value=vector)\n",
        "    # Remove the rows with labelcol == 1.\n",
        "    df = df.drop(df[df[labelcol] == 1].index)\n",
        "    # Drop labelcol and rename the tmp col as labelcol.\n",
        "    df = df.drop(labelcol, axis=1)\n",
        "    df = df.rename(columns={labelcol+'tmp': labelcol})\n",
        "    # Make the labelcol binary.\n",
        "    df.loc[df[labelcol] > 0, labelcol] = 1\n",
        "\n",
        "    return df\n",
        "\n",
        "def add_ticker_to_tickers(symbol, ticker, tickers):\n",
        "    minimum_date = ticker.index.min()\n",
        "    overall_minimum_date = tickers.index.min()\n",
        "    if minimum_date > overall_minimum_date:\n",
        "        start = overall_minimum_date\n",
        "        tickers = tickers[tickers.index >= minimum_date]\n",
        "\n",
        "    tickers[symbol][tickers.index.isin(ticker.index)] = ticker\n",
        "\n",
        "    return tickers\n",
        "\n",
        "def get_stock(symbols, path=path, trends=True):\n",
        "    csv_path = path + 'dataset.csv'\n",
        "\n",
        "    if exists(csv_path):\n",
        "        tickers = read_csv(csv_path)\n",
        "    else:\n",
        "        start = datetime(1970, 1, 1)\n",
        "        end = datetime.now()\n",
        "        dates = date_range(start=start, end=end)\n",
        "        columns = concatenate([symbols, [(symbol + '_trend') for symbol in symbols]]) if trends else symbols\n",
        "        tickers = DataFrame(nan, index=dates, columns=columns)\n",
        "        tickers.index.name = 'Date'\n",
        "        if trends:\n",
        "            pytrends = TrendReq(hl='en-US', tz=360)\n",
        "\n",
        "        for symbol in tqdm(symbols, unit='symbol'):\n",
        "            try:\n",
        "                ticker = DataReader(symbol, 'yahoo', start=start, end=end)\n",
        "                ticker = (ticker.Close / ticker.Open).dropna()\n",
        "                tickers = add_ticker_to_tickers(symbol, ticker, tickers)\n",
        "                if trends:\n",
        "                    pytrends.build_payload([symbol], timeframe='today 5-y')\n",
        "                    ticker = pytrends.interest_over_time()[symbol]\n",
        "                    tickers = add_ticker_to_tickers(symbol + '_trend', ticker, tickers)\n",
        "            except:\n",
        "                pass\n",
        "\n",
        "        tickers = tickers.fillna(method='backfill')\n",
        "\n",
        "        tickers.to_csv(csv_path)\n",
        "\n",
        "    return tickers\n",
        "\n",
        "def plot_dataset(dataset):\n",
        "    plt.plot(dataset)\n",
        "    plt.xlabel('Days')\n",
        "    plt.ylabel('Derivatives')\n",
        "    plt.show()\n",
        "\n",
        "def get_y_from_generator(generator):\n",
        "    \"\"\"Get all targets y from a TimeseriesGenerator instance.\"\"\"\n",
        "    y = None\n",
        "\n",
        "    for i in range(len(generator)):\n",
        "        batch_y = generator[i][1]\n",
        "\n",
        "        if y is None:\n",
        "            y = batch_y\n",
        "        else:\n",
        "            y = append(y, batch_y)\n",
        "\n",
        "    y = y.reshape((-1, 1))\n",
        "    print(y.shape)\n",
        "    return y\n",
        "\n",
        "def binary_accuracy(a, b, name='training'):\n",
        "    \"\"\"Helper function to compute the match score of two binary numpy arrays.\"\"\"\n",
        "    a = a[:,0] > 0\n",
        "    b = b[:,0] > 0\n",
        "    assert len(a) == len(b)\n",
        "    print('Binary accuracy (' + name + ' data):', (a == b).sum() / len(a))\n",
        "\n",
        "def compute_units(X_train):\n",
        "    sample_size, feature_size = X_train.shape\n",
        "    units = int(((sample_size / unit_scaler) / length) - feature_size)\n",
        "    print('Units:', units)\n",
        "    return units"
      ],
      "execution_count": 0,
      "outputs": []
    },
    {
      "cell_type": "code",
      "metadata": {
        "id": "HQ1ce3K4Cfbl",
        "colab_type": "code",
        "outputId": "35e88290-6101-496f-c220-06948d925579",
        "colab": {
          "base_uri": "https://localhost:8080/",
          "height": 274
        }
      },
      "source": [
        "tickers_list = [main_ticker] + tickers_list\n",
        "tickers_list = list(OrderedDict((ticker, True) for ticker in tickers_list).keys())\n",
        "dataset = get_stock(tickers_list, trends=trends).dropna()"
      ],
      "execution_count": 6,
      "outputs": [
        {
          "output_type": "stream",
          "text": [
            "\r  0%|          | 0/17 [00:00<?, ?symbol/s]/usr/local/lib/python3.6/dist-packages/pandas/core/generic.py:8682: SettingWithCopyWarning: \n",
            "A value is trying to be set on a copy of a slice from a DataFrame\n",
            "\n",
            "See the caveats in the documentation: http://pandas.pydata.org/pandas-docs/stable/indexing.html#indexing-view-versus-copy\n",
            "  self._update_inplace(new_data)\n",
            "/usr/local/lib/python3.6/dist-packages/ipykernel_launcher.py:70: SettingWithCopyWarning: \n",
            "A value is trying to be set on a copy of a slice from a DataFrame\n",
            "\n",
            "See the caveats in the documentation: http://pandas.pydata.org/pandas-docs/stable/indexing.html#indexing-view-versus-copy\n",
            "/usr/local/lib/python3.6/dist-packages/ipykernel_launcher.py:74: SettingWithCopyWarning: \n",
            "A value is trying to be set on a copy of a slice from a DataFrame\n",
            "\n",
            "See the caveats in the documentation: http://pandas.pydata.org/pandas-docs/stable/indexing.html#indexing-view-versus-copy\n",
            "100%|██████████| 17/17 [00:38<00:00,  2.43s/symbol]\n"
          ],
          "name": "stderr"
        }
      ]
    },
    {
      "cell_type": "code",
      "metadata": {
        "id": "U4ij_2mhC9hD",
        "colab_type": "code",
        "outputId": "2491ba40-d2da-4154-b859-a0083c8ed0a6",
        "colab": {
          "base_uri": "https://localhost:8080/",
          "height": 35
        }
      },
      "source": [
        "# Ground truth.\n",
        "dataset['y'] = (dataset[main_ticker] > min_increase_rate).astype(int)\n",
        "print('Percentage of ones (keep less than 5%):', count_nonzero(dataset.y) / dataset.y.size)"
      ],
      "execution_count": 7,
      "outputs": [
        {
          "output_type": "stream",
          "text": [
            "Percentage of ones (keep less than 5%): 0.021965952773201538\n"
          ],
          "name": "stdout"
        }
      ]
    },
    {
      "cell_type": "code",
      "metadata": {
        "id": "-aMNeaIpn48n",
        "colab_type": "code",
        "colab": {}
      },
      "source": [
        "df = dataset.copy().reset_index()"
      ],
      "execution_count": 0,
      "outputs": []
    },
    {
      "cell_type": "code",
      "metadata": {
        "id": "Y7hifspdE8D9",
        "colab_type": "code",
        "colab": {}
      },
      "source": [
        "seed(7)\n",
        "set_random_seed(11)\n",
        "rcParams['figure.figsize'] = 8, 6\n",
        "LABELS = ['Normal','Break']"
      ],
      "execution_count": 0,
      "outputs": []
    },
    {
      "cell_type": "code",
      "metadata": {
        "id": "dO_8_S2myyyL",
        "colab_type": "code",
        "outputId": "f0846a93-84bf-48a7-bd36-c39e27f91a64",
        "colab": {
          "base_uri": "https://localhost:8080/",
          "height": 432
        }
      },
      "source": [
        "print('Before shifting') # Positive labeled rows before shifting.\n",
        "one_indexes = df.index[df['y'] == 1]\n",
        "display(df.iloc[(one_indexes[0]-3):(one_indexes[0]+2), 0:5].head(n=5))\n",
        "df = curve_shift(df, shift_by=-1)\n",
        "\n",
        "print('After shifting') # Validating if the shift happened correctly.\n",
        "display(df.iloc[(one_indexes[0]-4):(one_indexes[0]+1), 0:5].head(n=5))  "
      ],
      "execution_count": 10,
      "outputs": [
        {
          "output_type": "stream",
          "text": [
            "Before shifting\n"
          ],
          "name": "stdout"
        },
        {
          "output_type": "display_data",
          "data": {
            "text/html": [
              "<div>\n",
              "<style scoped>\n",
              "    .dataframe tbody tr th:only-of-type {\n",
              "        vertical-align: middle;\n",
              "    }\n",
              "\n",
              "    .dataframe tbody tr th {\n",
              "        vertical-align: top;\n",
              "    }\n",
              "\n",
              "    .dataframe thead th {\n",
              "        text-align: right;\n",
              "    }\n",
              "</style>\n",
              "<table border=\"1\" class=\"dataframe\">\n",
              "  <thead>\n",
              "    <tr style=\"text-align: right;\">\n",
              "      <th></th>\n",
              "      <th>Date</th>\n",
              "      <th>FB</th>\n",
              "      <th>INTC</th>\n",
              "      <th>AAPL</th>\n",
              "      <th>NVDA</th>\n",
              "    </tr>\n",
              "  </thead>\n",
              "  <tbody>\n",
              "    <tr>\n",
              "      <th>34</th>\n",
              "      <td>2014-09-13</td>\n",
              "      <td>0.966688</td>\n",
              "      <td>0.995102</td>\n",
              "      <td>0.988523</td>\n",
              "      <td>0.983316</td>\n",
              "    </tr>\n",
              "    <tr>\n",
              "      <th>35</th>\n",
              "      <td>2014-09-14</td>\n",
              "      <td>0.966688</td>\n",
              "      <td>0.995102</td>\n",
              "      <td>0.988523</td>\n",
              "      <td>0.983316</td>\n",
              "    </tr>\n",
              "    <tr>\n",
              "      <th>36</th>\n",
              "      <td>2014-09-15</td>\n",
              "      <td>0.966688</td>\n",
              "      <td>0.995102</td>\n",
              "      <td>0.988523</td>\n",
              "      <td>0.983316</td>\n",
              "    </tr>\n",
              "    <tr>\n",
              "      <th>37</th>\n",
              "      <td>2014-09-16</td>\n",
              "      <td>1.034821</td>\n",
              "      <td>1.013345</td>\n",
              "      <td>1.010621</td>\n",
              "      <td>1.017544</td>\n",
              "    </tr>\n",
              "    <tr>\n",
              "      <th>38</th>\n",
              "      <td>2014-09-17</td>\n",
              "      <td>1.006187</td>\n",
              "      <td>1.002005</td>\n",
              "      <td>1.003061</td>\n",
              "      <td>1.003143</td>\n",
              "    </tr>\n",
              "  </tbody>\n",
              "</table>\n",
              "</div>"
            ],
            "text/plain": [
              "         Date        FB      INTC      AAPL      NVDA\n",
              "34 2014-09-13  0.966688  0.995102  0.988523  0.983316\n",
              "35 2014-09-14  0.966688  0.995102  0.988523  0.983316\n",
              "36 2014-09-15  0.966688  0.995102  0.988523  0.983316\n",
              "37 2014-09-16  1.034821  1.013345  1.010621  1.017544\n",
              "38 2014-09-17  1.006187  1.002005  1.003061  1.003143"
            ]
          },
          "metadata": {
            "tags": []
          }
        },
        {
          "output_type": "stream",
          "text": [
            "After shifting\n"
          ],
          "name": "stdout"
        },
        {
          "output_type": "display_data",
          "data": {
            "text/html": [
              "<div>\n",
              "<style scoped>\n",
              "    .dataframe tbody tr th:only-of-type {\n",
              "        vertical-align: middle;\n",
              "    }\n",
              "\n",
              "    .dataframe tbody tr th {\n",
              "        vertical-align: top;\n",
              "    }\n",
              "\n",
              "    .dataframe thead th {\n",
              "        text-align: right;\n",
              "    }\n",
              "</style>\n",
              "<table border=\"1\" class=\"dataframe\">\n",
              "  <thead>\n",
              "    <tr style=\"text-align: right;\">\n",
              "      <th></th>\n",
              "      <th>y</th>\n",
              "      <th>Date</th>\n",
              "      <th>FB</th>\n",
              "      <th>INTC</th>\n",
              "      <th>AAPL</th>\n",
              "    </tr>\n",
              "  </thead>\n",
              "  <tbody>\n",
              "    <tr>\n",
              "      <th>33</th>\n",
              "      <td>0.0</td>\n",
              "      <td>2014-09-12</td>\n",
              "      <td>0.993079</td>\n",
              "      <td>0.991977</td>\n",
              "      <td>1.004446</td>\n",
              "    </tr>\n",
              "    <tr>\n",
              "      <th>34</th>\n",
              "      <td>0.0</td>\n",
              "      <td>2014-09-13</td>\n",
              "      <td>0.966688</td>\n",
              "      <td>0.995102</td>\n",
              "      <td>0.988523</td>\n",
              "    </tr>\n",
              "    <tr>\n",
              "      <th>35</th>\n",
              "      <td>0.0</td>\n",
              "      <td>2014-09-14</td>\n",
              "      <td>0.966688</td>\n",
              "      <td>0.995102</td>\n",
              "      <td>0.988523</td>\n",
              "    </tr>\n",
              "    <tr>\n",
              "      <th>36</th>\n",
              "      <td>1.0</td>\n",
              "      <td>2014-09-15</td>\n",
              "      <td>0.966688</td>\n",
              "      <td>0.995102</td>\n",
              "      <td>0.988523</td>\n",
              "    </tr>\n",
              "    <tr>\n",
              "      <th>38</th>\n",
              "      <td>0.0</td>\n",
              "      <td>2014-09-17</td>\n",
              "      <td>1.006187</td>\n",
              "      <td>1.002005</td>\n",
              "      <td>1.003061</td>\n",
              "    </tr>\n",
              "  </tbody>\n",
              "</table>\n",
              "</div>"
            ],
            "text/plain": [
              "      y       Date        FB      INTC      AAPL\n",
              "33  0.0 2014-09-12  0.993079  0.991977  1.004446\n",
              "34  0.0 2014-09-13  0.966688  0.995102  0.988523\n",
              "35  0.0 2014-09-14  0.966688  0.995102  0.988523\n",
              "36  1.0 2014-09-15  0.966688  0.995102  0.988523\n",
              "38  0.0 2014-09-17  1.006187  1.002005  1.003061"
            ]
          },
          "metadata": {
            "tags": []
          }
        }
      ]
    },
    {
      "cell_type": "code",
      "metadata": {
        "id": "Bc41Mo3qSRXW",
        "colab_type": "code",
        "colab": {}
      },
      "source": [
        "df = df.drop(columns=['Date'])"
      ],
      "execution_count": 0,
      "outputs": []
    },
    {
      "cell_type": "code",
      "metadata": {
        "id": "rosttrXFyyyc",
        "colab_type": "code",
        "colab": {}
      },
      "source": [
        "input_X = df.loc[:, df.columns != 'y'].values # Converts the df to a numpy array.\n",
        "input_y = df['y'].values\n",
        "\n",
        "n_features = input_X.shape[1] # Number of features."
      ],
      "execution_count": 0,
      "outputs": []
    },
    {
      "cell_type": "code",
      "metadata": {
        "id": "wCMHcaFmyyyi",
        "colab_type": "code",
        "colab": {}
      },
      "source": [
        "def temporalize(X, y, lookback):\n",
        "    output_X = []\n",
        "    output_y = []\n",
        "    for i in range(len(X)-lookback-1):\n",
        "        t = []\n",
        "        for j in range(1,lookback+1):\n",
        "            # Gather past records upto the lookback period.\n",
        "            t.append(X[[(i+j+1)], :])\n",
        "        output_X.append(t)\n",
        "        output_y.append(y[i+lookback+1])\n",
        "    return output_X, output_y"
      ],
      "execution_count": 0,
      "outputs": []
    },
    {
      "cell_type": "code",
      "metadata": {
        "id": "RgLp2Oyiyyyp",
        "colab_type": "code",
        "outputId": "aba52103-0601-4103-aed3-3c3890c3feae",
        "colab": {
          "base_uri": "https://localhost:8080/",
          "height": 484
        }
      },
      "source": [
        "'''\n",
        "Test: The 3D tensors (arrays) for LSTM are forming correctly.\n",
        "'''\n",
        "print('First instance of y = 1 in the original data')\n",
        "display(df.iloc[(where(array(input_y) == 1)[0][0]-5):(where(array(input_y) == 1)[0][0]+1), ])\n",
        "\n",
        "lookback = 5  # Equivalent to 10 min of past data.\n",
        "# Temporalize the data\n",
        "X, y = temporalize(X = input_X, y = input_y, lookback = lookback)\n",
        "\n",
        "print('For the same instance of y = 1, we are keeping past 5 samples in the 3D predictor array, X.')\n",
        "display(DataFrame(concatenate(X[where(array(y) == 1)[0][0]], axis=0))) "
      ],
      "execution_count": 14,
      "outputs": [
        {
          "output_type": "stream",
          "text": [
            "First instance of y = 1 in the original data\n"
          ],
          "name": "stdout"
        },
        {
          "output_type": "display_data",
          "data": {
            "text/html": [
              "<div>\n",
              "<style scoped>\n",
              "    .dataframe tbody tr th:only-of-type {\n",
              "        vertical-align: middle;\n",
              "    }\n",
              "\n",
              "    .dataframe tbody tr th {\n",
              "        vertical-align: top;\n",
              "    }\n",
              "\n",
              "    .dataframe thead th {\n",
              "        text-align: right;\n",
              "    }\n",
              "</style>\n",
              "<table border=\"1\" class=\"dataframe\">\n",
              "  <thead>\n",
              "    <tr style=\"text-align: right;\">\n",
              "      <th></th>\n",
              "      <th>y</th>\n",
              "      <th>FB</th>\n",
              "      <th>INTC</th>\n",
              "      <th>AAPL</th>\n",
              "      <th>NVDA</th>\n",
              "      <th>CSCO</th>\n",
              "      <th>AMD</th>\n",
              "      <th>AMZN</th>\n",
              "      <th>GOOG</th>\n",
              "      <th>MSFT</th>\n",
              "      <th>S</th>\n",
              "      <th>BAC</th>\n",
              "      <th>XLNX</th>\n",
              "      <th>WFC</th>\n",
              "      <th>^DJI</th>\n",
              "      <th>^GSPC</th>\n",
              "      <th>^NYA</th>\n",
              "      <th>^IXIC</th>\n",
              "      <th>FB_trend</th>\n",
              "      <th>INTC_trend</th>\n",
              "      <th>AAPL_trend</th>\n",
              "      <th>NVDA_trend</th>\n",
              "      <th>CSCO_trend</th>\n",
              "      <th>AMD_trend</th>\n",
              "      <th>AMZN_trend</th>\n",
              "      <th>GOOG_trend</th>\n",
              "      <th>MSFT_trend</th>\n",
              "      <th>S_trend</th>\n",
              "      <th>BAC_trend</th>\n",
              "      <th>XLNX_trend</th>\n",
              "      <th>WFC_trend</th>\n",
              "      <th>^DJI_trend</th>\n",
              "      <th>^GSPC_trend</th>\n",
              "      <th>^NYA_trend</th>\n",
              "      <th>^IXIC_trend</th>\n",
              "    </tr>\n",
              "  </thead>\n",
              "  <tbody>\n",
              "    <tr>\n",
              "      <th>31</th>\n",
              "      <td>0.0</td>\n",
              "      <td>1.011892</td>\n",
              "      <td>1.004878</td>\n",
              "      <td>1.030507</td>\n",
              "      <td>0.997964</td>\n",
              "      <td>1.003623</td>\n",
              "      <td>1.000000</td>\n",
              "      <td>0.991116</td>\n",
              "      <td>1.002752</td>\n",
              "      <td>1.000427</td>\n",
              "      <td>1.058520</td>\n",
              "      <td>1.012376</td>\n",
              "      <td>1.003290</td>\n",
              "      <td>1.008614</td>\n",
              "      <td>1.003095</td>\n",
              "      <td>1.003661</td>\n",
              "      <td>1.002330</td>\n",
              "      <td>1.007108</td>\n",
              "      <td>92.0</td>\n",
              "      <td>24.0</td>\n",
              "      <td>57.0</td>\n",
              "      <td>6.0</td>\n",
              "      <td>26.0</td>\n",
              "      <td>69.0</td>\n",
              "      <td>7.0</td>\n",
              "      <td>86.0</td>\n",
              "      <td>23.0</td>\n",
              "      <td>94.0</td>\n",
              "      <td>22.0</td>\n",
              "      <td>20.0</td>\n",
              "      <td>36.0</td>\n",
              "      <td>4.0</td>\n",
              "      <td>12.0</td>\n",
              "      <td>0.0</td>\n",
              "      <td>0.0</td>\n",
              "    </tr>\n",
              "    <tr>\n",
              "      <th>32</th>\n",
              "      <td>0.0</td>\n",
              "      <td>1.010242</td>\n",
              "      <td>1.006611</td>\n",
              "      <td>1.010158</td>\n",
              "      <td>0.996918</td>\n",
              "      <td>1.010433</td>\n",
              "      <td>1.012407</td>\n",
              "      <td>1.001758</td>\n",
              "      <td>1.001706</td>\n",
              "      <td>1.005563</td>\n",
              "      <td>1.082372</td>\n",
              "      <td>1.015319</td>\n",
              "      <td>1.000234</td>\n",
              "      <td>1.003696</td>\n",
              "      <td>0.999507</td>\n",
              "      <td>1.002308</td>\n",
              "      <td>1.003898</td>\n",
              "      <td>1.005292</td>\n",
              "      <td>92.0</td>\n",
              "      <td>24.0</td>\n",
              "      <td>57.0</td>\n",
              "      <td>6.0</td>\n",
              "      <td>26.0</td>\n",
              "      <td>69.0</td>\n",
              "      <td>7.0</td>\n",
              "      <td>86.0</td>\n",
              "      <td>23.0</td>\n",
              "      <td>94.0</td>\n",
              "      <td>22.0</td>\n",
              "      <td>20.0</td>\n",
              "      <td>36.0</td>\n",
              "      <td>4.0</td>\n",
              "      <td>12.0</td>\n",
              "      <td>0.0</td>\n",
              "      <td>0.0</td>\n",
              "    </tr>\n",
              "    <tr>\n",
              "      <th>33</th>\n",
              "      <td>0.0</td>\n",
              "      <td>0.993079</td>\n",
              "      <td>0.991977</td>\n",
              "      <td>1.004446</td>\n",
              "      <td>0.979007</td>\n",
              "      <td>1.000000</td>\n",
              "      <td>0.975369</td>\n",
              "      <td>1.004946</td>\n",
              "      <td>0.990740</td>\n",
              "      <td>0.995523</td>\n",
              "      <td>1.018923</td>\n",
              "      <td>1.010229</td>\n",
              "      <td>0.991591</td>\n",
              "      <td>1.000581</td>\n",
              "      <td>0.996683</td>\n",
              "      <td>0.994391</td>\n",
              "      <td>0.995082</td>\n",
              "      <td>0.995387</td>\n",
              "      <td>92.0</td>\n",
              "      <td>24.0</td>\n",
              "      <td>57.0</td>\n",
              "      <td>6.0</td>\n",
              "      <td>26.0</td>\n",
              "      <td>69.0</td>\n",
              "      <td>7.0</td>\n",
              "      <td>86.0</td>\n",
              "      <td>23.0</td>\n",
              "      <td>94.0</td>\n",
              "      <td>22.0</td>\n",
              "      <td>20.0</td>\n",
              "      <td>36.0</td>\n",
              "      <td>4.0</td>\n",
              "      <td>12.0</td>\n",
              "      <td>0.0</td>\n",
              "      <td>0.0</td>\n",
              "    </tr>\n",
              "    <tr>\n",
              "      <th>34</th>\n",
              "      <td>0.0</td>\n",
              "      <td>0.966688</td>\n",
              "      <td>0.995102</td>\n",
              "      <td>0.988523</td>\n",
              "      <td>0.983316</td>\n",
              "      <td>1.004409</td>\n",
              "      <td>0.982412</td>\n",
              "      <td>0.978786</td>\n",
              "      <td>1.000279</td>\n",
              "      <td>0.993554</td>\n",
              "      <td>0.987198</td>\n",
              "      <td>0.996429</td>\n",
              "      <td>0.987297</td>\n",
              "      <td>1.004060</td>\n",
              "      <td>1.002495</td>\n",
              "      <td>0.999038</td>\n",
              "      <td>0.999950</td>\n",
              "      <td>0.989370</td>\n",
              "      <td>92.0</td>\n",
              "      <td>24.0</td>\n",
              "      <td>57.0</td>\n",
              "      <td>6.0</td>\n",
              "      <td>26.0</td>\n",
              "      <td>69.0</td>\n",
              "      <td>7.0</td>\n",
              "      <td>86.0</td>\n",
              "      <td>23.0</td>\n",
              "      <td>94.0</td>\n",
              "      <td>22.0</td>\n",
              "      <td>20.0</td>\n",
              "      <td>36.0</td>\n",
              "      <td>4.0</td>\n",
              "      <td>12.0</td>\n",
              "      <td>0.0</td>\n",
              "      <td>0.0</td>\n",
              "    </tr>\n",
              "    <tr>\n",
              "      <th>35</th>\n",
              "      <td>0.0</td>\n",
              "      <td>0.966688</td>\n",
              "      <td>0.995102</td>\n",
              "      <td>0.988523</td>\n",
              "      <td>0.983316</td>\n",
              "      <td>1.004409</td>\n",
              "      <td>0.982412</td>\n",
              "      <td>0.978786</td>\n",
              "      <td>1.000279</td>\n",
              "      <td>0.993554</td>\n",
              "      <td>0.987198</td>\n",
              "      <td>0.996429</td>\n",
              "      <td>0.987297</td>\n",
              "      <td>1.004060</td>\n",
              "      <td>1.002495</td>\n",
              "      <td>0.999038</td>\n",
              "      <td>0.999950</td>\n",
              "      <td>0.989370</td>\n",
              "      <td>92.0</td>\n",
              "      <td>24.0</td>\n",
              "      <td>57.0</td>\n",
              "      <td>6.0</td>\n",
              "      <td>26.0</td>\n",
              "      <td>69.0</td>\n",
              "      <td>7.0</td>\n",
              "      <td>86.0</td>\n",
              "      <td>23.0</td>\n",
              "      <td>94.0</td>\n",
              "      <td>22.0</td>\n",
              "      <td>20.0</td>\n",
              "      <td>36.0</td>\n",
              "      <td>4.0</td>\n",
              "      <td>12.0</td>\n",
              "      <td>0.0</td>\n",
              "      <td>0.0</td>\n",
              "    </tr>\n",
              "    <tr>\n",
              "      <th>36</th>\n",
              "      <td>1.0</td>\n",
              "      <td>0.966688</td>\n",
              "      <td>0.995102</td>\n",
              "      <td>0.988523</td>\n",
              "      <td>0.983316</td>\n",
              "      <td>1.004409</td>\n",
              "      <td>0.982412</td>\n",
              "      <td>0.978786</td>\n",
              "      <td>1.000279</td>\n",
              "      <td>0.993554</td>\n",
              "      <td>0.987198</td>\n",
              "      <td>0.996429</td>\n",
              "      <td>0.987297</td>\n",
              "      <td>1.004060</td>\n",
              "      <td>1.002495</td>\n",
              "      <td>0.999038</td>\n",
              "      <td>0.999950</td>\n",
              "      <td>0.989370</td>\n",
              "      <td>92.0</td>\n",
              "      <td>21.0</td>\n",
              "      <td>57.0</td>\n",
              "      <td>6.0</td>\n",
              "      <td>22.0</td>\n",
              "      <td>68.0</td>\n",
              "      <td>6.0</td>\n",
              "      <td>85.0</td>\n",
              "      <td>19.0</td>\n",
              "      <td>93.0</td>\n",
              "      <td>22.0</td>\n",
              "      <td>16.0</td>\n",
              "      <td>32.0</td>\n",
              "      <td>2.0</td>\n",
              "      <td>4.0</td>\n",
              "      <td>0.0</td>\n",
              "      <td>0.0</td>\n",
              "    </tr>\n",
              "  </tbody>\n",
              "</table>\n",
              "</div>"
            ],
            "text/plain": [
              "      y        FB      INTC  ...  ^GSPC_trend  ^NYA_trend  ^IXIC_trend\n",
              "31  0.0  1.011892  1.004878  ...         12.0         0.0          0.0\n",
              "32  0.0  1.010242  1.006611  ...         12.0         0.0          0.0\n",
              "33  0.0  0.993079  0.991977  ...         12.0         0.0          0.0\n",
              "34  0.0  0.966688  0.995102  ...         12.0         0.0          0.0\n",
              "35  0.0  0.966688  0.995102  ...         12.0         0.0          0.0\n",
              "36  1.0  0.966688  0.995102  ...          4.0         0.0          0.0\n",
              "\n",
              "[6 rows x 35 columns]"
            ]
          },
          "metadata": {
            "tags": []
          }
        },
        {
          "output_type": "stream",
          "text": [
            "For the same instance of y = 1, we are keeping past 5 samples in the 3D predictor array, X.\n"
          ],
          "name": "stdout"
        },
        {
          "output_type": "display_data",
          "data": {
            "text/html": [
              "<div>\n",
              "<style scoped>\n",
              "    .dataframe tbody tr th:only-of-type {\n",
              "        vertical-align: middle;\n",
              "    }\n",
              "\n",
              "    .dataframe tbody tr th {\n",
              "        vertical-align: top;\n",
              "    }\n",
              "\n",
              "    .dataframe thead th {\n",
              "        text-align: right;\n",
              "    }\n",
              "</style>\n",
              "<table border=\"1\" class=\"dataframe\">\n",
              "  <thead>\n",
              "    <tr style=\"text-align: right;\">\n",
              "      <th></th>\n",
              "      <th>0</th>\n",
              "      <th>1</th>\n",
              "      <th>2</th>\n",
              "      <th>3</th>\n",
              "      <th>4</th>\n",
              "      <th>5</th>\n",
              "      <th>6</th>\n",
              "      <th>7</th>\n",
              "      <th>8</th>\n",
              "      <th>9</th>\n",
              "      <th>10</th>\n",
              "      <th>11</th>\n",
              "      <th>12</th>\n",
              "      <th>13</th>\n",
              "      <th>14</th>\n",
              "      <th>15</th>\n",
              "      <th>16</th>\n",
              "      <th>17</th>\n",
              "      <th>18</th>\n",
              "      <th>19</th>\n",
              "      <th>20</th>\n",
              "      <th>21</th>\n",
              "      <th>22</th>\n",
              "      <th>23</th>\n",
              "      <th>24</th>\n",
              "      <th>25</th>\n",
              "      <th>26</th>\n",
              "      <th>27</th>\n",
              "      <th>28</th>\n",
              "      <th>29</th>\n",
              "      <th>30</th>\n",
              "      <th>31</th>\n",
              "      <th>32</th>\n",
              "      <th>33</th>\n",
              "    </tr>\n",
              "  </thead>\n",
              "  <tbody>\n",
              "    <tr>\n",
              "      <th>0</th>\n",
              "      <td>1.010242</td>\n",
              "      <td>1.006611</td>\n",
              "      <td>1.010158</td>\n",
              "      <td>0.996918</td>\n",
              "      <td>1.010433</td>\n",
              "      <td>1.012407</td>\n",
              "      <td>1.001758</td>\n",
              "      <td>1.001706</td>\n",
              "      <td>1.005563</td>\n",
              "      <td>1.082372</td>\n",
              "      <td>1.015319</td>\n",
              "      <td>1.000234</td>\n",
              "      <td>1.003696</td>\n",
              "      <td>0.999507</td>\n",
              "      <td>1.002308</td>\n",
              "      <td>1.003898</td>\n",
              "      <td>1.005292</td>\n",
              "      <td>92.0</td>\n",
              "      <td>24.0</td>\n",
              "      <td>57.0</td>\n",
              "      <td>6.0</td>\n",
              "      <td>26.0</td>\n",
              "      <td>69.0</td>\n",
              "      <td>7.0</td>\n",
              "      <td>86.0</td>\n",
              "      <td>23.0</td>\n",
              "      <td>94.0</td>\n",
              "      <td>22.0</td>\n",
              "      <td>20.0</td>\n",
              "      <td>36.0</td>\n",
              "      <td>4.0</td>\n",
              "      <td>12.0</td>\n",
              "      <td>0.0</td>\n",
              "      <td>0.0</td>\n",
              "    </tr>\n",
              "    <tr>\n",
              "      <th>1</th>\n",
              "      <td>0.993079</td>\n",
              "      <td>0.991977</td>\n",
              "      <td>1.004446</td>\n",
              "      <td>0.979007</td>\n",
              "      <td>1.000000</td>\n",
              "      <td>0.975369</td>\n",
              "      <td>1.004946</td>\n",
              "      <td>0.990740</td>\n",
              "      <td>0.995523</td>\n",
              "      <td>1.018923</td>\n",
              "      <td>1.010229</td>\n",
              "      <td>0.991591</td>\n",
              "      <td>1.000581</td>\n",
              "      <td>0.996683</td>\n",
              "      <td>0.994391</td>\n",
              "      <td>0.995082</td>\n",
              "      <td>0.995387</td>\n",
              "      <td>92.0</td>\n",
              "      <td>24.0</td>\n",
              "      <td>57.0</td>\n",
              "      <td>6.0</td>\n",
              "      <td>26.0</td>\n",
              "      <td>69.0</td>\n",
              "      <td>7.0</td>\n",
              "      <td>86.0</td>\n",
              "      <td>23.0</td>\n",
              "      <td>94.0</td>\n",
              "      <td>22.0</td>\n",
              "      <td>20.0</td>\n",
              "      <td>36.0</td>\n",
              "      <td>4.0</td>\n",
              "      <td>12.0</td>\n",
              "      <td>0.0</td>\n",
              "      <td>0.0</td>\n",
              "    </tr>\n",
              "    <tr>\n",
              "      <th>2</th>\n",
              "      <td>0.966688</td>\n",
              "      <td>0.995102</td>\n",
              "      <td>0.988523</td>\n",
              "      <td>0.983316</td>\n",
              "      <td>1.004409</td>\n",
              "      <td>0.982412</td>\n",
              "      <td>0.978786</td>\n",
              "      <td>1.000279</td>\n",
              "      <td>0.993554</td>\n",
              "      <td>0.987198</td>\n",
              "      <td>0.996429</td>\n",
              "      <td>0.987297</td>\n",
              "      <td>1.004060</td>\n",
              "      <td>1.002495</td>\n",
              "      <td>0.999038</td>\n",
              "      <td>0.999950</td>\n",
              "      <td>0.989370</td>\n",
              "      <td>92.0</td>\n",
              "      <td>24.0</td>\n",
              "      <td>57.0</td>\n",
              "      <td>6.0</td>\n",
              "      <td>26.0</td>\n",
              "      <td>69.0</td>\n",
              "      <td>7.0</td>\n",
              "      <td>86.0</td>\n",
              "      <td>23.0</td>\n",
              "      <td>94.0</td>\n",
              "      <td>22.0</td>\n",
              "      <td>20.0</td>\n",
              "      <td>36.0</td>\n",
              "      <td>4.0</td>\n",
              "      <td>12.0</td>\n",
              "      <td>0.0</td>\n",
              "      <td>0.0</td>\n",
              "    </tr>\n",
              "    <tr>\n",
              "      <th>3</th>\n",
              "      <td>0.966688</td>\n",
              "      <td>0.995102</td>\n",
              "      <td>0.988523</td>\n",
              "      <td>0.983316</td>\n",
              "      <td>1.004409</td>\n",
              "      <td>0.982412</td>\n",
              "      <td>0.978786</td>\n",
              "      <td>1.000279</td>\n",
              "      <td>0.993554</td>\n",
              "      <td>0.987198</td>\n",
              "      <td>0.996429</td>\n",
              "      <td>0.987297</td>\n",
              "      <td>1.004060</td>\n",
              "      <td>1.002495</td>\n",
              "      <td>0.999038</td>\n",
              "      <td>0.999950</td>\n",
              "      <td>0.989370</td>\n",
              "      <td>92.0</td>\n",
              "      <td>24.0</td>\n",
              "      <td>57.0</td>\n",
              "      <td>6.0</td>\n",
              "      <td>26.0</td>\n",
              "      <td>69.0</td>\n",
              "      <td>7.0</td>\n",
              "      <td>86.0</td>\n",
              "      <td>23.0</td>\n",
              "      <td>94.0</td>\n",
              "      <td>22.0</td>\n",
              "      <td>20.0</td>\n",
              "      <td>36.0</td>\n",
              "      <td>4.0</td>\n",
              "      <td>12.0</td>\n",
              "      <td>0.0</td>\n",
              "      <td>0.0</td>\n",
              "    </tr>\n",
              "    <tr>\n",
              "      <th>4</th>\n",
              "      <td>0.966688</td>\n",
              "      <td>0.995102</td>\n",
              "      <td>0.988523</td>\n",
              "      <td>0.983316</td>\n",
              "      <td>1.004409</td>\n",
              "      <td>0.982412</td>\n",
              "      <td>0.978786</td>\n",
              "      <td>1.000279</td>\n",
              "      <td>0.993554</td>\n",
              "      <td>0.987198</td>\n",
              "      <td>0.996429</td>\n",
              "      <td>0.987297</td>\n",
              "      <td>1.004060</td>\n",
              "      <td>1.002495</td>\n",
              "      <td>0.999038</td>\n",
              "      <td>0.999950</td>\n",
              "      <td>0.989370</td>\n",
              "      <td>92.0</td>\n",
              "      <td>21.0</td>\n",
              "      <td>57.0</td>\n",
              "      <td>6.0</td>\n",
              "      <td>22.0</td>\n",
              "      <td>68.0</td>\n",
              "      <td>6.0</td>\n",
              "      <td>85.0</td>\n",
              "      <td>19.0</td>\n",
              "      <td>93.0</td>\n",
              "      <td>22.0</td>\n",
              "      <td>16.0</td>\n",
              "      <td>32.0</td>\n",
              "      <td>2.0</td>\n",
              "      <td>4.0</td>\n",
              "      <td>0.0</td>\n",
              "      <td>0.0</td>\n",
              "    </tr>\n",
              "  </tbody>\n",
              "</table>\n",
              "</div>"
            ],
            "text/plain": [
              "         0         1         2         3         4   ...    29   30    31   32   33\n",
              "0  1.010242  1.006611  1.010158  0.996918  1.010433  ...  36.0  4.0  12.0  0.0  0.0\n",
              "1  0.993079  0.991977  1.004446  0.979007  1.000000  ...  36.0  4.0  12.0  0.0  0.0\n",
              "2  0.966688  0.995102  0.988523  0.983316  1.004409  ...  36.0  4.0  12.0  0.0  0.0\n",
              "3  0.966688  0.995102  0.988523  0.983316  1.004409  ...  36.0  4.0  12.0  0.0  0.0\n",
              "4  0.966688  0.995102  0.988523  0.983316  1.004409  ...  32.0  2.0   4.0  0.0  0.0\n",
              "\n",
              "[5 rows x 34 columns]"
            ]
          },
          "metadata": {
            "tags": []
          }
        }
      ]
    },
    {
      "cell_type": "markdown",
      "metadata": {
        "id": "h89wHrdfyyyw",
        "colab_type": "text"
      },
      "source": [
        "The two tables are the same. This testifies that we are correctly taking 5 samples (= lookback), X(t):X(t-5) to predict y(t)."
      ]
    },
    {
      "cell_type": "code",
      "metadata": {
        "id": "5pmWNnDCyyyz",
        "colab_type": "code",
        "colab": {}
      },
      "source": [
        "X_train, X_test, y_train, y_test = train_test_split(array(X), array(y), test_size=test_size, random_state=random_seed)\n",
        "X_train, X_valid, y_train, y_valid = train_test_split(X_train, y_train, test_size=test_size, random_state=random_seed)"
      ],
      "execution_count": 0,
      "outputs": []
    },
    {
      "cell_type": "code",
      "metadata": {
        "id": "j3UzUymkyyy2",
        "colab_type": "code",
        "outputId": "b66961d9-7fd6-48a6-d05f-fb3cdf299db0",
        "colab": {
          "base_uri": "https://localhost:8080/",
          "height": 35
        }
      },
      "source": [
        "X_train.shape"
      ],
      "execution_count": 16,
      "outputs": [
        {
          "output_type": "execute_result",
          "data": {
            "text/plain": [
              "(1136, 5, 1, 34)"
            ]
          },
          "metadata": {
            "tags": []
          },
          "execution_count": 16
        }
      ]
    },
    {
      "cell_type": "code",
      "metadata": {
        "id": "8VV76ST8yyy7",
        "colab_type": "code",
        "colab": {}
      },
      "source": [
        "X_train_y0 = X_train[y_train==0]\n",
        "X_train_y1 = X_train[y_train==1]\n",
        "\n",
        "X_valid_y0 = X_valid[y_valid==0]\n",
        "X_valid_y1 = X_valid[y_valid==1]"
      ],
      "execution_count": 0,
      "outputs": []
    },
    {
      "cell_type": "code",
      "metadata": {
        "id": "VzDCf3styyzB",
        "colab_type": "code",
        "outputId": "3b052e04-3ba9-4296-ad91-4b275affb70b",
        "colab": {
          "base_uri": "https://localhost:8080/",
          "height": 35
        }
      },
      "source": [
        "X_train_y0.shape"
      ],
      "execution_count": 18,
      "outputs": [
        {
          "output_type": "execute_result",
          "data": {
            "text/plain": [
              "(1123, 5, 1, 34)"
            ]
          },
          "metadata": {
            "tags": []
          },
          "execution_count": 18
        }
      ]
    },
    {
      "cell_type": "markdown",
      "metadata": {
        "id": "xnvqRBizyyzG",
        "colab_type": "text"
      },
      "source": [
        "#### Reshaping the data\n",
        "The tensors we have here are 4-dimensional. We will reshape them into the desired 3-dimensions corresponding to sample x lookback x features."
      ]
    },
    {
      "cell_type": "code",
      "metadata": {
        "id": "c-JtRrOqyyzH",
        "colab_type": "code",
        "colab": {}
      },
      "source": [
        "X_train = X_train.reshape(X_train.shape[0], lookback, n_features)\n",
        "X_train_y0 = X_train_y0.reshape(X_train_y0.shape[0], lookback, n_features)\n",
        "X_train_y1 = X_train_y1.reshape(X_train_y1.shape[0], lookback, n_features)\n",
        "\n",
        "X_test = X_test.reshape(X_test.shape[0], lookback, n_features)\n",
        "\n",
        "X_valid = X_valid.reshape(X_valid.shape[0], lookback, n_features)\n",
        "X_valid_y0 = X_valid_y0.reshape(X_valid_y0.shape[0], lookback, n_features)\n",
        "X_valid_y1 = X_valid_y1.reshape(X_valid_y1.shape[0], lookback, n_features)"
      ],
      "execution_count": 0,
      "outputs": []
    },
    {
      "cell_type": "markdown",
      "metadata": {
        "id": "hzBW4HTNyyzL",
        "colab_type": "text"
      },
      "source": [
        "### Standardize the data\n",
        "It is usually better to use a standardized data (transformed to Gaussian, mean 0 and sd 1) for autoencoders.\n",
        "\n",
        "One common mistake is: we normalize the entire data and then split into train-test. This is not correct. Test data should be completely unseen to anything during the modeling. We should normalize the test data using the feature summary statistics computed from the training data. For normalization, these statistics are the mean and variance for each feature. \n",
        "\n",
        "The same logic should be used for the validation set. This makes the model more stable for a test data.\n",
        "\n",
        "To do this, we will require two UDFs.\n",
        "\n",
        "- `flatten`: This function will re-create the original 2D array from which the 3D arrays were created. This function is the inverse of `temporalize`, meaning `X = flatten(temporalize(X))`.\n",
        "- `scale`: This function will scale a 3D array that we created as inputs to the LSTM."
      ]
    },
    {
      "cell_type": "code",
      "metadata": {
        "id": "wRVsMJXAyyzM",
        "colab_type": "code",
        "colab": {}
      },
      "source": [
        "def flatten(X):\n",
        "    '''\n",
        "    Flatten a 3D array.\n",
        "    Input        X            A 3D array for lstm, where the array is sample x timesteps x features.\n",
        "    Output       flattened_X  A 2D array, sample x features.\n",
        "    '''\n",
        "    flattened_X = empty((X.shape[0], X.shape[2])) # Sample x features array.\n",
        "    for i in range(X.shape[0]):\n",
        "        flattened_X[i] = X[i, (X.shape[1]-1), :]\n",
        "    return(flattened_X)\n",
        "\n",
        "def scale(X, scaler):\n",
        "    '''\n",
        "    Scale 3D array.\n",
        "    Inputs       X            A 3D array for lstm, where the array is sample x timesteps x features.\n",
        "                 scaler       A scaler object, e.g., sklearn.preprocessing.StandardScaler, sklearn.preprocessing.normalize\n",
        "    Output       X            Scaled 3D array.\n",
        "    '''\n",
        "    for i in range(X.shape[0]):\n",
        "        X[i, :, :] = scaler.transform(X[i, :, :])\n",
        "        \n",
        "    return X"
      ],
      "execution_count": 0,
      "outputs": []
    },
    {
      "cell_type": "code",
      "metadata": {
        "id": "zqg4frnfyyzR",
        "colab_type": "code",
        "colab": {}
      },
      "source": [
        "# Initialize a scaler using the training data.\n",
        "scaler = StandardScaler().fit(flatten(X_train_y0))\n",
        "X_train_y0_scaled = scale(X_train_y0, scaler)\n",
        "X_train_y1_scaled = scale(X_train_y1, scaler)\n",
        "X_train_scaled = scale(X_train, scaler)"
      ],
      "execution_count": 0,
      "outputs": []
    },
    {
      "cell_type": "code",
      "metadata": {
        "id": "UEY3ThchyyzZ",
        "colab_type": "code",
        "outputId": "2dfff0f4-d565-41d3-8d55-6e8e397b977c",
        "colab": {
          "base_uri": "https://localhost:8080/",
          "height": 90
        }
      },
      "source": [
        "# Test scaling validity.\n",
        "a = flatten(X_train_y0_scaled)\n",
        "print('Column-wise mean (should be all zeros):', mean(a, axis=0).round(6))\n",
        "print('Column-wise variance (should be all ones):', var(a, axis=0))"
      ],
      "execution_count": 22,
      "outputs": [
        {
          "output_type": "stream",
          "text": [
            "Column-wise mean (should be all zeros): [ 0. -0.  0. -0. -0.  0.  0. -0. -0. -0.  0. -0.  0.  0. -0.  0. -0.  0.\n",
            "  0.  0.  0. -0. -0.  0.  0.  0.  0.  0. -0. -0. -0.  0.  0.  0.]\n",
            "Column-wise variance (should be all ones): [1. 1. 1. 1. 1. 1. 1. 1. 1. 1. 1. 1. 1. 1. 1. 1. 1. 1. 1. 1. 1. 1. 1. 1.\n",
            " 1. 1. 1. 1. 1. 1. 1. 1. 1. 1.]\n"
          ],
          "name": "stdout"
        }
      ]
    },
    {
      "cell_type": "code",
      "metadata": {
        "id": "7xv9aimpyyzf",
        "colab_type": "code",
        "colab": {}
      },
      "source": [
        "# Scale test and validation sets.\n",
        "X_valid_scaled = scale(X_valid, scaler)\n",
        "X_valid_y0_scaled = scale(X_valid_y0, scaler)\n",
        "X_test_scaled = scale(X_test, scaler)"
      ],
      "execution_count": 0,
      "outputs": []
    },
    {
      "cell_type": "markdown",
      "metadata": {
        "id": "l0o3SBX-yyzj",
        "colab_type": "text"
      },
      "source": [
        "## LSTM Autoencoder training"
      ]
    },
    {
      "cell_type": "markdown",
      "metadata": {
        "id": "-vl3NZk_yyzj",
        "colab_type": "text"
      },
      "source": [
        "First we will initialize the Autoencoder architecture. We are building a simple autoencoder. More complex architectures and other configurations should be explored."
      ]
    },
    {
      "cell_type": "code",
      "metadata": {
        "id": "IXkULB_Hyyzl",
        "colab_type": "code",
        "colab": {}
      },
      "source": [
        "timesteps =  X_train_y0_scaled.shape[1] # Equal to the lookback.\n",
        "n_features =  X_train_y0_scaled.shape[2] # 59."
      ],
      "execution_count": 0,
      "outputs": []
    },
    {
      "cell_type": "code",
      "metadata": {
        "id": "iC2LW6CMyyzu",
        "colab_type": "code",
        "outputId": "0a3dc370-6d42-4706-9052-b4767a49cdd5",
        "colab": {
          "base_uri": "https://localhost:8080/",
          "height": 515
        }
      },
      "source": [
        "lstm_autoencoder = Sequential()\n",
        "# Encoder.\n",
        "lstm_autoencoder.add(LSTM(32, activation='relu', input_shape=(timesteps, n_features), return_sequences=True))\n",
        "lstm_autoencoder.add(LSTM(16, activation='relu', return_sequences=False))\n",
        "lstm_autoencoder.add(RepeatVector(timesteps))\n",
        "# Decoder.\n",
        "lstm_autoencoder.add(LSTM(16, activation='relu', return_sequences=True))\n",
        "lstm_autoencoder.add(LSTM(32, activation='relu', return_sequences=True))\n",
        "lstm_autoencoder.add(TimeDistributed(Dense(n_features)))\n",
        "\n",
        "lstm_autoencoder.summary()"
      ],
      "execution_count": 25,
      "outputs": [
        {
          "output_type": "stream",
          "text": [
            "WARNING: Logging before flag parsing goes to stderr.\n",
            "W0810 22:27:18.640480 140310920447872 deprecation_wrapper.py:119] From /usr/local/lib/python3.6/dist-packages/keras/backend/tensorflow_backend.py:74: The name tf.get_default_graph is deprecated. Please use tf.compat.v1.get_default_graph instead.\n",
            "\n",
            "W0810 22:27:18.644456 140310920447872 deprecation_wrapper.py:119] From /usr/local/lib/python3.6/dist-packages/keras/backend/tensorflow_backend.py:517: The name tf.placeholder is deprecated. Please use tf.compat.v1.placeholder instead.\n",
            "\n",
            "W0810 22:27:18.656342 140310920447872 deprecation_wrapper.py:119] From /usr/local/lib/python3.6/dist-packages/keras/backend/tensorflow_backend.py:4138: The name tf.random_uniform is deprecated. Please use tf.random.uniform instead.\n",
            "\n"
          ],
          "name": "stderr"
        },
        {
          "output_type": "stream",
          "text": [
            "_________________________________________________________________\n",
            "Layer (type)                 Output Shape              Param #   \n",
            "=================================================================\n",
            "lstm_1 (LSTM)                (None, 5, 32)             8576      \n",
            "_________________________________________________________________\n",
            "lstm_2 (LSTM)                (None, 16)                3136      \n",
            "_________________________________________________________________\n",
            "repeat_vector_1 (RepeatVecto (None, 5, 16)             0         \n",
            "_________________________________________________________________\n",
            "lstm_3 (LSTM)                (None, 5, 16)             2112      \n",
            "_________________________________________________________________\n",
            "lstm_4 (LSTM)                (None, 5, 32)             6272      \n",
            "_________________________________________________________________\n",
            "time_distributed_1 (TimeDist (None, 5, 34)             1122      \n",
            "=================================================================\n",
            "Total params: 21,218\n",
            "Trainable params: 21,218\n",
            "Non-trainable params: 0\n",
            "_________________________________________________________________\n"
          ],
          "name": "stdout"
        }
      ]
    },
    {
      "cell_type": "markdown",
      "metadata": {
        "id": "eClUrTjiyyzy",
        "colab_type": "text"
      },
      "source": [
        "As a rule-of-thumb, look at the number of parameters. If not using any regularization, keep this less than the number of samples. If using regularization, depending on the degree of regularization you can let more parameters in the model that is greater than the sample size. For example, if using dropout with 0.5, you can have up to double the sample size (loosely speaking)."
      ]
    },
    {
      "cell_type": "code",
      "metadata": {
        "id": "xCGKhCicyyzz",
        "colab_type": "code",
        "outputId": "8d591607-7ee3-41f0-93b2-e5435514e48c",
        "colab": {
          "base_uri": "https://localhost:8080/",
          "height": 1000
        }
      },
      "source": [
        "filepath = path + 'LSTM_autoencoder.h5'\n",
        "\n",
        "# Gradient descent optimization.\n",
        "optimizer = Adam(lr=learning_rate, clipnorm=1., clipvalue=0.5)\n",
        "\n",
        "# Training configuration.\n",
        "lstm_autoencoder.compile(loss='mean_squared_error', optimizer=optimizer)\n",
        "\n",
        "# Save model weights after each epoch if validation loss decreased.\n",
        "checkpointer = ModelCheckpoint(filepath=filepath, save_best_only=True, verbose=1)\n",
        "\n",
        "# Control learning rate schedule when validation is not improving.\n",
        "reduce_lr = ReduceLROnPlateau(factor=0.5, patience=2, verbose=1, min_lr=learning_rate / 1000)\n",
        "\n",
        "# Various graphics.\n",
        "tbc = TensorBoardColab()\n",
        "\n",
        "# Shouldn't happen.\n",
        "term_on_NaN = TerminateOnNaN()\n",
        "\n",
        "lstm_autoencoder_history = lstm_autoencoder.fit(X_train_y0_scaled, \n",
        "                                                X_train_y0_scaled, \n",
        "                                                epochs=epochs, \n",
        "                                                batch_size=batch, \n",
        "                                                validation_data=(X_valid_y0_scaled, \n",
        "                                                                 X_valid_y0_scaled), \n",
        "                                                callbacks=[checkpointer, \n",
        "                                                           reduce_lr, \n",
        "                                                           TensorBoardColabCallback(tbc), \n",
        "                                                           term_on_NaN], \n",
        "                                                verbose=1).history"
      ],
      "execution_count": 26,
      "outputs": [
        {
          "output_type": "stream",
          "text": [
            "W0810 22:27:19.557625 140310920447872 deprecation_wrapper.py:119] From /usr/local/lib/python3.6/dist-packages/keras/optimizers.py:790: The name tf.train.Optimizer is deprecated. Please use tf.compat.v1.train.Optimizer instead.\n",
            "\n"
          ],
          "name": "stderr"
        },
        {
          "output_type": "stream",
          "text": [
            "Wait for 8 seconds...\n",
            "TensorBoard link:\n",
            "https://23955b5f.ngrok.io\n"
          ],
          "name": "stdout"
        },
        {
          "output_type": "stream",
          "text": [
            "W0810 22:27:37.186484 140310920447872 deprecation.py:323] From /usr/local/lib/python3.6/dist-packages/tensorflow/python/ops/math_grad.py:1250: add_dispatch_support.<locals>.wrapper (from tensorflow.python.ops.array_ops) is deprecated and will be removed in a future version.\n",
            "Instructions for updating:\n",
            "Use tf.where in 2.0, which has the same broadcast rule as np.where\n",
            "W0810 22:27:40.254329 140310920447872 deprecation_wrapper.py:119] From /usr/local/lib/python3.6/dist-packages/keras/backend/tensorflow_backend.py:986: The name tf.assign_add is deprecated. Please use tf.compat.v1.assign_add instead.\n",
            "\n",
            "W0810 22:27:40.461180 140310920447872 deprecation_wrapper.py:119] From /usr/local/lib/python3.6/dist-packages/keras/backend/tensorflow_backend.py:973: The name tf.assign is deprecated. Please use tf.compat.v1.assign instead.\n",
            "\n",
            "W0810 22:27:40.668860 140310920447872 deprecation_wrapper.py:119] From /usr/local/lib/python3.6/dist-packages/tensorboardcolab/core.py:49: The name tf.summary.FileWriter is deprecated. Please use tf.compat.v1.summary.FileWriter instead.\n",
            "\n"
          ],
          "name": "stderr"
        },
        {
          "output_type": "stream",
          "text": [
            "Train on 1123 samples, validate on 275 samples\n"
          ],
          "name": "stdout"
        },
        {
          "output_type": "stream",
          "text": [
            "W0810 22:27:41.310698 140310920447872 deprecation_wrapper.py:119] From /usr/local/lib/python3.6/dist-packages/keras/callbacks.py:850: The name tf.summary.merge_all is deprecated. Please use tf.compat.v1.summary.merge_all instead.\n",
            "\n"
          ],
          "name": "stderr"
        },
        {
          "output_type": "stream",
          "text": [
            "Epoch 1/100\n",
            "1123/1123 [==============================] - 4s 4ms/step - loss: 0.9445 - val_loss: 0.9073\n",
            "\n",
            "Epoch 00001: val_loss improved from inf to 0.90728, saving model to /content/gdrive/My Drive/LSTM_autoencoder/LSTM_autoencoder.h5\n",
            "Epoch 2/100\n",
            "1123/1123 [==============================] - 1s 1ms/step - loss: 0.7785 - val_loss: 0.7893\n",
            "\n",
            "Epoch 00002: val_loss improved from 0.90728 to 0.78935, saving model to /content/gdrive/My Drive/LSTM_autoencoder/LSTM_autoencoder.h5\n",
            "Epoch 3/100\n",
            "1123/1123 [==============================] - 1s 1ms/step - loss: 0.7077 - val_loss: 0.7425\n",
            "\n",
            "Epoch 00003: val_loss improved from 0.78935 to 0.74255, saving model to /content/gdrive/My Drive/LSTM_autoencoder/LSTM_autoencoder.h5\n",
            "Epoch 4/100\n",
            "1123/1123 [==============================] - 1s 1ms/step - loss: 0.6692 - val_loss: 0.7176\n",
            "\n",
            "Epoch 00004: val_loss improved from 0.74255 to 0.71759, saving model to /content/gdrive/My Drive/LSTM_autoencoder/LSTM_autoencoder.h5\n",
            "Epoch 5/100\n",
            "1123/1123 [==============================] - 1s 1ms/step - loss: 0.6383 - val_loss: 0.6793\n",
            "\n",
            "Epoch 00005: val_loss improved from 0.71759 to 0.67928, saving model to /content/gdrive/My Drive/LSTM_autoencoder/LSTM_autoencoder.h5\n",
            "Epoch 6/100\n",
            "1123/1123 [==============================] - 1s 1ms/step - loss: 0.6072 - val_loss: 0.6549\n",
            "\n",
            "Epoch 00006: val_loss improved from 0.67928 to 0.65494, saving model to /content/gdrive/My Drive/LSTM_autoencoder/LSTM_autoencoder.h5\n",
            "Epoch 7/100\n",
            "1123/1123 [==============================] - 1s 1ms/step - loss: 0.5827 - val_loss: 0.6331\n",
            "\n",
            "Epoch 00007: val_loss improved from 0.65494 to 0.63308, saving model to /content/gdrive/My Drive/LSTM_autoencoder/LSTM_autoencoder.h5\n",
            "Epoch 8/100\n",
            "1123/1123 [==============================] - 1s 1ms/step - loss: 0.5625 - val_loss: 0.6369\n",
            "\n",
            "Epoch 00008: val_loss did not improve from 0.63308\n",
            "Epoch 9/100\n",
            "1123/1123 [==============================] - 1s 1ms/step - loss: 0.5462 - val_loss: 0.6117\n",
            "\n",
            "Epoch 00009: val_loss improved from 0.63308 to 0.61172, saving model to /content/gdrive/My Drive/LSTM_autoencoder/LSTM_autoencoder.h5\n",
            "Epoch 10/100\n",
            "1123/1123 [==============================] - 1s 1ms/step - loss: 0.5329 - val_loss: 0.5896\n",
            "\n",
            "Epoch 00010: val_loss improved from 0.61172 to 0.58963, saving model to /content/gdrive/My Drive/LSTM_autoencoder/LSTM_autoencoder.h5\n",
            "Epoch 11/100\n",
            "1123/1123 [==============================] - 1s 1ms/step - loss: 0.5216 - val_loss: 0.5784\n",
            "\n",
            "Epoch 00011: val_loss improved from 0.58963 to 0.57836, saving model to /content/gdrive/My Drive/LSTM_autoencoder/LSTM_autoencoder.h5\n",
            "Epoch 12/100\n",
            "1123/1123 [==============================] - 1s 1ms/step - loss: 0.5120 - val_loss: 0.5755\n",
            "\n",
            "Epoch 00012: val_loss improved from 0.57836 to 0.57554, saving model to /content/gdrive/My Drive/LSTM_autoencoder/LSTM_autoencoder.h5\n",
            "Epoch 13/100\n",
            "1123/1123 [==============================] - 1s 1ms/step - loss: 0.5040 - val_loss: 0.5654\n",
            "\n",
            "Epoch 00013: val_loss improved from 0.57554 to 0.56543, saving model to /content/gdrive/My Drive/LSTM_autoencoder/LSTM_autoencoder.h5\n",
            "Epoch 14/100\n",
            "1123/1123 [==============================] - 1s 1ms/step - loss: 0.4954 - val_loss: 0.5533\n",
            "\n",
            "Epoch 00014: val_loss improved from 0.56543 to 0.55330, saving model to /content/gdrive/My Drive/LSTM_autoencoder/LSTM_autoencoder.h5\n",
            "Epoch 15/100\n",
            "1123/1123 [==============================] - 1s 1ms/step - loss: 0.4879 - val_loss: 0.5687\n",
            "\n",
            "Epoch 00015: val_loss did not improve from 0.55330\n",
            "Epoch 16/100\n",
            "1123/1123 [==============================] - 1s 1ms/step - loss: 0.4816 - val_loss: 0.5397\n",
            "\n",
            "Epoch 00016: val_loss improved from 0.55330 to 0.53967, saving model to /content/gdrive/My Drive/LSTM_autoencoder/LSTM_autoencoder.h5\n",
            "Epoch 17/100\n",
            "1123/1123 [==============================] - 1s 1ms/step - loss: 0.4737 - val_loss: 0.5344\n",
            "\n",
            "Epoch 00017: val_loss improved from 0.53967 to 0.53441, saving model to /content/gdrive/My Drive/LSTM_autoencoder/LSTM_autoencoder.h5\n",
            "Epoch 18/100\n",
            "1123/1123 [==============================] - 1s 1ms/step - loss: 0.4672 - val_loss: 0.5465\n",
            "\n",
            "Epoch 00018: val_loss did not improve from 0.53441\n",
            "Epoch 19/100\n",
            "1123/1123 [==============================] - 1s 1ms/step - loss: 0.4632 - val_loss: 0.5235\n",
            "\n",
            "Epoch 00019: val_loss improved from 0.53441 to 0.52354, saving model to /content/gdrive/My Drive/LSTM_autoencoder/LSTM_autoencoder.h5\n",
            "Epoch 20/100\n",
            "1123/1123 [==============================] - 1s 1ms/step - loss: 0.4590 - val_loss: 0.5197\n",
            "\n",
            "Epoch 00020: val_loss improved from 0.52354 to 0.51965, saving model to /content/gdrive/My Drive/LSTM_autoencoder/LSTM_autoencoder.h5\n",
            "Epoch 21/100\n",
            "1123/1123 [==============================] - 1s 1ms/step - loss: 0.4541 - val_loss: 0.5188\n",
            "\n",
            "Epoch 00021: val_loss improved from 0.51965 to 0.51881, saving model to /content/gdrive/My Drive/LSTM_autoencoder/LSTM_autoencoder.h5\n",
            "Epoch 22/100\n",
            "1123/1123 [==============================] - 1s 1ms/step - loss: 0.4496 - val_loss: 0.5119\n",
            "\n",
            "Epoch 00022: val_loss improved from 0.51881 to 0.51188, saving model to /content/gdrive/My Drive/LSTM_autoencoder/LSTM_autoencoder.h5\n",
            "Epoch 23/100\n",
            "1123/1123 [==============================] - 1s 1ms/step - loss: 0.4452 - val_loss: 0.5100\n",
            "\n",
            "Epoch 00023: val_loss improved from 0.51188 to 0.51002, saving model to /content/gdrive/My Drive/LSTM_autoencoder/LSTM_autoencoder.h5\n",
            "Epoch 24/100\n",
            "1123/1123 [==============================] - 1s 1ms/step - loss: 0.4416 - val_loss: 0.5004\n",
            "\n",
            "Epoch 00024: val_loss improved from 0.51002 to 0.50040, saving model to /content/gdrive/My Drive/LSTM_autoencoder/LSTM_autoencoder.h5\n",
            "Epoch 25/100\n",
            "1123/1123 [==============================] - 1s 1ms/step - loss: 0.4353 - val_loss: 0.5199\n",
            "\n",
            "Epoch 00025: val_loss did not improve from 0.50040\n",
            "Epoch 26/100\n",
            "1123/1123 [==============================] - 1s 1ms/step - loss: 0.4313 - val_loss: 0.5009\n",
            "\n",
            "Epoch 00026: val_loss did not improve from 0.50040\n",
            "\n",
            "Epoch 00026: ReduceLROnPlateau reducing learning rate to 0.0005000000237487257.\n",
            "Epoch 27/100\n",
            "1123/1123 [==============================] - 1s 1ms/step - loss: 0.4212 - val_loss: 0.4939\n",
            "\n",
            "Epoch 00027: val_loss improved from 0.50040 to 0.49392, saving model to /content/gdrive/My Drive/LSTM_autoencoder/LSTM_autoencoder.h5\n",
            "Epoch 28/100\n",
            "1123/1123 [==============================] - 1s 1ms/step - loss: 0.4149 - val_loss: 0.4885\n",
            "\n",
            "Epoch 00028: val_loss improved from 0.49392 to 0.48853, saving model to /content/gdrive/My Drive/LSTM_autoencoder/LSTM_autoencoder.h5\n",
            "Epoch 29/100\n",
            "1123/1123 [==============================] - 1s 1ms/step - loss: 0.4125 - val_loss: 0.4882\n",
            "\n",
            "Epoch 00029: val_loss improved from 0.48853 to 0.48818, saving model to /content/gdrive/My Drive/LSTM_autoencoder/LSTM_autoencoder.h5\n",
            "Epoch 30/100\n",
            "1123/1123 [==============================] - 1s 1ms/step - loss: 0.4099 - val_loss: 0.4881\n",
            "\n",
            "Epoch 00030: val_loss improved from 0.48818 to 0.48809, saving model to /content/gdrive/My Drive/LSTM_autoencoder/LSTM_autoencoder.h5\n",
            "Epoch 31/100\n",
            "1123/1123 [==============================] - 1s 1ms/step - loss: 0.4072 - val_loss: 0.4837\n",
            "\n",
            "Epoch 00031: val_loss improved from 0.48809 to 0.48375, saving model to /content/gdrive/My Drive/LSTM_autoencoder/LSTM_autoencoder.h5\n",
            "Epoch 32/100\n",
            "1123/1123 [==============================] - 1s 1ms/step - loss: 0.4050 - val_loss: 0.4865\n",
            "\n",
            "Epoch 00032: val_loss did not improve from 0.48375\n",
            "Epoch 33/100\n",
            "1123/1123 [==============================] - 1s 1ms/step - loss: 0.4035 - val_loss: 0.4848\n",
            "\n",
            "Epoch 00033: val_loss did not improve from 0.48375\n",
            "\n",
            "Epoch 00033: ReduceLROnPlateau reducing learning rate to 0.0002500000118743628.\n",
            "Epoch 34/100\n",
            "1123/1123 [==============================] - 1s 1ms/step - loss: 0.3979 - val_loss: 0.4775\n",
            "\n",
            "Epoch 00034: val_loss improved from 0.48375 to 0.47754, saving model to /content/gdrive/My Drive/LSTM_autoencoder/LSTM_autoencoder.h5\n",
            "Epoch 35/100\n",
            "1123/1123 [==============================] - 1s 1ms/step - loss: 0.3956 - val_loss: 0.4807\n",
            "\n",
            "Epoch 00035: val_loss did not improve from 0.47754\n",
            "Epoch 36/100\n",
            "1123/1123 [==============================] - 1s 1ms/step - loss: 0.3943 - val_loss: 0.4817\n",
            "\n",
            "Epoch 00036: val_loss did not improve from 0.47754\n",
            "\n",
            "Epoch 00036: ReduceLROnPlateau reducing learning rate to 0.0001250000059371814.\n",
            "Epoch 37/100\n",
            "1123/1123 [==============================] - 1s 1ms/step - loss: 0.3922 - val_loss: 0.4791\n",
            "\n",
            "Epoch 00037: val_loss did not improve from 0.47754\n",
            "Epoch 38/100\n",
            "1123/1123 [==============================] - 1s 1ms/step - loss: 0.3908 - val_loss: 0.4796\n",
            "\n",
            "Epoch 00038: val_loss did not improve from 0.47754\n",
            "\n",
            "Epoch 00038: ReduceLROnPlateau reducing learning rate to 6.25000029685907e-05.\n",
            "Epoch 39/100\n",
            "1123/1123 [==============================] - 1s 1ms/step - loss: 0.3893 - val_loss: 0.4778\n",
            "\n",
            "Epoch 00039: val_loss did not improve from 0.47754\n",
            "Epoch 40/100\n",
            "1123/1123 [==============================] - 1s 1ms/step - loss: 0.3889 - val_loss: 0.4797\n",
            "\n",
            "Epoch 00040: val_loss did not improve from 0.47754\n",
            "\n",
            "Epoch 00040: ReduceLROnPlateau reducing learning rate to 3.125000148429535e-05.\n",
            "Epoch 41/100\n",
            "1123/1123 [==============================] - 1s 1ms/step - loss: 0.3883 - val_loss: 0.4780\n",
            "\n",
            "Epoch 00041: val_loss did not improve from 0.47754\n",
            "Epoch 42/100\n",
            "1123/1123 [==============================] - 1s 1ms/step - loss: 0.3880 - val_loss: 0.4784\n",
            "\n",
            "Epoch 00042: val_loss did not improve from 0.47754\n",
            "\n",
            "Epoch 00042: ReduceLROnPlateau reducing learning rate to 1.5625000742147677e-05.\n",
            "Epoch 43/100\n",
            "1123/1123 [==============================] - 1s 1ms/step - loss: 0.3877 - val_loss: 0.4783\n",
            "\n",
            "Epoch 00043: val_loss did not improve from 0.47754\n",
            "Epoch 44/100\n",
            "1123/1123 [==============================] - 1s 1ms/step - loss: 0.3876 - val_loss: 0.4782\n",
            "\n",
            "Epoch 00044: val_loss did not improve from 0.47754\n",
            "\n",
            "Epoch 00044: ReduceLROnPlateau reducing learning rate to 7.812500371073838e-06.\n",
            "Epoch 45/100\n",
            "1123/1123 [==============================] - 1s 1ms/step - loss: 0.3874 - val_loss: 0.4781\n",
            "\n",
            "Epoch 00045: val_loss did not improve from 0.47754\n",
            "Epoch 46/100\n",
            "1123/1123 [==============================] - 1s 1ms/step - loss: 0.3873 - val_loss: 0.4782\n",
            "\n",
            "Epoch 00046: val_loss did not improve from 0.47754\n",
            "\n",
            "Epoch 00046: ReduceLROnPlateau reducing learning rate to 3.906250185536919e-06.\n",
            "Epoch 47/100\n",
            "1123/1123 [==============================] - 1s 1ms/step - loss: 0.3872 - val_loss: 0.4781\n",
            "\n",
            "Epoch 00047: val_loss did not improve from 0.47754\n",
            "Epoch 48/100\n",
            "1123/1123 [==============================] - 1s 1ms/step - loss: 0.3872 - val_loss: 0.4781\n",
            "\n",
            "Epoch 00048: val_loss did not improve from 0.47754\n",
            "\n",
            "Epoch 00048: ReduceLROnPlateau reducing learning rate to 1.9531250927684596e-06.\n",
            "Epoch 49/100\n",
            "1123/1123 [==============================] - 1s 1ms/step - loss: 0.3872 - val_loss: 0.4781\n",
            "\n",
            "Epoch 00049: val_loss did not improve from 0.47754\n",
            "Epoch 50/100\n",
            "1123/1123 [==============================] - 1s 1ms/step - loss: 0.3871 - val_loss: 0.4781\n",
            "\n",
            "Epoch 00050: val_loss did not improve from 0.47754\n",
            "\n",
            "Epoch 00050: ReduceLROnPlateau reducing learning rate to 1e-06.\n",
            "Epoch 51/100\n",
            "1123/1123 [==============================] - 1s 1ms/step - loss: 0.3871 - val_loss: 0.4781\n",
            "\n",
            "Epoch 00051: val_loss did not improve from 0.47754\n",
            "Epoch 52/100\n",
            "1123/1123 [==============================] - 1s 1ms/step - loss: 0.3871 - val_loss: 0.4781\n",
            "\n",
            "Epoch 00052: val_loss did not improve from 0.47754\n",
            "Epoch 53/100\n",
            "1123/1123 [==============================] - 1s 1ms/step - loss: 0.3871 - val_loss: 0.4781\n",
            "\n",
            "Epoch 00053: val_loss did not improve from 0.47754\n",
            "Epoch 54/100\n",
            "1123/1123 [==============================] - 1s 1ms/step - loss: 0.3871 - val_loss: 0.4781\n",
            "\n",
            "Epoch 00054: val_loss did not improve from 0.47754\n",
            "Epoch 55/100\n",
            "1123/1123 [==============================] - 1s 1ms/step - loss: 0.3871 - val_loss: 0.4781\n",
            "\n",
            "Epoch 00055: val_loss did not improve from 0.47754\n",
            "Epoch 56/100\n",
            "1123/1123 [==============================] - 1s 1ms/step - loss: 0.3871 - val_loss: 0.4781\n",
            "\n",
            "Epoch 00056: val_loss did not improve from 0.47754\n",
            "Epoch 57/100\n",
            "1123/1123 [==============================] - 1s 1ms/step - loss: 0.3871 - val_loss: 0.4781\n",
            "\n",
            "Epoch 00057: val_loss did not improve from 0.47754\n",
            "Epoch 58/100\n",
            "1123/1123 [==============================] - 1s 1ms/step - loss: 0.3871 - val_loss: 0.4781\n",
            "\n",
            "Epoch 00058: val_loss did not improve from 0.47754\n",
            "Epoch 59/100\n",
            "1123/1123 [==============================] - 1s 1ms/step - loss: 0.3871 - val_loss: 0.4781\n",
            "\n",
            "Epoch 00059: val_loss did not improve from 0.47754\n",
            "Epoch 60/100\n",
            "1123/1123 [==============================] - 1s 1ms/step - loss: 0.3871 - val_loss: 0.4781\n",
            "\n",
            "Epoch 00060: val_loss did not improve from 0.47754\n",
            "Epoch 61/100\n",
            "1123/1123 [==============================] - 1s 1ms/step - loss: 0.3871 - val_loss: 0.4781\n",
            "\n",
            "Epoch 00061: val_loss did not improve from 0.47754\n",
            "Epoch 62/100\n",
            "1123/1123 [==============================] - 1s 1ms/step - loss: 0.3871 - val_loss: 0.4781\n",
            "\n",
            "Epoch 00062: val_loss did not improve from 0.47754\n",
            "Epoch 63/100\n",
            "1123/1123 [==============================] - 1s 1ms/step - loss: 0.3871 - val_loss: 0.4781\n",
            "\n",
            "Epoch 00063: val_loss did not improve from 0.47754\n",
            "Epoch 64/100\n",
            "1123/1123 [==============================] - 1s 1ms/step - loss: 0.3870 - val_loss: 0.4781\n",
            "\n",
            "Epoch 00064: val_loss did not improve from 0.47754\n",
            "Epoch 65/100\n",
            "1123/1123 [==============================] - 1s 1ms/step - loss: 0.3870 - val_loss: 0.4781\n",
            "\n",
            "Epoch 00065: val_loss did not improve from 0.47754\n",
            "Epoch 66/100\n",
            "1123/1123 [==============================] - 1s 1ms/step - loss: 0.3870 - val_loss: 0.4781\n",
            "\n",
            "Epoch 00066: val_loss did not improve from 0.47754\n",
            "Epoch 67/100\n",
            "1123/1123 [==============================] - 1s 1ms/step - loss: 0.3870 - val_loss: 0.4781\n",
            "\n",
            "Epoch 00067: val_loss did not improve from 0.47754\n",
            "Epoch 68/100\n",
            "1123/1123 [==============================] - 1s 1ms/step - loss: 0.3870 - val_loss: 0.4781\n",
            "\n",
            "Epoch 00068: val_loss did not improve from 0.47754\n",
            "Epoch 69/100\n",
            "1123/1123 [==============================] - 1s 1ms/step - loss: 0.3870 - val_loss: 0.4781\n",
            "\n",
            "Epoch 00069: val_loss did not improve from 0.47754\n",
            "Epoch 70/100\n",
            "1123/1123 [==============================] - 1s 1ms/step - loss: 0.3870 - val_loss: 0.4781\n",
            "\n",
            "Epoch 00070: val_loss did not improve from 0.47754\n",
            "Epoch 71/100\n",
            "1123/1123 [==============================] - 1s 1ms/step - loss: 0.3870 - val_loss: 0.4781\n",
            "\n",
            "Epoch 00071: val_loss did not improve from 0.47754\n",
            "Epoch 72/100\n",
            "1123/1123 [==============================] - 1s 1ms/step - loss: 0.3870 - val_loss: 0.4780\n",
            "\n",
            "Epoch 00072: val_loss did not improve from 0.47754\n",
            "Epoch 73/100\n",
            "1123/1123 [==============================] - 1s 1ms/step - loss: 0.3870 - val_loss: 0.4781\n",
            "\n",
            "Epoch 00073: val_loss did not improve from 0.47754\n",
            "Epoch 74/100\n",
            "1123/1123 [==============================] - 1s 1ms/step - loss: 0.3870 - val_loss: 0.4780\n",
            "\n",
            "Epoch 00074: val_loss did not improve from 0.47754\n",
            "Epoch 75/100\n",
            "1123/1123 [==============================] - 1s 1ms/step - loss: 0.3870 - val_loss: 0.4780\n",
            "\n",
            "Epoch 00075: val_loss did not improve from 0.47754\n",
            "Epoch 76/100\n",
            "1123/1123 [==============================] - 1s 1ms/step - loss: 0.3870 - val_loss: 0.4780\n",
            "\n",
            "Epoch 00076: val_loss did not improve from 0.47754\n",
            "Epoch 77/100\n",
            "1123/1123 [==============================] - 1s 1ms/step - loss: 0.3870 - val_loss: 0.4780\n",
            "\n",
            "Epoch 00077: val_loss did not improve from 0.47754\n",
            "Epoch 78/100\n",
            "1123/1123 [==============================] - 1s 1ms/step - loss: 0.3870 - val_loss: 0.4780\n",
            "\n",
            "Epoch 00078: val_loss did not improve from 0.47754\n",
            "Epoch 79/100\n",
            "1123/1123 [==============================] - 1s 1ms/step - loss: 0.3870 - val_loss: 0.4780\n",
            "\n",
            "Epoch 00079: val_loss did not improve from 0.47754\n",
            "Epoch 80/100\n",
            "1123/1123 [==============================] - 1s 1ms/step - loss: 0.3870 - val_loss: 0.4780\n",
            "\n",
            "Epoch 00080: val_loss did not improve from 0.47754\n",
            "Epoch 81/100\n",
            "1123/1123 [==============================] - 1s 1ms/step - loss: 0.3869 - val_loss: 0.4780\n",
            "\n",
            "Epoch 00081: val_loss did not improve from 0.47754\n",
            "Epoch 82/100\n",
            "1123/1123 [==============================] - 1s 1ms/step - loss: 0.3869 - val_loss: 0.4780\n",
            "\n",
            "Epoch 00082: val_loss did not improve from 0.47754\n",
            "Epoch 83/100\n",
            "1123/1123 [==============================] - 1s 1ms/step - loss: 0.3869 - val_loss: 0.4780\n",
            "\n",
            "Epoch 00083: val_loss did not improve from 0.47754\n",
            "Epoch 84/100\n",
            "1123/1123 [==============================] - 1s 1ms/step - loss: 0.3869 - val_loss: 0.4780\n",
            "\n",
            "Epoch 00084: val_loss did not improve from 0.47754\n",
            "Epoch 85/100\n",
            "1123/1123 [==============================] - 1s 1ms/step - loss: 0.3869 - val_loss: 0.4780\n",
            "\n",
            "Epoch 00085: val_loss did not improve from 0.47754\n",
            "Epoch 86/100\n",
            "1123/1123 [==============================] - 1s 1ms/step - loss: 0.3869 - val_loss: 0.4780\n",
            "\n",
            "Epoch 00086: val_loss did not improve from 0.47754\n",
            "Epoch 87/100\n",
            "1123/1123 [==============================] - 1s 1ms/step - loss: 0.3869 - val_loss: 0.4780\n",
            "\n",
            "Epoch 00087: val_loss did not improve from 0.47754\n",
            "Epoch 88/100\n",
            "1123/1123 [==============================] - 1s 1ms/step - loss: 0.3869 - val_loss: 0.4780\n",
            "\n",
            "Epoch 00088: val_loss did not improve from 0.47754\n",
            "Epoch 89/100\n",
            "1123/1123 [==============================] - 1s 1ms/step - loss: 0.3869 - val_loss: 0.4780\n",
            "\n",
            "Epoch 00089: val_loss did not improve from 0.47754\n",
            "Epoch 90/100\n",
            "1123/1123 [==============================] - 1s 1ms/step - loss: 0.3869 - val_loss: 0.4780\n",
            "\n",
            "Epoch 00090: val_loss did not improve from 0.47754\n",
            "Epoch 91/100\n",
            "1123/1123 [==============================] - 1s 1ms/step - loss: 0.3869 - val_loss: 0.4780\n",
            "\n",
            "Epoch 00091: val_loss did not improve from 0.47754\n",
            "Epoch 92/100\n",
            "1123/1123 [==============================] - 1s 1ms/step - loss: 0.3869 - val_loss: 0.4780\n",
            "\n",
            "Epoch 00092: val_loss did not improve from 0.47754\n",
            "Epoch 93/100\n",
            "1123/1123 [==============================] - 1s 1ms/step - loss: 0.3869 - val_loss: 0.4780\n",
            "\n",
            "Epoch 00093: val_loss did not improve from 0.47754\n",
            "Epoch 94/100\n",
            "1123/1123 [==============================] - 1s 1ms/step - loss: 0.3869 - val_loss: 0.4780\n",
            "\n",
            "Epoch 00094: val_loss did not improve from 0.47754\n",
            "Epoch 95/100\n",
            "1123/1123 [==============================] - 1s 1ms/step - loss: 0.3869 - val_loss: 0.4780\n",
            "\n",
            "Epoch 00095: val_loss did not improve from 0.47754\n",
            "Epoch 96/100\n",
            "1123/1123 [==============================] - 1s 1ms/step - loss: 0.3869 - val_loss: 0.4780\n",
            "\n",
            "Epoch 00096: val_loss did not improve from 0.47754\n",
            "Epoch 97/100\n",
            "1123/1123 [==============================] - 1s 1ms/step - loss: 0.3869 - val_loss: 0.4780\n",
            "\n",
            "Epoch 00097: val_loss did not improve from 0.47754\n",
            "Epoch 98/100\n",
            "1123/1123 [==============================] - 1s 1ms/step - loss: 0.3868 - val_loss: 0.4780\n",
            "\n",
            "Epoch 00098: val_loss did not improve from 0.47754\n",
            "Epoch 99/100\n",
            "1123/1123 [==============================] - 1s 1ms/step - loss: 0.3868 - val_loss: 0.4779\n",
            "\n",
            "Epoch 00099: val_loss did not improve from 0.47754\n",
            "Epoch 100/100\n",
            "1123/1123 [==============================] - 1s 1ms/step - loss: 0.3868 - val_loss: 0.4780\n",
            "\n",
            "Epoch 00100: val_loss did not improve from 0.47754\n"
          ],
          "name": "stdout"
        }
      ]
    },
    {
      "cell_type": "code",
      "metadata": {
        "id": "cxtGGYuHyyz2",
        "colab_type": "code",
        "outputId": "9aeb23b5-735a-4f72-d784-ad744de9e513",
        "colab": {
          "base_uri": "https://localhost:8080/",
          "height": 404
        }
      },
      "source": [
        "plt.plot(lstm_autoencoder_history['loss'], linewidth=2, label='Train')\n",
        "plt.plot(lstm_autoencoder_history['val_loss'], linewidth=2, label='Valid')\n",
        "plt.legend(loc='upper right')\n",
        "plt.title('Model loss')\n",
        "plt.ylabel('Loss')\n",
        "plt.xlabel('Epoch')\n",
        "plt.show()"
      ],
      "execution_count": 27,
      "outputs": [
        {
          "output_type": "display_data",
          "data": {
            "image/png": "[encoded data removed]",
            "text/plain": [
              "<Figure size 576x432 with 1 Axes>"
            ]
          },
          "metadata": {
            "tags": []
          }
        }
      ]
    },
    {
      "cell_type": "markdown",
      "metadata": {
        "id": "OScEKx1Pyyz7",
        "colab_type": "text"
      },
      "source": [
        "### Sanity check\n",
        "Doing a sanity check by validating the reconstruction error \n",
        "on the train data. Here we will reconstruct the entire train \n",
        "data with both 0 and 1 labels.\n",
        "\n",
        "**Expectation**: the reconstruction error of 0 labeled data should\n",
        "be smaller than 1.\n",
        "\n",
        "**Caution**: do not use this result for model evaluation. It may\n",
        "result into overfitting issues."
      ]
    },
    {
      "cell_type": "code",
      "metadata": {
        "id": "PbAw7kQDyyz8",
        "colab_type": "code",
        "outputId": "ad4f2383-bbe0-47fc-dd87-611dad69f890",
        "colab": {
          "base_uri": "https://localhost:8080/",
          "height": 404
        }
      },
      "source": [
        "train_x_predictions = lstm_autoencoder.predict(X_train_scaled)\n",
        "mse = mean(power(flatten(X_train_scaled) - flatten(train_x_predictions), 2), axis=1)\n",
        "\n",
        "error_df = DataFrame({'Reconstruction_error': mse,\n",
        "                       'True_class': y_train.tolist()})\n",
        "\n",
        "groups = error_df.groupby('True_class')\n",
        "fig, ax = plt.subplots()\n",
        "\n",
        "for name, group in groups:\n",
        "    ax.plot(group.index, group.Reconstruction_error, marker='o', ms=3.5, linestyle='',\n",
        "            label = 'Break' if name == 1 else 'Normal')\n",
        "ax.legend()\n",
        "plt.title('Reconstruction error for different classes')\n",
        "plt.ylabel('Reconstruction error')\n",
        "plt.xlabel('Data point index')\n",
        "plt.show();"
      ],
      "execution_count": 28,
      "outputs": [
        {
          "output_type": "display_data",
          "data": {
            "image/png": "[encoded data removed]",
            "text/plain": [
              "<Figure size 576x432 with 1 Axes>"
            ]
          },
          "metadata": {
            "tags": []
          }
        }
      ]
    },
    {
      "cell_type": "markdown",
      "metadata": {
        "id": "ayrKThIyyy0A",
        "colab_type": "text"
      },
      "source": [
        "## Predictions using the Autoencoder"
      ]
    },
    {
      "cell_type": "code",
      "metadata": {
        "id": "hZvmE6JIyy0C",
        "colab_type": "code",
        "outputId": "9c6d7d2a-2412-4d8d-c469-91d73045f9f6",
        "colab": {
          "base_uri": "https://localhost:8080/",
          "height": 404
        }
      },
      "source": [
        "valid_x_predictions = lstm_autoencoder.predict(X_valid_scaled)\n",
        "mse = mean(power(flatten(X_valid_scaled) - flatten(valid_x_predictions), 2), axis=1)\n",
        "\n",
        "error_df = DataFrame({'Reconstruction_error': mse,\n",
        "                        'True_class': y_valid.tolist()})\n",
        "\n",
        "precision_rt, recall_rt, threshold_rt = precision_recall_curve(error_df.True_class, error_df.Reconstruction_error)\n",
        "plt.plot(threshold_rt, precision_rt[1:], label='Precision', linewidth=5)\n",
        "plt.plot(threshold_rt, recall_rt[1:], label='Recall', linewidth=5)\n",
        "plt.title('Precision and recall for different threshold values')\n",
        "plt.xlabel('Threshold')\n",
        "plt.ylabel('Precision/Recall')\n",
        "plt.legend()\n",
        "plt.show()"
      ],
      "execution_count": 29,
      "outputs": [
        {
          "output_type": "display_data",
          "data": {
            "image/png": "[encoded data removed]",
            "text/plain": [
              "<Figure size 576x432 with 1 Axes>"
            ]
          },
          "metadata": {
            "tags": []
          }
        }
      ]
    },
    {
      "cell_type": "code",
      "metadata": {
        "id": "oowOhqFXyy0G",
        "colab_type": "code",
        "outputId": "13f50892-74e0-4cbb-adb9-5a7b4106e50a",
        "colab": {
          "base_uri": "https://localhost:8080/",
          "height": 404
        }
      },
      "source": [
        "test_x_predictions = lstm_autoencoder.predict(X_test_scaled)\n",
        "mse = mean(power(flatten(X_test_scaled) - flatten(test_x_predictions), 2), axis=1)\n",
        "\n",
        "error_df = DataFrame({'Reconstruction_error': mse,\n",
        "                      'True_class': y_test.tolist()})\n",
        "\n",
        "threshold_fixed = 0.3\n",
        "groups = error_df.groupby('True_class')\n",
        "fig, ax = plt.subplots()\n",
        "\n",
        "for name, group in groups:\n",
        "    ax.plot(group.index, group.Reconstruction_error, marker='o', ms=3.5, linestyle='',\n",
        "            label= 'Break' if name == 1 else 'Normal')\n",
        "ax.hlines(threshold_fixed, ax.get_xlim()[0], ax.get_xlim()[1], colors='r', zorder=100, label='Threshold')\n",
        "ax.legend()\n",
        "plt.title('Reconstruction error for different classes')\n",
        "plt.ylabel('Reconstruction error')\n",
        "plt.xlabel('Data point index')\n",
        "plt.show();"
      ],
      "execution_count": 30,
      "outputs": [
        {
          "output_type": "display_data",
          "data": {
            "image/png": "[encoded data removed]",
            "text/plain": [
              "<Figure size 576x432 with 1 Axes>"
            ]
          },
          "metadata": {
            "tags": []
          }
        }
      ]
    },
    {
      "cell_type": "code",
      "metadata": {
        "id": "1UzmkPL0yy0K",
        "colab_type": "code",
        "colab": {}
      },
      "source": [
        "pred_y = [1 if e > threshold_fixed else 0 for e in error_df.Reconstruction_error.values]"
      ],
      "execution_count": 0,
      "outputs": []
    },
    {
      "cell_type": "code",
      "metadata": {
        "id": "BYZpiO7Xyy0L",
        "colab_type": "code",
        "outputId": "14dd745f-9cbe-4ba1-817d-3088a538d2bd",
        "colab": {
          "base_uri": "https://localhost:8080/",
          "height": 404
        }
      },
      "source": [
        "conf_matrix = confusion_matrix(error_df.True_class, pred_y)\n",
        "\n",
        "plt.figure(figsize=(6, 6))\n",
        "sns.heatmap(conf_matrix, xticklabels=LABELS, yticklabels=LABELS, annot=True, fmt=\"d\");\n",
        "plt.title('Confusion matrix')\n",
        "plt.ylabel('True class')\n",
        "plt.xlabel('Predicted class')\n",
        "plt.show()"
      ],
      "execution_count": 32,
      "outputs": [
        {
          "output_type": "display_data",
          "data": {
            "image/png": "[encoded data removed]",
            "text/plain": [
              "<Figure size 432x432 with 2 Axes>"
            ]
          },
          "metadata": {
            "tags": []
          }
        }
      ]
    },
    {
      "cell_type": "code",
      "metadata": {
        "id": "XlMlT2E2yy0O",
        "colab_type": "code",
        "outputId": "3d833164-fbba-4a59-bc70-d4bea47729ac",
        "colab": {
          "base_uri": "https://localhost:8080/",
          "height": 404
        }
      },
      "source": [
        "false_pos_rate, true_pos_rate, thresholds = roc_curve(error_df.True_class, error_df.Reconstruction_error)\n",
        "roc_auc = auc(false_pos_rate, true_pos_rate,)\n",
        "\n",
        "plt.plot(false_pos_rate, true_pos_rate, linewidth=5, label='AUC = %0.3f'% roc_auc)\n",
        "plt.plot([0,1],[0,1], linewidth=5)\n",
        "\n",
        "plt.xlim([-0.01, 1])\n",
        "plt.ylim([0, 1.01])\n",
        "plt.legend(loc='lower right')\n",
        "plt.title('Receiver operating characteristic curve (ROC)')\n",
        "plt.ylabel('True Positive Rate')\n",
        "plt.xlabel('False Positive Rate')\n",
        "plt.show()"
      ],
      "execution_count": 33,
      "outputs": [
        {
          "output_type": "display_data",
          "data": {
            "image/png": "[encoded data removed]",
            "text/plain": [
              "<Figure size 576x432 with 1 Axes>"
            ]
          },
          "metadata": {
            "tags": []
          }
        }
      ]
    }
  ]
}